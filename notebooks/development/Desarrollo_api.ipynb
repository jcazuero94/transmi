{
 "cells": [
  {
   "cell_type": "code",
   "execution_count": 1,
   "metadata": {},
   "outputs": [],
   "source": [
    "import pandas as pd\n",
    "import numpy as np\n",
    "import matplotlib.pyplot as plt\n",
    "import requests\n",
    "from io import StringIO\n",
    "import datetime"
   ]
  },
  {
   "cell_type": "code",
   "execution_count": 2,
   "metadata": {},
   "outputs": [
    {
     "name": "stdout",
     "output_type": "stream",
     "text": [
      "2022-03-29 17:20:58,228 - kedro.framework.session.store - INFO - `read()` not implemented for `BaseSessionStore`. Assuming empty store.\n",
      "2022-03-29 17:20:58,279 - kedro.config.config - INFO - Config from path `/Users/juanazuero/Documents/Transporte/Transmilenio/transmi/conf/local` will override the following existing top-level config keys: dic_estacion_linea_int, dic_estacion_linea_raw, validaciones_troncal, validaciones_troncal_log_int, validaciones_troncal_log_raw\n",
      "2022-03-29 17:20:58,283 - root - INFO - ** Kedro project transmi\n",
      "2022-03-29 17:20:58,284 - root - INFO - Defined global variable `context`, `session`, `catalog` and `pipelines`\n",
      "2022-03-29 17:20:58,320 - blib2to3.pgen2.driver - INFO - Generating grammar tables from /opt/anaconda3/envs/transmilenio/lib/python3.8/site-packages/blib2to3/Grammar.txt\n",
      "2022-03-29 17:20:58,334 - blib2to3.pgen2.driver - INFO - Writing grammar tables to /Users/juanazuero/Library/Caches/black/22.1.0/Grammar3.8.0.final.0.pickle\n",
      "2022-03-29 17:20:58,335 - blib2to3.pgen2.driver - INFO - Writing failed: [Errno 2] No such file or directory: '/Users/juanazuero/Library/Caches/black/22.1.0/tmp__leikkn'\n",
      "2022-03-29 17:20:58,337 - blib2to3.pgen2.driver - INFO - Generating grammar tables from /opt/anaconda3/envs/transmilenio/lib/python3.8/site-packages/blib2to3/PatternGrammar.txt\n",
      "2022-03-29 17:20:58,339 - blib2to3.pgen2.driver - INFO - Writing grammar tables to /Users/juanazuero/Library/Caches/black/22.1.0/PatternGrammar3.8.0.final.0.pickle\n",
      "2022-03-29 17:20:58,339 - blib2to3.pgen2.driver - INFO - Writing failed: [Errno 2] No such file or directory: '/Users/juanazuero/Library/Caches/black/22.1.0/tmp0nt_70cq'\n"
     ]
    },
    {
     "data": {
      "application/javascript": [
       "\n",
       "            setTimeout(function() {\n",
       "                var nbb_cell_id = 2;\n",
       "                var nbb_unformatted_code = \"%matplotlib inline\\n%reload_kedro\\n%load_ext nb_black\";\n",
       "                var nbb_formatted_code = \"%matplotlib inline\\n%reload_kedro\\n%load_ext nb_black\";\n",
       "                var nbb_cells = Jupyter.notebook.get_cells();\n",
       "                for (var i = 0; i < nbb_cells.length; ++i) {\n",
       "                    if (nbb_cells[i].input_prompt_number == nbb_cell_id) {\n",
       "                        if (nbb_cells[i].get_text() == nbb_unformatted_code) {\n",
       "                             nbb_cells[i].set_text(nbb_formatted_code);\n",
       "                        }\n",
       "                        break;\n",
       "                    }\n",
       "                }\n",
       "            }, 500);\n",
       "            "
      ],
      "text/plain": [
       "<IPython.core.display.Javascript object>"
      ]
     },
     "metadata": {},
     "output_type": "display_data"
    }
   ],
   "source": [
    "%matplotlib inline\n",
    "%reload_kedro\n",
    "%load_ext nb_black"
   ]
  },
  {
   "cell_type": "code",
   "execution_count": 18,
   "metadata": {},
   "outputs": [
    {
     "name": "stdout",
     "output_type": "stream",
     "text": [
      "2022-03-29 15:38:43,597 - kedro.io.data_catalog - INFO - Loading data from `validaciones_troncal_log_raw` (JSONDataSet)...\n",
      "2022-03-29 15:38:46,927 - kedro.io.data_catalog - INFO - Loading data from `dic_estacion_linea_raw` (JSONDataSet)...\n"
     ]
    },
    {
     "data": {
      "application/javascript": [
       "\n",
       "            setTimeout(function() {\n",
       "                var nbb_cell_id = 18;\n",
       "                var nbb_unformatted_code = \"validaciones_troncal_log = catalog.load(\\\"validaciones_troncal_log_raw\\\")\\ndic_estacion_linea = catalog.load(\\\"dic_estacion_linea_raw\\\")\";\n",
       "                var nbb_formatted_code = \"validaciones_troncal_log = catalog.load(\\\"validaciones_troncal_log_raw\\\")\\ndic_estacion_linea = catalog.load(\\\"dic_estacion_linea_raw\\\")\";\n",
       "                var nbb_cells = Jupyter.notebook.get_cells();\n",
       "                for (var i = 0; i < nbb_cells.length; ++i) {\n",
       "                    if (nbb_cells[i].input_prompt_number == nbb_cell_id) {\n",
       "                        if (nbb_cells[i].get_text() == nbb_unformatted_code) {\n",
       "                             nbb_cells[i].set_text(nbb_formatted_code);\n",
       "                        }\n",
       "                        break;\n",
       "                    }\n",
       "                }\n",
       "            }, 500);\n",
       "            "
      ],
      "text/plain": [
       "<IPython.core.display.Javascript object>"
      ]
     },
     "metadata": {},
     "output_type": "display_data"
    }
   ],
   "source": [
    "validaciones_troncal_log = catalog.load(\"validaciones_troncal_log_raw\")\n",
    "dic_estacion_linea = catalog.load(\"dic_estacion_linea_raw\")"
   ]
  },
  {
   "cell_type": "code",
   "execution_count": 46,
   "metadata": {},
   "outputs": [
    {
     "name": "stdout",
     "output_type": "stream",
     "text": [
      "2022-03-29 15:51:38,671 - kedro.io.data_catalog - INFO - Loading data from `params:start_validaciones_troncal` (MemoryDataSet)...\n",
      "2022-03-29 15:51:38,673 - kedro.io.data_catalog - INFO - Loading data from `params:extraction_day` (MemoryDataSet)...\n"
     ]
    },
    {
     "data": {
      "application/javascript": [
       "\n",
       "            setTimeout(function() {\n",
       "                var nbb_cell_id = 46;\n",
       "                var nbb_unformatted_code = \"start_validaciones_troncal = catalog.load(\\\"params:start_validaciones_troncal\\\")\\nextraction_day = catalog.load(\\\"params:extraction_day\\\")\";\n",
       "                var nbb_formatted_code = \"start_validaciones_troncal = catalog.load(\\\"params:start_validaciones_troncal\\\")\\nextraction_day = catalog.load(\\\"params:extraction_day\\\")\";\n",
       "                var nbb_cells = Jupyter.notebook.get_cells();\n",
       "                for (var i = 0; i < nbb_cells.length; ++i) {\n",
       "                    if (nbb_cells[i].input_prompt_number == nbb_cell_id) {\n",
       "                        if (nbb_cells[i].get_text() == nbb_unformatted_code) {\n",
       "                             nbb_cells[i].set_text(nbb_formatted_code);\n",
       "                        }\n",
       "                        break;\n",
       "                    }\n",
       "                }\n",
       "            }, 500);\n",
       "            "
      ],
      "text/plain": [
       "<IPython.core.display.Javascript object>"
      ]
     },
     "metadata": {},
     "output_type": "display_data"
    }
   ],
   "source": [
    "start_validaciones_troncal = catalog.load(\"params:start_validaciones_troncal\")\n",
    "extraction_day = catalog.load(\"params:extraction_day\")"
   ]
  },
  {
   "cell_type": "code",
   "execution_count": 56,
   "metadata": {},
   "outputs": [
    {
     "data": {
      "application/javascript": [
       "\n",
       "            setTimeout(function() {\n",
       "                var nbb_cell_id = 56;\n",
       "                var nbb_unformatted_code = \"BASE_VALIDACIONES_REQUEST = \\\"https://storage.googleapis.com/validaciones_tmsa/\\\"\";\n",
       "                var nbb_formatted_code = \"BASE_VALIDACIONES_REQUEST = \\\"https://storage.googleapis.com/validaciones_tmsa/\\\"\";\n",
       "                var nbb_cells = Jupyter.notebook.get_cells();\n",
       "                for (var i = 0; i < nbb_cells.length; ++i) {\n",
       "                    if (nbb_cells[i].input_prompt_number == nbb_cell_id) {\n",
       "                        if (nbb_cells[i].get_text() == nbb_unformatted_code) {\n",
       "                             nbb_cells[i].set_text(nbb_formatted_code);\n",
       "                        }\n",
       "                        break;\n",
       "                    }\n",
       "                }\n",
       "            }, 500);\n",
       "            "
      ],
      "text/plain": [
       "<IPython.core.display.Javascript object>"
      ]
     },
     "metadata": {},
     "output_type": "display_data"
    }
   ],
   "source": [
    "BASE_VALIDACIONES_REQUEST = \"https://storage.googleapis.com/validaciones_tmsa/\""
   ]
  },
  {
   "cell_type": "code",
   "execution_count": 49,
   "metadata": {},
   "outputs": [
    {
     "data": {
      "application/javascript": [
       "\n",
       "            setTimeout(function() {\n",
       "                var nbb_cell_id = 49;\n",
       "                var nbb_unformatted_code = \"if extraction_day == \\\"next\\\":\\n    end_validaciones_troncal = datetime.datetime.today().date() - datetime.timedelta(days=2)\\n    validaciones_range = [\\n        datetime.datetime.date(x)\\n        for x in pd.date_range(start_validaciones_troncal, end_validaciones_troncal)\\n    ]\\n    first_failed = None\\n    for day in validaciones_range:\\n        if not day in validaciones_troncal_log.keys():\\n            extraction_day = day\\n            break\\n        elif 'fail' == validaciones_troncal_log[str(day)][0] and first_failed is None:\\n            first_failed = day\\n    if extraction_day == \\\"next\\\" and first_failed is not None:\\n        extraction_day = first_failed\";\n",
       "                var nbb_formatted_code = \"if extraction_day == \\\"next\\\":\\n    end_validaciones_troncal = datetime.datetime.today().date() - datetime.timedelta(\\n        days=2\\n    )\\n    validaciones_range = [\\n        datetime.datetime.date(x)\\n        for x in pd.date_range(start_validaciones_troncal, end_validaciones_troncal)\\n    ]\\n    first_failed = None\\n    for day in validaciones_range:\\n        if not day in validaciones_troncal_log.keys():\\n            extraction_day = day\\n            break\\n        elif \\\"fail\\\" == validaciones_troncal_log[str(day)][0] and first_failed is None:\\n            first_failed = day\\n    if extraction_day == \\\"next\\\" and first_failed is not None:\\n        extraction_day = first_failed\";\n",
       "                var nbb_cells = Jupyter.notebook.get_cells();\n",
       "                for (var i = 0; i < nbb_cells.length; ++i) {\n",
       "                    if (nbb_cells[i].input_prompt_number == nbb_cell_id) {\n",
       "                        if (nbb_cells[i].get_text() == nbb_unformatted_code) {\n",
       "                             nbb_cells[i].set_text(nbb_formatted_code);\n",
       "                        }\n",
       "                        break;\n",
       "                    }\n",
       "                }\n",
       "            }, 500);\n",
       "            "
      ],
      "text/plain": [
       "<IPython.core.display.Javascript object>"
      ]
     },
     "metadata": {},
     "output_type": "display_data"
    }
   ],
   "source": [
    "if extraction_day == \"next\":\n",
    "    end_validaciones_troncal = datetime.datetime.today().date() - datetime.timedelta(\n",
    "        days=2\n",
    "    )\n",
    "    validaciones_range = [\n",
    "        datetime.datetime.date(x)\n",
    "        for x in pd.date_range(start_validaciones_troncal, end_validaciones_troncal)\n",
    "    ]\n",
    "    first_failed = None\n",
    "    for day in validaciones_range:\n",
    "        if not day in validaciones_troncal_log.keys():\n",
    "            extraction_day = day\n",
    "            break\n",
    "        elif \"fail\" == validaciones_troncal_log[str(day)][:4] and first_failed is None:\n",
    "            first_failed = day\n",
    "    if extraction_day == \"next\":\n",
    "        if first_failed is not None:\n",
    "            extraction_day = first_failed\n",
    "        else:\n",
    "            return pd.DataFrame(), validaciones_troncal_log, dic_estacion_linea\n",
    "    "
   ]
  },
  {
   "cell_type": "code",
   "execution_count": 67,
   "metadata": {},
   "outputs": [
    {
     "name": "stdout",
     "output_type": "stream",
     "text": [
      "sigue\n"
     ]
    },
    {
     "data": {
      "application/javascript": [
       "\n",
       "            setTimeout(function() {\n",
       "                var nbb_cell_id = 67;\n",
       "                var nbb_unformatted_code = \"if response.status_code == 200:\\n    print(\\\"sigue\\\")\\nelse:\\n    reason = response.reason\\n    print(f\\\"Failed request: {reason}\\\")\\n    validaciones_troncal_log[str(extraction_day)] = f\\\"fail - {reason}\\\"\\n    #return pd.DataFrame(), validaciones_troncal_log, dic_estacion_linea\";\n",
       "                var nbb_formatted_code = \"if response.status_code == 200:\\n    print(\\\"sigue\\\")\\nelse:\\n    reason = response.reason\\n    print(f\\\"Failed request: {reason}\\\")\\n    validaciones_troncal_log[str(extraction_day)] = f\\\"fail - {reason}\\\"\\n    # return pd.DataFrame(), validaciones_troncal_log, dic_estacion_linea\";\n",
       "                var nbb_cells = Jupyter.notebook.get_cells();\n",
       "                for (var i = 0; i < nbb_cells.length; ++i) {\n",
       "                    if (nbb_cells[i].input_prompt_number == nbb_cell_id) {\n",
       "                        if (nbb_cells[i].get_text() == nbb_unformatted_code) {\n",
       "                             nbb_cells[i].set_text(nbb_formatted_code);\n",
       "                        }\n",
       "                        break;\n",
       "                    }\n",
       "                }\n",
       "            }, 500);\n",
       "            "
      ],
      "text/plain": [
       "<IPython.core.display.Javascript object>"
      ]
     },
     "metadata": {},
     "output_type": "display_data"
    }
   ],
   "source": [
    "response = requests.get(\n",
    "    f\"{BASE_VALIDACIONES_REQUEST}ValidacionTroncal/validacionTroncal{str(extraction_day).replace('-', '')}.csv\"\n",
    ")\n",
    "if response.status_code == 200:\n",
    "    data_str_io = StringIO(response.text)\n",
    "    response_pd = pd.read_csv(data_str_io, sep=\",\")\n",
    "    dic_estacion_linea_response = (\n",
    "        response_pd[[\"Estacion_Parada\", \"Linea\"]]\n",
    "        .drop_duplicates()\n",
    "        .set_index(\"Estacion_Parada\")\n",
    "        .to_dict()[\"Linea\"]\n",
    "    )\n",
    "    response_pd.drop(\n",
    "        [\n",
    "            \"ID_Vehiculo\",\n",
    "            \"Ruta\",\n",
    "            \"Tipo_Vehiculo\",\n",
    "            \"Operador\",\n",
    "            \"Hora_Pico_SN\",\n",
    "            \"Dispositivo\",\n",
    "            \"Day_Group_Type\",\n",
    "            \"Fecha_Clearing\",\n",
    "            \"Tipo_Tarifa\",\n",
    "            \"Sistema\",\n",
    "            \"Saldo_Despues_Transaccion\",\n",
    "            \"Fase\",\n",
    "            \"Linea\",\n",
    "        ],\n",
    "        axis=1,\n",
    "        inplace=True,\n",
    "    )\n",
    "    response_pd[\"Fecha_Transaccion\"] = pd.to_datetime(\n",
    "        response_pd[\"Fecha_Transaccion\"], format=\"%Y-%m-%d %H:%M:%S UTC\", utc=True\n",
    "    )\n",
    "    response_pd[\"day\"] = response_pd[\"Fecha_Transaccion\"].apply(lambda x: x.date)\n",
    "    try:\n",
    "        assert list(response_pd.columns) == [\n",
    "            \"Acceso_Estacion\",\n",
    "            \"Emisor\",\n",
    "            \"Estacion_Parada\",\n",
    "            \"Fecha_Transaccion\",\n",
    "            \"Nombre_Perfil\",\n",
    "            \"Numero_Tarjeta\",\n",
    "            \"Saldo_Previo_a_Transaccion\",\n",
    "            \"Tipo_Tarjeta\",\n",
    "            \"Valor\",\n",
    "            \"day\",\n",
    "        ], \"Database inconsistency\"\n",
    "    except AssertionError:\n",
    "        print(\"Database inconsistency\")\n",
    "        validaciones_troncal_log[str(extraction_day)] = \"fail - Database inconsistency\"\n",
    "        # return pd.DataFrame(), validaciones_troncal_log, dic_estacion_linea\n",
    "else:\n",
    "    reason = response.reason\n",
    "    print(f\"Failed request: {reason}\")\n",
    "    validaciones_troncal_log[str(extraction_day)] = f\"fail - {reason}\"\n",
    "    # return pd.DataFrame(), validaciones_troncal_log, dic_estacion_linea"
   ]
  },
  {
   "cell_type": "code",
   "execution_count": 89,
   "metadata": {},
   "outputs": [
    {
     "data": {
      "application/javascript": [
       "\n",
       "            setTimeout(function() {\n",
       "                var nbb_cell_id = 89;\n",
       "                var nbb_unformatted_code = \"data_str_io = StringIO(response.text)\\nresponse_pd = pd.read_csv(data_str_io, sep=\\\",\\\")\";\n",
       "                var nbb_formatted_code = \"data_str_io = StringIO(response.text)\\nresponse_pd = pd.read_csv(data_str_io, sep=\\\",\\\")\";\n",
       "                var nbb_cells = Jupyter.notebook.get_cells();\n",
       "                for (var i = 0; i < nbb_cells.length; ++i) {\n",
       "                    if (nbb_cells[i].input_prompt_number == nbb_cell_id) {\n",
       "                        if (nbb_cells[i].get_text() == nbb_unformatted_code) {\n",
       "                             nbb_cells[i].set_text(nbb_formatted_code);\n",
       "                        }\n",
       "                        break;\n",
       "                    }\n",
       "                }\n",
       "            }, 500);\n",
       "            "
      ],
      "text/plain": [
       "<IPython.core.display.Javascript object>"
      ]
     },
     "metadata": {},
     "output_type": "display_data"
    }
   ],
   "source": []
  },
  {
   "cell_type": "code",
   "execution_count": 11,
   "metadata": {},
   "outputs": [
    {
     "data": {
      "application/javascript": [
       "\n",
       "            setTimeout(function() {\n",
       "                var nbb_cell_id = 11;\n",
       "                var nbb_unformatted_code = \"date_prueba = pd.to_datetime(\\\"2021-01-01 04:06:07 UTC\\\")\";\n",
       "                var nbb_formatted_code = \"date_prueba = pd.to_datetime(\\\"2021-01-01 04:06:07 UTC\\\")\";\n",
       "                var nbb_cells = Jupyter.notebook.get_cells();\n",
       "                for (var i = 0; i < nbb_cells.length; ++i) {\n",
       "                    if (nbb_cells[i].input_prompt_number == nbb_cell_id) {\n",
       "                        if (nbb_cells[i].get_text() == nbb_unformatted_code) {\n",
       "                             nbb_cells[i].set_text(nbb_formatted_code);\n",
       "                        }\n",
       "                        break;\n",
       "                    }\n",
       "                }\n",
       "            }, 500);\n",
       "            "
      ],
      "text/plain": [
       "<IPython.core.display.Javascript object>"
      ]
     },
     "metadata": {},
     "output_type": "display_data"
    }
   ],
   "source": [
    "date_prueba = pd.to_datetime(\"2021-01-01 04:06:07 UTC\")"
   ]
  },
  {
   "cell_type": "code",
   "execution_count": 14,
   "metadata": {},
   "outputs": [
    {
     "data": {
      "text/plain": [
       "Timestamp('2021-01-01 04:06:07+0000', tz='UTC')"
      ]
     },
     "execution_count": 14,
     "metadata": {},
     "output_type": "execute_result"
    },
    {
     "data": {
      "application/javascript": [
       "\n",
       "            setTimeout(function() {\n",
       "                var nbb_cell_id = 14;\n",
       "                var nbb_unformatted_code = \"date_prueba\";\n",
       "                var nbb_formatted_code = \"date_prueba\";\n",
       "                var nbb_cells = Jupyter.notebook.get_cells();\n",
       "                for (var i = 0; i < nbb_cells.length; ++i) {\n",
       "                    if (nbb_cells[i].input_prompt_number == nbb_cell_id) {\n",
       "                        if (nbb_cells[i].get_text() == nbb_unformatted_code) {\n",
       "                             nbb_cells[i].set_text(nbb_formatted_code);\n",
       "                        }\n",
       "                        break;\n",
       "                    }\n",
       "                }\n",
       "            }, 500);\n",
       "            "
      ],
      "text/plain": [
       "<IPython.core.display.Javascript object>"
      ]
     },
     "metadata": {},
     "output_type": "display_data"
    }
   ],
   "source": [
    "date_prueba"
   ]
  },
  {
   "cell_type": "code",
   "execution_count": 20,
   "metadata": {},
   "outputs": [
    {
     "data": {
      "text/plain": [
       "datetime.date(2020, 12, 31)"
      ]
     },
     "execution_count": 20,
     "metadata": {},
     "output_type": "execute_result"
    },
    {
     "data": {
      "application/javascript": [
       "\n",
       "            setTimeout(function() {\n",
       "                var nbb_cell_id = 20;\n",
       "                var nbb_unformatted_code = \"date_prueba.astimezone(tz=\\\"America/Bogota\\\").date()\";\n",
       "                var nbb_formatted_code = \"date_prueba.astimezone(tz=\\\"America/Bogota\\\").date()\";\n",
       "                var nbb_cells = Jupyter.notebook.get_cells();\n",
       "                for (var i = 0; i < nbb_cells.length; ++i) {\n",
       "                    if (nbb_cells[i].input_prompt_number == nbb_cell_id) {\n",
       "                        if (nbb_cells[i].get_text() == nbb_unformatted_code) {\n",
       "                             nbb_cells[i].set_text(nbb_formatted_code);\n",
       "                        }\n",
       "                        break;\n",
       "                    }\n",
       "                }\n",
       "            }, 500);\n",
       "            "
      ],
      "text/plain": [
       "<IPython.core.display.Javascript object>"
      ]
     },
     "metadata": {},
     "output_type": "display_data"
    }
   ],
   "source": [
    "date_prueba.astimezone(tz=\"America/Bogota\")"
   ]
  },
  {
   "cell_type": "code",
   "execution_count": 91,
   "metadata": {},
   "outputs": [
    {
     "data": {
      "application/javascript": [
       "\n",
       "            setTimeout(function() {\n",
       "                var nbb_cell_id = 91;\n",
       "                var nbb_unformatted_code = \"response_pd.drop(\\n    [\\n        \\\"ID_Vehiculo\\\",\\n        \\\"Ruta\\\",\\n        \\\"Tipo_Vehiculo\\\",\\n        \\\"Operador\\\",\\n        \\\"Hora_Pico_SN\\\",\\n        \\\"Dispositivo\\\",\\n        \\\"Day_Group_Type\\\",\\n        \\\"Fecha_Clearing\\\",\\n        \\\"Tipo_Tarifa\\\",\\n        \\\"Sistema\\\",\\n        \\\"Saldo_Despues_Transaccion\\\",\\n        \\\"Fase\\\",\\n        \\\"Linea\\\",\\n    ],\\n    axis=1,\\n    inplace=True,\\n)\";\n",
       "                var nbb_formatted_code = \"response_pd.drop(\\n    [\\n        \\\"ID_Vehiculo\\\",\\n        \\\"Ruta\\\",\\n        \\\"Tipo_Vehiculo\\\",\\n        \\\"Operador\\\",\\n        \\\"Hora_Pico_SN\\\",\\n        \\\"Dispositivo\\\",\\n        \\\"Day_Group_Type\\\",\\n        \\\"Fecha_Clearing\\\",\\n        \\\"Tipo_Tarifa\\\",\\n        \\\"Sistema\\\",\\n        \\\"Saldo_Despues_Transaccion\\\",\\n        \\\"Fase\\\",\\n        \\\"Linea\\\",\\n    ],\\n    axis=1,\\n    inplace=True,\\n)\";\n",
       "                var nbb_cells = Jupyter.notebook.get_cells();\n",
       "                for (var i = 0; i < nbb_cells.length; ++i) {\n",
       "                    if (nbb_cells[i].input_prompt_number == nbb_cell_id) {\n",
       "                        if (nbb_cells[i].get_text() == nbb_unformatted_code) {\n",
       "                             nbb_cells[i].set_text(nbb_formatted_code);\n",
       "                        }\n",
       "                        break;\n",
       "                    }\n",
       "                }\n",
       "            }, 500);\n",
       "            "
      ],
      "text/plain": [
       "<IPython.core.display.Javascript object>"
      ]
     },
     "metadata": {},
     "output_type": "display_data"
    }
   ],
   "source": []
  },
  {
   "cell_type": "code",
   "execution_count": 92,
   "metadata": {},
   "outputs": [
    {
     "data": {
      "application/javascript": [
       "\n",
       "            setTimeout(function() {\n",
       "                var nbb_cell_id = 92;\n",
       "                var nbb_unformatted_code = \"# response_pd[\\\"Fecha_Clearing\\\"] = pd.to_datetime(\\n#    response_pd[\\\"Fecha_Clearing\\\"], format=\\\"%Y-%m-%d\\\"\\n# )\";\n",
       "                var nbb_formatted_code = \"# response_pd[\\\"Fecha_Clearing\\\"] = pd.to_datetime(\\n#    response_pd[\\\"Fecha_Clearing\\\"], format=\\\"%Y-%m-%d\\\"\\n# )\";\n",
       "                var nbb_cells = Jupyter.notebook.get_cells();\n",
       "                for (var i = 0; i < nbb_cells.length; ++i) {\n",
       "                    if (nbb_cells[i].input_prompt_number == nbb_cell_id) {\n",
       "                        if (nbb_cells[i].get_text() == nbb_unformatted_code) {\n",
       "                             nbb_cells[i].set_text(nbb_formatted_code);\n",
       "                        }\n",
       "                        break;\n",
       "                    }\n",
       "                }\n",
       "            }, 500);\n",
       "            "
      ],
      "text/plain": [
       "<IPython.core.display.Javascript object>"
      ]
     },
     "metadata": {},
     "output_type": "display_data"
    }
   ],
   "source": [
    "# response_pd[\"Fecha_Clearing\"] = pd.to_datetime(\n",
    "#    response_pd[\"Fecha_Clearing\"], format=\"%Y-%m-%d\"\n",
    "# )"
   ]
  },
  {
   "cell_type": "code",
   "execution_count": 93,
   "metadata": {},
   "outputs": [
    {
     "data": {
      "application/javascript": [
       "\n",
       "            setTimeout(function() {\n",
       "                var nbb_cell_id = 93;\n",
       "                var nbb_unformatted_code = \"response_pd[\\\"Fecha_Transaccion\\\"] = pd.to_datetime(\\n    response_pd[\\\"Fecha_Transaccion\\\"], format=\\\"%Y-%m-%d %H:%M:%S UTC\\\", utc=True\\n)\";\n",
       "                var nbb_formatted_code = \"response_pd[\\\"Fecha_Transaccion\\\"] = pd.to_datetime(\\n    response_pd[\\\"Fecha_Transaccion\\\"], format=\\\"%Y-%m-%d %H:%M:%S UTC\\\", utc=True\\n)\";\n",
       "                var nbb_cells = Jupyter.notebook.get_cells();\n",
       "                for (var i = 0; i < nbb_cells.length; ++i) {\n",
       "                    if (nbb_cells[i].input_prompt_number == nbb_cell_id) {\n",
       "                        if (nbb_cells[i].get_text() == nbb_unformatted_code) {\n",
       "                             nbb_cells[i].set_text(nbb_formatted_code);\n",
       "                        }\n",
       "                        break;\n",
       "                    }\n",
       "                }\n",
       "            }, 500);\n",
       "            "
      ],
      "text/plain": [
       "<IPython.core.display.Javascript object>"
      ]
     },
     "metadata": {},
     "output_type": "display_data"
    }
   ],
   "source": []
  },
  {
   "cell_type": "code",
   "execution_count": 94,
   "metadata": {},
   "outputs": [
    {
     "data": {
      "application/javascript": [
       "\n",
       "            setTimeout(function() {\n",
       "                var nbb_cell_id = 94;\n",
       "                var nbb_unformatted_code = \"response_pd[\\\"day\\\"] = response_pd[\\\"Fecha_Transaccion\\\"].apply(lambda x: x.date)\";\n",
       "                var nbb_formatted_code = \"response_pd[\\\"day\\\"] = response_pd[\\\"Fecha_Transaccion\\\"].apply(lambda x: x.date)\";\n",
       "                var nbb_cells = Jupyter.notebook.get_cells();\n",
       "                for (var i = 0; i < nbb_cells.length; ++i) {\n",
       "                    if (nbb_cells[i].input_prompt_number == nbb_cell_id) {\n",
       "                        if (nbb_cells[i].get_text() == nbb_unformatted_code) {\n",
       "                             nbb_cells[i].set_text(nbb_formatted_code);\n",
       "                        }\n",
       "                        break;\n",
       "                    }\n",
       "                }\n",
       "            }, 500);\n",
       "            "
      ],
      "text/plain": [
       "<IPython.core.display.Javascript object>"
      ]
     },
     "metadata": {},
     "output_type": "display_data"
    }
   ],
   "source": []
  },
  {
   "cell_type": "code",
   "execution_count": 98,
   "metadata": {},
   "outputs": [
    {
     "data": {
      "application/javascript": [
       "\n",
       "            setTimeout(function() {\n",
       "                var nbb_cell_id = 98;\n",
       "                var nbb_unformatted_code = \"response_pd.drop('Emisor',axis=1,inplace=True)\";\n",
       "                var nbb_formatted_code = \"response_pd.drop(\\\"Emisor\\\", axis=1, inplace=True)\";\n",
       "                var nbb_cells = Jupyter.notebook.get_cells();\n",
       "                for (var i = 0; i < nbb_cells.length; ++i) {\n",
       "                    if (nbb_cells[i].input_prompt_number == nbb_cell_id) {\n",
       "                        if (nbb_cells[i].get_text() == nbb_unformatted_code) {\n",
       "                             nbb_cells[i].set_text(nbb_formatted_code);\n",
       "                        }\n",
       "                        break;\n",
       "                    }\n",
       "                }\n",
       "            }, 500);\n",
       "            "
      ],
      "text/plain": [
       "<IPython.core.display.Javascript object>"
      ]
     },
     "metadata": {},
     "output_type": "display_data"
    }
   ],
   "source": [
    "response_pd.drop(\"Emisor\", axis=1, inplace=True)"
   ]
  },
  {
   "cell_type": "code",
   "execution_count": 99,
   "metadata": {},
   "outputs": [
    {
     "name": "stdout",
     "output_type": "stream",
     "text": [
      "Database inconsistency\n"
     ]
    },
    {
     "data": {
      "application/javascript": [
       "\n",
       "            setTimeout(function() {\n",
       "                var nbb_cell_id = 99;\n",
       "                var nbb_unformatted_code = \"try:\\n    assert list(response_pd.columns) == [\\n        \\\"Acceso_Estacion\\\",\\n        \\\"Emisor\\\",\\n        \\\"Estacion_Parada\\\",\\n        \\\"Fecha_Transaccion\\\",\\n        \\\"Nombre_Perfil\\\",\\n        \\\"Numero_Tarjeta\\\",\\n        \\\"Saldo_Previo_a_Transaccion\\\",\\n        \\\"Tipo_Tarjeta\\\",\\n        \\\"Valor\\\",\\n        \\\"day\\\",\\n    ], \\\"Database inconsistency\\\"\\nexcept AssertionError:\\n    print(\\\"Database inconsistency\\\")\\n    validaciones_troncal_log[str(extraction_day)] = \\\"fail - Database inconsistency\\\"\\n    # return pd.DataFrame(), validaciones_troncal_log, dic_estacion_linea\";\n",
       "                var nbb_formatted_code = \"try:\\n    assert list(response_pd.columns) == [\\n        \\\"Acceso_Estacion\\\",\\n        \\\"Emisor\\\",\\n        \\\"Estacion_Parada\\\",\\n        \\\"Fecha_Transaccion\\\",\\n        \\\"Nombre_Perfil\\\",\\n        \\\"Numero_Tarjeta\\\",\\n        \\\"Saldo_Previo_a_Transaccion\\\",\\n        \\\"Tipo_Tarjeta\\\",\\n        \\\"Valor\\\",\\n        \\\"day\\\",\\n    ], \\\"Database inconsistency\\\"\\nexcept AssertionError:\\n    print(\\\"Database inconsistency\\\")\\n    validaciones_troncal_log[str(extraction_day)] = \\\"fail - Database inconsistency\\\"\\n    # return pd.DataFrame(), validaciones_troncal_log, dic_estacion_linea\";\n",
       "                var nbb_cells = Jupyter.notebook.get_cells();\n",
       "                for (var i = 0; i < nbb_cells.length; ++i) {\n",
       "                    if (nbb_cells[i].input_prompt_number == nbb_cell_id) {\n",
       "                        if (nbb_cells[i].get_text() == nbb_unformatted_code) {\n",
       "                             nbb_cells[i].set_text(nbb_formatted_code);\n",
       "                        }\n",
       "                        break;\n",
       "                    }\n",
       "                }\n",
       "            }, 500);\n",
       "            "
      ],
      "text/plain": [
       "<IPython.core.display.Javascript object>"
      ]
     },
     "metadata": {},
     "output_type": "display_data"
    }
   ],
   "source": []
  },
  {
   "cell_type": "code",
   "execution_count": 104,
   "metadata": {},
   "outputs": [
    {
     "data": {
      "text/plain": [
       "Acceso_Estacion                                 (04) Acceso Peatonal Occidental\n",
       "Estacion_Parada                                         (06000) Portal Eldorado\n",
       "Fecha_Transaccion                                     2020-01-01 16:47:21+00:00\n",
       "Nombre_Perfil                                                      (001) Adulto\n",
       "Numero_Tarjeta                c54bf7ae7353d0b8038f4fe44ca5ae96ce3580287aa052...\n",
       "Saldo_Previo_a_Transaccion                                                 7400\n",
       "Tipo_Tarjeta                                                       tullave Plus\n",
       "Valor                                                                      2400\n",
       "day                                                                  2020-01-01\n",
       "Name: 0, dtype: object"
      ]
     },
     "execution_count": 104,
     "metadata": {},
     "output_type": "execute_result"
    },
    {
     "data": {
      "application/javascript": [
       "\n",
       "            setTimeout(function() {\n",
       "                var nbb_cell_id = 104;\n",
       "                var nbb_unformatted_code = \"response_pd.iloc[0]\";\n",
       "                var nbb_formatted_code = \"response_pd.iloc[0]\";\n",
       "                var nbb_cells = Jupyter.notebook.get_cells();\n",
       "                for (var i = 0; i < nbb_cells.length; ++i) {\n",
       "                    if (nbb_cells[i].input_prompt_number == nbb_cell_id) {\n",
       "                        if (nbb_cells[i].get_text() == nbb_unformatted_code) {\n",
       "                             nbb_cells[i].set_text(nbb_formatted_code);\n",
       "                        }\n",
       "                        break;\n",
       "                    }\n",
       "                }\n",
       "            }, 500);\n",
       "            "
      ],
      "text/plain": [
       "<IPython.core.display.Javascript object>"
      ]
     },
     "metadata": {},
     "output_type": "display_data"
    }
   ],
   "source": [
    "response_pd.iloc[0]"
   ]
  },
  {
   "cell_type": "code",
   "execution_count": 101,
   "metadata": {
    "scrolled": true
   },
   "outputs": [
    {
     "data": {
      "text/plain": [
       "Acceso_Estacion                                 (04) Acceso Peatonal Occidental\n",
       "Estacion_Parada                                         (06000) Portal Eldorado\n",
       "Fecha_Transaccion                                     2020-01-01 16:47:21+00:00\n",
       "Nombre_Perfil                                                      (001) Adulto\n",
       "Numero_Tarjeta                c54bf7ae7353d0b8038f4fe44ca5ae96ce3580287aa052...\n",
       "Saldo_Previo_a_Transaccion                                                 7400\n",
       "Tipo_Tarjeta                                                       tullave Plus\n",
       "Valor                                                                      2400\n",
       "day                                                                  2020-01-01\n",
       "Name: 0, dtype: object"
      ]
     },
     "execution_count": 101,
     "metadata": {},
     "output_type": "execute_result"
    },
    {
     "data": {
      "application/javascript": [
       "\n",
       "            setTimeout(function() {\n",
       "                var nbb_cell_id = 101;\n",
       "                var nbb_unformatted_code = \"response_pd.iloc[0]\";\n",
       "                var nbb_formatted_code = \"response_pd.iloc[0]\";\n",
       "                var nbb_cells = Jupyter.notebook.get_cells();\n",
       "                for (var i = 0; i < nbb_cells.length; ++i) {\n",
       "                    if (nbb_cells[i].input_prompt_number == nbb_cell_id) {\n",
       "                        if (nbb_cells[i].get_text() == nbb_unformatted_code) {\n",
       "                             nbb_cells[i].set_text(nbb_formatted_code);\n",
       "                        }\n",
       "                        break;\n",
       "                    }\n",
       "                }\n",
       "            }, 500);\n",
       "            "
      ],
      "text/plain": [
       "<IPython.core.display.Javascript object>"
      ]
     },
     "metadata": {},
     "output_type": "display_data"
    }
   ],
   "source": [
    "response_pd.iloc[0]"
   ]
  },
  {
   "cell_type": "code",
   "execution_count": 8,
   "metadata": {},
   "outputs": [
    {
     "data": {
      "application/javascript": [
       "\n",
       "            setTimeout(function() {\n",
       "                var nbb_cell_id = 8;\n",
       "                var nbb_unformatted_code = \"prueba_dict = {1:2,3:4,5:6}\";\n",
       "                var nbb_formatted_code = \"prueba_dict = {1: 2, 3: 4, 5: 6}\";\n",
       "                var nbb_cells = Jupyter.notebook.get_cells();\n",
       "                for (var i = 0; i < nbb_cells.length; ++i) {\n",
       "                    if (nbb_cells[i].input_prompt_number == nbb_cell_id) {\n",
       "                        if (nbb_cells[i].get_text() == nbb_unformatted_code) {\n",
       "                             nbb_cells[i].set_text(nbb_formatted_code);\n",
       "                        }\n",
       "                        break;\n",
       "                    }\n",
       "                }\n",
       "            }, 500);\n",
       "            "
      ],
      "text/plain": [
       "<IPython.core.display.Javascript object>"
      ]
     },
     "metadata": {},
     "output_type": "display_data"
    }
   ],
   "source": [
    "prueba_dict = {1: 2, 3: 4, 5: 6}"
   ]
  },
  {
   "cell_type": "code",
   "execution_count": 10,
   "metadata": {},
   "outputs": [
    {
     "name": "stdout",
     "output_type": "stream",
     "text": [
      "2022-03-29 15:08:43,029 - kedro.io.data_catalog - INFO - Saving data to `dic_estacion_linea` (JSONDataSet)...\n"
     ]
    },
    {
     "data": {
      "application/javascript": [
       "\n",
       "            setTimeout(function() {\n",
       "                var nbb_cell_id = 10;\n",
       "                var nbb_unformatted_code = \"catalog.save('dic_estacion_linea', prueba_dict)\";\n",
       "                var nbb_formatted_code = \"catalog.save(\\\"dic_estacion_linea\\\", prueba_dict)\";\n",
       "                var nbb_cells = Jupyter.notebook.get_cells();\n",
       "                for (var i = 0; i < nbb_cells.length; ++i) {\n",
       "                    if (nbb_cells[i].input_prompt_number == nbb_cell_id) {\n",
       "                        if (nbb_cells[i].get_text() == nbb_unformatted_code) {\n",
       "                             nbb_cells[i].set_text(nbb_formatted_code);\n",
       "                        }\n",
       "                        break;\n",
       "                    }\n",
       "                }\n",
       "            }, 500);\n",
       "            "
      ],
      "text/plain": [
       "<IPython.core.display.Javascript object>"
      ]
     },
     "metadata": {},
     "output_type": "display_data"
    }
   ],
   "source": [
    "catalog.save(\"dic_estacion_linea\", prueba_dict)"
   ]
  },
  {
   "cell_type": "code",
   "execution_count": 105,
   "metadata": {},
   "outputs": [
    {
     "data": {
      "application/javascript": [
       "\n",
       "            setTimeout(function() {\n",
       "                var nbb_cell_id = 105;\n",
       "                var nbb_unformatted_code = \"dic_estacion_linea.update(dic_estacion_linea_response)\";\n",
       "                var nbb_formatted_code = \"dic_estacion_linea.update(dic_estacion_linea_response)\";\n",
       "                var nbb_cells = Jupyter.notebook.get_cells();\n",
       "                for (var i = 0; i < nbb_cells.length; ++i) {\n",
       "                    if (nbb_cells[i].input_prompt_number == nbb_cell_id) {\n",
       "                        if (nbb_cells[i].get_text() == nbb_unformatted_code) {\n",
       "                             nbb_cells[i].set_text(nbb_formatted_code);\n",
       "                        }\n",
       "                        break;\n",
       "                    }\n",
       "                }\n",
       "            }, 500);\n",
       "            "
      ],
      "text/plain": [
       "<IPython.core.display.Javascript object>"
      ]
     },
     "metadata": {},
     "output_type": "display_data"
    }
   ],
   "source": [
    "dic_estacion_linea.update(dic_estacion_linea_response)"
   ]
  },
  {
   "cell_type": "code",
   "execution_count": 106,
   "metadata": {},
   "outputs": [
    {
     "data": {
      "text/plain": [
       "{'(06000) Portal Eldorado': '(11) Zona K Calle 26',\n",
       " '(06001) Modelia': '(11) Zona K Calle 26',\n",
       " '(06002) Normandía': '(11) Zona K Calle 26',\n",
       " '(06100) Av. Rojas': '(11) Zona K Calle 26',\n",
       " '(06101) El Tiempo': '(11) Zona K Calle 26',\n",
       " '(06102) Salitre El Greco': '(11) Zona K Calle 26',\n",
       " '(06103) CAN': '(11) Zona K Calle 26',\n",
       " '(06104) Gobernación': '(11) Zona K Calle 26',\n",
       " '(06105) Quinta Paredes': '(11) Zona K Calle 26',\n",
       " '(06106) Recinto Ferial': '(11) Zona K Calle 26',\n",
       " '(06107) Ciudad Universitaria': '(11) Zona K Calle 26',\n",
       " '(06108) Concejo de Bogotá': '(11) Zona K Calle 26',\n",
       " '(06109) Centro Memoria': '(11) Zona K Calle 26',\n",
       " '(06111) Universidades': '(11) Zona K Calle 26',\n",
       " '(10000) Portal 20 de Julio': '(12) Zona L Carrera 10',\n",
       " '(10001) Country Sur': '(12) Zona L Carrera 10',\n",
       " '(10002) Av. Primero de Mayo': '(12) Zona L Carrera 10',\n",
       " '(10003) Ciudad Jardín': '(12) Zona L Carrera 10',\n",
       " '(10004) Policarpa': '(12) Zona L Carrera 10',\n",
       " '(10010) San Bernardo': '(12) Zona L Carrera 10',\n",
       " '(10006) San Victorino': '(12) Zona L Carrera 10',\n",
       " '(10007) Las Nieves': '(12) Zona L Carrera 10',\n",
       " '(10008) San Diego': '(12) Zona L Carrera 10',\n",
       " '(03000) Portal Suba': '(32) Zona C Av. Suba',\n",
       " '(02000) Cabecera Autopista Norte': '(33) Zona B AutoNorte',\n",
       " '(10009) Museo Nacional': '(12) Zona L Carrera 10',\n",
       " '(10005) Bicentenario': '(12) Zona L Carrera 10',\n",
       " '(04106) Carrera 47': '(35) Zona D Calle 80',\n",
       " '(05101) Mandalay - Cr.73': '(31) Zona F Av. Américas',\n",
       " '(05102) Av. Américas - Av. Boyacá': '(31) Zona F Av. Américas',\n",
       " '(05107) Américas - Cr.53': '(31) Zona F Av. Américas',\n",
       " '(05105) Pradera': '(31) Zona F Av. Américas',\n",
       " '(05103) Marsella': '(31) Zona F Av. Américas',\n",
       " '(02105) Calle 142': '(33) Zona B AutoNorte',\n",
       " '(04108) El Polo': '(35) Zona D Calle 80',\n",
       " '(04105) Carrera 53': '(35) Zona D Calle 80',\n",
       " '(02200) Alcalá': '(33) Zona B AutoNorte',\n",
       " '(04107) Escuela Militar': '(35) Zona D Calle 80',\n",
       " '(04104) Avenida 68': '(35) Zona D Calle 80',\n",
       " '(03014) SAN MARTIN': '(32) Zona C Av. Suba',\n",
       " '(03011) SUBA - CALLE 100': '(32) Zona C Av. Suba',\n",
       " '(03012) SUBA - CALLE 95': '(32) Zona C Av. Suba',\n",
       " '(03010) PUENTE LARGO': '(32) Zona C Av. Suba',\n",
       " '(03013) RIO NEGRO': '(32) Zona C Av. Suba',\n",
       " '(07104) Simon Bolivar': '(38) Zona E NQS Central',\n",
       " '(14005) Las Aguas': '(37) Zona J Eje Ambiental',\n",
       " '(07105) MOVISTAR ARENA': '(38) Zona E NQS Central',\n",
       " '(14001) La Sabana': '(39) Zona F Calle 13',\n",
       " '(14004) Museo del Oro': '(37) Zona J Eje Ambiental',\n",
       " '(12003) Ricaurte': '(39) Zona F Calle 13',\n",
       " '(07111) NQS - RICAURTE': '(38) Zona E NQS Central',\n",
       " '(12002) CDS - Carrera 32': '(39) Zona F Calle 13',\n",
       " '(12004) Carrera 22': '(39) Zona F Calle 13',\n",
       " '(12007) Zona Industrial': '(39) Zona F Calle 13',\n",
       " '(09110) Avenida Jimenez': '(36) Zona A Caracas',\n",
       " '(07108) Av. El Dorado': '(38) Zona E NQS Central',\n",
       " '(07009) SENA': '(30) Zona G NQS Sur',\n",
       " '(08002) Biblioteca': '(34) Zona H Caracas Sur',\n",
       " '(08001) Parque el Tunal': '(34) Zona H Caracas Sur',\n",
       " '(12000) Puente Aranda': '(39) Zona F Calle 13',\n",
       " '(07113) SANTA ISABEL': '(30) Zona G NQS Sur',\n",
       " '(12001) Carrera 43': '(39) Zona F Calle 13',\n",
       " '(07107) U. NACIONAL': '(38) Zona E NQS Central',\n",
       " '(07109) CAD': '(38) Zona E NQS Central',\n",
       " '(07106) EL CAMPIN': '(38) Zona E NQS Central',\n",
       " '(07110) PALOQUEMAO': '(38) Zona E NQS Central',\n",
       " '(07101) CASTELLANA': '(38) Zona E NQS Central',\n",
       " '(07102) NQS - CALLE 75': '(38) Zona E NQS Central',\n",
       " '(07103) AV. CHILE': '(38) Zona E NQS Central',\n",
       " '(08000) Portal Tunal': '(34) Zona H Caracas Sur',\n",
       " '(09101) Quiroga': '(34) Zona H Caracas Sur',\n",
       " '(09003) Socorro': '(34) Zona H Caracas Sur',\n",
       " '(09002) Consuelo': '(34) Zona H Caracas Sur',\n",
       " '(07001) PERDOMO': '(30) Zona G NQS Sur',\n",
       " '(07007) NQS - Calle 38A Sur': '(30) Zona G NQS Sur',\n",
       " '(07004) VENECIA': '(30) Zona G NQS Sur',\n",
       " '(07002) MADELENA': '(30) Zona G NQS Sur',\n",
       " '(03001) LA CAMPIÑA': '(32) Zona C Av. Suba',\n",
       " '(03005) SUBA - AV. BOYACA': '(32) Zona C Av. Suba',\n",
       " '(09103) Olaya': '(34) Zona H Caracas Sur',\n",
       " '(09104) Restrepo': '(34) Zona H Caracas Sur',\n",
       " '(09105) Río Fucha': '(34) Zona H Caracas Sur',\n",
       " '(07003) SEVILLANA': '(30) Zona G NQS Sur',\n",
       " '(07005) ALQUERIA': '(30) Zona G NQS Sur',\n",
       " '(07008) NQS - Calle 30 Sur': '(30) Zona G NQS Sur',\n",
       " '(07000) Portal Sur': '(30) Zona G NQS Sur',\n",
       " '(07504) TERREROS': '(30) Zona G NQS Sur',\n",
       " '(07505) LEON XIII': '(30) Zona G NQS Sur',\n",
       " '(07506) DESPENSA': '(30) Zona G NQS Sur',\n",
       " '(07503) SAN MATEO': '(30) Zona G NQS Sur',\n",
       " '(09000) Cabecera Usme': '(34) Zona H Caracas Sur',\n",
       " '(05001) Patio Bonito': '(31) Zona F Av. Américas',\n",
       " '(05002) Tintal': '(31) Zona F Av. Américas',\n",
       " '(05005) Transversal 86': '(31) Zona F Av. Américas',\n",
       " '(05100) Banderas P. Central': '(31) Zona F Av. Américas',\n",
       " '(03002) SUBA - TV- 91': '(32) Zona C Av. Suba',\n",
       " '(03003) 21 ANGELES': '(32) Zona C Av. Suba',\n",
       " '(03006) NIZA - CALLE 127': '(32) Zona C Av. Suba',\n",
       " '(04001) Quirigua': '(35) Zona D Calle 80',\n",
       " '(04002) Carrera 90': '(35) Zona D Calle 80',\n",
       " '(03009) Av. Suba- Calle 116': '(32) Zona C Av. Suba',\n",
       " '(04103) Las Ferias': '(35) Zona D Calle 80',\n",
       " '(09111) Calle 19': '(36) Zona A Caracas',\n",
       " '(09113) Calle 22': '(36) Zona A Caracas',\n",
       " '(04101) Minuto de Dios': '(35) Zona D Calle 80',\n",
       " '(04102) Avenida Boyaca': '(35) Zona D Calle 80',\n",
       " '(09115) Calle 34': '(36) Zona A Caracas',\n",
       " '(02202) Calle 127': '(33) Zona B AutoNorte',\n",
       " '(09114) Calle 26': '(36) Zona A Caracas',\n",
       " '(09116) Avenida 39': '(36) Zona A Caracas',\n",
       " '(02104) Calle 146': '(33) Zona B AutoNorte',\n",
       " '(09121) Las Flores': '(36) Zona A Caracas',\n",
       " '(09122) Calle 72': '(36) Zona A Caracas',\n",
       " '(09119) Calle 57': '(36) Zona A Caracas',\n",
       " '(09123) Calle 76': '(36) Zona A Caracas',\n",
       " '(02302) Virrey': '(33) Zona B AutoNorte',\n",
       " '(09109) Tercer Milenio': '(36) Zona A Caracas',\n",
       " '(05000) Portal Américas': '(31) Zona F Av. Américas',\n",
       " '(02304) Heroes': '(33) Zona B AutoNorte',\n",
       " '(07112) COMUNEROS': '(30) Zona G NQS Sur',\n",
       " '(04000) Cabecera Calle 80': '(35) Zona D Calle 80',\n",
       " '(02103) Mazurén': '(33) Zona B AutoNorte',\n",
       " '(03007) HUMEDAL CORDOBA': '(32) Zona C Av. Suba',\n",
       " '(02204) Pepe Sierra': '(33) Zona B AutoNorte',\n",
       " '(03004) GRATAMIRA': '(32) Zona C Av. Suba',\n",
       " '(09108) Hospital': '(34) Zona H Caracas Sur',\n",
       " '(09107) Hortúa': '(34) Zona H Caracas Sur',\n",
       " '(09106) Nariño': '(34) Zona H Caracas Sur',\n",
       " '(02300) Calle 100': '(33) Zona B AutoNorte',\n",
       " '(02101) Toberín': '(33) Zona B AutoNorte',\n",
       " '(02205) Calle 106': '(33) Zona B AutoNorte',\n",
       " '(02201) Prado': '(33) Zona B AutoNorte',\n",
       " '(02303) Calle 85': '(33) Zona B AutoNorte',\n",
       " '(02102) Calle 161': '(33) Zona B AutoNorte',\n",
       " '(09117) Calle 45': '(36) Zona A Caracas',\n",
       " '(09118) Marly': '(36) Zona A Caracas',\n",
       " '(09120) Calle 63': '(36) Zona A Caracas',\n",
       " '(02001) Centro Comercial Santa Fe': '(33) Zona B AutoNorte',\n",
       " '(02502) Terminal': '(33) Zona B AutoNorte',\n",
       " '(09001) Molinos': '(34) Zona H Caracas Sur',\n",
       " '(50003) Corral Molinos': '(34) Zona H Caracas Sur',\n",
       " '(09100) Calle 40 Sur': '(34) Zona H Caracas Sur',\n",
       " '(50002) Corral Calle 40 Sur': '(34) Zona H Caracas Sur',\n",
       " '(07006) General Santander': '(30) Zona G NQS Sur',\n",
       " '(04100) Carrera 77': '(35) Zona D Calle 80',\n",
       " '(50006) Corral Carrera 77': '(35) Zona D Calle 80',\n",
       " '(04004) La Granja': '(35) Zona D Calle 80',\n",
       " '(04003) Avenida Ciudad de Cali': '(35) Zona D Calle 80',\n",
       " '(50004) Corral Avenida Ciudad de Cali': '(35) Zona D Calle 80',\n",
       " '(07200) Tygua-San José': '(38) Zona E NQS Central',\n",
       " '(07201) Guatoque -Veraguas': '(38) Zona E NQS Central',\n",
       " '(07010) Bosa': '(30) Zona G NQS Sur',\n",
       " '(57503) Ampliacion San Mateo': '(30) Zona G NQS Sur',\n",
       " '(40000) Cable Portal Tunal': '(40) Zona T Ciudad Bolívar',\n",
       " '(40001) Juan Pablo II': '(40) Zona T Ciudad Bolívar',\n",
       " '(40002) Manitas': '(40) Zona T Ciudad Bolívar',\n",
       " '(40003) Mirador del Paraiso': '(40) Zona T Ciudad Bolívar',\n",
       " '(09004) Santa Lucía': '(34) Zona H Caracas Sur',\n",
       " '(08100) Portal Tunal Cable': '(34) Zona H Caracas Sur'}"
      ]
     },
     "execution_count": 106,
     "metadata": {},
     "output_type": "execute_result"
    },
    {
     "data": {
      "application/javascript": [
       "\n",
       "            setTimeout(function() {\n",
       "                var nbb_cell_id = 106;\n",
       "                var nbb_unformatted_code = \"dic_estacion_linea\";\n",
       "                var nbb_formatted_code = \"dic_estacion_linea\";\n",
       "                var nbb_cells = Jupyter.notebook.get_cells();\n",
       "                for (var i = 0; i < nbb_cells.length; ++i) {\n",
       "                    if (nbb_cells[i].input_prompt_number == nbb_cell_id) {\n",
       "                        if (nbb_cells[i].get_text() == nbb_unformatted_code) {\n",
       "                             nbb_cells[i].set_text(nbb_formatted_code);\n",
       "                        }\n",
       "                        break;\n",
       "                    }\n",
       "                }\n",
       "            }, 500);\n",
       "            "
      ],
      "text/plain": [
       "<IPython.core.display.Javascript object>"
      ]
     },
     "metadata": {},
     "output_type": "display_data"
    }
   ],
   "source": [
    "dic_estacion_linea"
   ]
  },
  {
   "cell_type": "code",
   "execution_count": null,
   "metadata": {},
   "outputs": [],
   "source": []
  },
  {
   "cell_type": "code",
   "execution_count": null,
   "metadata": {},
   "outputs": [],
   "source": []
  },
  {
   "cell_type": "code",
   "execution_count": null,
   "metadata": {},
   "outputs": [],
   "source": []
  },
  {
   "cell_type": "code",
   "execution_count": 3,
   "metadata": {},
   "outputs": [
    {
     "name": "stdout",
     "output_type": "stream",
     "text": [
      "2022-03-29 17:21:21,818 - kedro.io.data_catalog - INFO - Loading data from `validaciones_troncal` (SparkDataSetMHD)...\n"
     ]
    },
    {
     "name": "stderr",
     "output_type": "stream",
     "text": [
      "Using Spark's default log4j profile: org/apache/spark/log4j-defaults.properties\n",
      "Setting default log level to \"WARN\".\n",
      "To adjust logging level use sc.setLogLevel(newLevel). For SparkR, use setLogLevel(newLevel).\n",
      "22/03/29 17:22:03 WARN NativeCodeLoader: Unable to load native-hadoop library for your platform... using builtin-java classes where applicable\n"
     ]
    },
    {
     "data": {
      "application/javascript": [
       "\n",
       "            setTimeout(function() {\n",
       "                var nbb_cell_id = 3;\n",
       "                var nbb_unformatted_code = \"validaciones_troncal = catalog.load('validaciones_troncal')\";\n",
       "                var nbb_formatted_code = \"validaciones_troncal = catalog.load(\\\"validaciones_troncal\\\")\";\n",
       "                var nbb_cells = Jupyter.notebook.get_cells();\n",
       "                for (var i = 0; i < nbb_cells.length; ++i) {\n",
       "                    if (nbb_cells[i].input_prompt_number == nbb_cell_id) {\n",
       "                        if (nbb_cells[i].get_text() == nbb_unformatted_code) {\n",
       "                             nbb_cells[i].set_text(nbb_formatted_code);\n",
       "                        }\n",
       "                        break;\n",
       "                    }\n",
       "                }\n",
       "            }, 500);\n",
       "            "
      ],
      "text/plain": [
       "<IPython.core.display.Javascript object>"
      ]
     },
     "metadata": {},
     "output_type": "display_data"
    }
   ],
   "source": [
    "validaciones_troncal = catalog.load(\"validaciones_troncal\")"
   ]
  },
  {
   "cell_type": "code",
   "execution_count": 4,
   "metadata": {},
   "outputs": [
    {
     "name": "stderr",
     "output_type": "stream",
     "text": [
      "                                                                                \r"
     ]
    },
    {
     "data": {
      "application/javascript": [
       "\n",
       "            setTimeout(function() {\n",
       "                var nbb_cell_id = 4;\n",
       "                var nbb_unformatted_code = \"validaciones_troncal_pd = validaciones_troncal.toPandas()\";\n",
       "                var nbb_formatted_code = \"validaciones_troncal_pd = validaciones_troncal.toPandas()\";\n",
       "                var nbb_cells = Jupyter.notebook.get_cells();\n",
       "                for (var i = 0; i < nbb_cells.length; ++i) {\n",
       "                    if (nbb_cells[i].input_prompt_number == nbb_cell_id) {\n",
       "                        if (nbb_cells[i].get_text() == nbb_unformatted_code) {\n",
       "                             nbb_cells[i].set_text(nbb_formatted_code);\n",
       "                        }\n",
       "                        break;\n",
       "                    }\n",
       "                }\n",
       "            }, 500);\n",
       "            "
      ],
      "text/plain": [
       "<IPython.core.display.Javascript object>"
      ]
     },
     "metadata": {},
     "output_type": "display_data"
    }
   ],
   "source": [
    "validaciones_troncal_pd = validaciones_troncal.toPandas()"
   ]
  },
  {
   "cell_type": "code",
   "execution_count": 7,
   "metadata": {},
   "outputs": [
    {
     "data": {
      "text/plain": [
       "Timestamp('2020-01-01 10:33:28')"
      ]
     },
     "execution_count": 7,
     "metadata": {},
     "output_type": "execute_result"
    },
    {
     "data": {
      "application/javascript": [
       "\n",
       "            setTimeout(function() {\n",
       "                var nbb_cell_id = 7;\n",
       "                var nbb_unformatted_code = \"validaciones_troncal_pd[\\\"Fecha_Transaccion\\\"][0]\";\n",
       "                var nbb_formatted_code = \"validaciones_troncal_pd[\\\"Fecha_Transaccion\\\"][0]\";\n",
       "                var nbb_cells = Jupyter.notebook.get_cells();\n",
       "                for (var i = 0; i < nbb_cells.length; ++i) {\n",
       "                    if (nbb_cells[i].input_prompt_number == nbb_cell_id) {\n",
       "                        if (nbb_cells[i].get_text() == nbb_unformatted_code) {\n",
       "                             nbb_cells[i].set_text(nbb_formatted_code);\n",
       "                        }\n",
       "                        break;\n",
       "                    }\n",
       "                }\n",
       "            }, 500);\n",
       "            "
      ],
      "text/plain": [
       "<IPython.core.display.Javascript object>"
      ]
     },
     "metadata": {},
     "output_type": "display_data"
    }
   ],
   "source": [
    "validaciones_troncal_pd[\"Fecha_Transaccion\"][0]"
   ]
  },
  {
   "cell_type": "code",
   "execution_count": null,
   "metadata": {},
   "outputs": [],
   "source": []
  }
 ],
 "metadata": {
  "kernelspec": {
   "display_name": "transmi",
   "language": "python",
   "name": "python3"
  },
  "language_info": {
   "codemirror_mode": {
    "name": "ipython",
    "version": 3
   },
   "file_extension": ".py",
   "mimetype": "text/x-python",
   "name": "python",
   "nbconvert_exporter": "python",
   "pygments_lexer": "ipython3",
   "version": "3.8.0"
  }
 },
 "nbformat": 4,
 "nbformat_minor": 2
}
