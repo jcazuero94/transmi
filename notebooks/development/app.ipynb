{
 "cells": [
  {
   "cell_type": "code",
   "execution_count": 1,
   "metadata": {},
   "outputs": [
    {
     "name": "stdout",
     "output_type": "stream",
     "text": [
      "2022-04-17 14:34:05,770 - blib2to3.pgen2.driver - INFO - Generating grammar tables from /opt/anaconda3/envs/transmilenio/lib/python3.8/site-packages/blib2to3/Grammar.txt\n",
      "2022-04-17 14:34:05,795 - blib2to3.pgen2.driver - INFO - Writing grammar tables to /Users/juanazuero/Library/Caches/black/20.8b1/Grammar3.8.0.final.0.pickle\n",
      "2022-04-17 14:34:05,796 - blib2to3.pgen2.driver - INFO - Writing failed: [Errno 2] No such file or directory: '/Users/juanazuero/Library/Caches/black/20.8b1/tmp57ia94s_'\n",
      "2022-04-17 14:34:05,797 - blib2to3.pgen2.driver - INFO - Generating grammar tables from /opt/anaconda3/envs/transmilenio/lib/python3.8/site-packages/blib2to3/PatternGrammar.txt\n",
      "2022-04-17 14:34:05,799 - blib2to3.pgen2.driver - INFO - Writing grammar tables to /Users/juanazuero/Library/Caches/black/20.8b1/PatternGrammar3.8.0.final.0.pickle\n",
      "2022-04-17 14:34:05,800 - blib2to3.pgen2.driver - INFO - Writing failed: [Errno 2] No such file or directory: '/Users/juanazuero/Library/Caches/black/20.8b1/tmpl1ae8t22'\n"
     ]
    },
    {
     "data": {
      "application/javascript": [
       "\n",
       "            setTimeout(function() {\n",
       "                var nbb_cell_id = 1;\n",
       "                var nbb_unformatted_code = \"%matplotlib inline\\n%load_ext nb_black\";\n",
       "                var nbb_formatted_code = \"%matplotlib inline\\n%load_ext nb_black\";\n",
       "                var nbb_cells = Jupyter.notebook.get_cells();\n",
       "                for (var i = 0; i < nbb_cells.length; ++i) {\n",
       "                    if (nbb_cells[i].input_prompt_number == nbb_cell_id) {\n",
       "                        if (nbb_cells[i].get_text() == nbb_unformatted_code) {\n",
       "                             nbb_cells[i].set_text(nbb_formatted_code);\n",
       "                        }\n",
       "                        break;\n",
       "                    }\n",
       "                }\n",
       "            }, 500);\n",
       "            "
      ],
      "text/plain": [
       "<IPython.core.display.Javascript object>"
      ]
     },
     "metadata": {},
     "output_type": "display_data"
    }
   ],
   "source": [
    "%matplotlib inline\n",
    "%load_ext nb_black"
   ]
  },
  {
   "cell_type": "code",
   "execution_count": 2,
   "metadata": {},
   "outputs": [
    {
     "data": {
      "application/javascript": [
       "\n",
       "            setTimeout(function() {\n",
       "                var nbb_cell_id = 2;\n",
       "                var nbb_unformatted_code = \"import pandas as pd\\nimport time\";\n",
       "                var nbb_formatted_code = \"import pandas as pd\\nimport time\";\n",
       "                var nbb_cells = Jupyter.notebook.get_cells();\n",
       "                for (var i = 0; i < nbb_cells.length; ++i) {\n",
       "                    if (nbb_cells[i].input_prompt_number == nbb_cell_id) {\n",
       "                        if (nbb_cells[i].get_text() == nbb_unformatted_code) {\n",
       "                             nbb_cells[i].set_text(nbb_formatted_code);\n",
       "                        }\n",
       "                        break;\n",
       "                    }\n",
       "                }\n",
       "            }, 500);\n",
       "            "
      ],
      "text/plain": [
       "<IPython.core.display.Javascript object>"
      ]
     },
     "metadata": {},
     "output_type": "display_data"
    }
   ],
   "source": [
    "import pandas as pd\n",
    "import time\n"
   ]
  },
  {
   "cell_type": "code",
   "execution_count": 3,
   "metadata": {},
   "outputs": [
    {
     "data": {
      "application/javascript": [
       "\n",
       "            setTimeout(function() {\n",
       "                var nbb_cell_id = 3;\n",
       "                var nbb_unformatted_code = \"def unixTimeMillis(dt):\\n    \\\"\\\"\\\" Convert datetime to unix timestamp \\\"\\\"\\\"\\n    return int(time.mktime(dt.timetuple()))\\n\\n\\ndef getMarks(start, end, Nth=100):\\n    \\\"\\\"\\\"Returns the marks for labeling.\\n    Every Nth value will be used.\\n    \\\"\\\"\\\"\\n    daterange = pd.date_range(start=start, end=end, freq=\\\"Y\\\")\\n    result = {\\n        unixTimeMillis(date + pd.Timedelta(value=1, unit=\\\"D\\\")): str(\\n            (date + pd.Timedelta(value=1, unit=\\\"D\\\")).strftime(\\\"%Y\\\")\\n        )\\n        for date in daterange\\n    }\\n    return result\";\n",
       "                var nbb_formatted_code = \"def unixTimeMillis(dt):\\n    \\\"\\\"\\\" Convert datetime to unix timestamp \\\"\\\"\\\"\\n    return int(time.mktime(dt.timetuple()))\\n\\n\\ndef getMarks(start, end, Nth=100):\\n    \\\"\\\"\\\"Returns the marks for labeling.\\n    Every Nth value will be used.\\n    \\\"\\\"\\\"\\n    daterange = pd.date_range(start=start, end=end, freq=\\\"Y\\\")\\n    result = {\\n        unixTimeMillis(date + pd.Timedelta(value=1, unit=\\\"D\\\")): str(\\n            (date + pd.Timedelta(value=1, unit=\\\"D\\\")).strftime(\\\"%Y\\\")\\n        )\\n        for date in daterange\\n    }\\n    return result\";\n",
       "                var nbb_cells = Jupyter.notebook.get_cells();\n",
       "                for (var i = 0; i < nbb_cells.length; ++i) {\n",
       "                    if (nbb_cells[i].input_prompt_number == nbb_cell_id) {\n",
       "                        if (nbb_cells[i].get_text() == nbb_unformatted_code) {\n",
       "                             nbb_cells[i].set_text(nbb_formatted_code);\n",
       "                        }\n",
       "                        break;\n",
       "                    }\n",
       "                }\n",
       "            }, 500);\n",
       "            "
      ],
      "text/plain": [
       "<IPython.core.display.Javascript object>"
      ]
     },
     "metadata": {},
     "output_type": "display_data"
    }
   ],
   "source": [
    "def unixTimeMillis(dt):\n",
    "    \"\"\" Convert datetime to unix timestamp \"\"\"\n",
    "    return int(time.mktime(dt.timetuple()))\n",
    "\n",
    "\n",
    "def getMarks(start, end, Nth=100):\n",
    "    \"\"\"Returns the marks for labeling.\n",
    "    Every Nth value will be used.\n",
    "    \"\"\"\n",
    "    daterange = pd.date_range(start=start, end=end, freq=\"Y\")\n",
    "    result = {\n",
    "        unixTimeMillis(date + pd.Timedelta(value=1, unit=\"D\")): str(\n",
    "            (date + pd.Timedelta(value=1, unit=\"D\")).strftime(\"%Y\")\n",
    "        )\n",
    "        for date in daterange\n",
    "    }\n",
    "    return result\n"
   ]
  },
  {
   "cell_type": "code",
   "execution_count": 46,
   "metadata": {},
   "outputs": [
    {
     "name": "stdout",
     "output_type": "stream",
     "text": [
      "2022-04-17 14:49:14,336 - kedro.io.data_catalog - INFO - Loading data from `forecast_system` (ParquetDataSet)...\n",
      "2022-04-17 14:49:14,379 - kedro.io.data_catalog - INFO - Loading data from `dayly_seasonalities_system` (ParquetDataSet)...\n",
      "2022-04-17 14:49:14,383 - kedro.io.data_catalog - INFO - Loading data from `weekly_seasonality_system` (ParquetDataSet)...\n",
      "2022-04-17 14:49:14,386 - kedro.io.data_catalog - INFO - Loading data from `yearly_seasonality_system` (ParquetDataSet)...\n",
      "2022-04-17 14:49:14,389 - kedro.io.data_catalog - INFO - Loading data from `holidays_ser` (JSONDataSet)...\n"
     ]
    },
    {
     "data": {
      "application/javascript": [
       "\n",
       "            setTimeout(function() {\n",
       "                var nbb_cell_id = 46;\n",
       "                var nbb_unformatted_code = \"from datetime import date\\nfrom black import main\\nimport pandas as pd\\nimport dash\\nfrom dash.dependencies import Input, Output, State\\nfrom dash import dcc, html, dash_table\\nfrom kedro.framework.startup import bootstrap_project\\nfrom pathlib import Path\\nfrom kedro.framework.session import KedroSession\\nimport plotly.express as px\\nfrom sklearn import metrics\\n\\n# app\\napp = dash.Dash(__name__)\\nserver = app.server\\n# Constants\\nSEASONALITIES = [\\n    \\\"Yearly seasonality\\\",\\n    \\\"Weekly seasonality\\\",\\n    \\\"Dayly seasonalities\\\",\\n    \\\"Holidays\\\",\\n]\\nLAYOUT_GRAPHS = {\\n    \\\"paper_bgcolor\\\": \\\"rgba(255,255,255,100)\\\",\\n    \\\"plot_bgcolor\\\": \\\"rgba(255,255,255,100)\\\",\\n}\\nXAXES_CONFIG = {\\n    \\\"showgrid\\\": True,\\n    \\\"gridwidth\\\": 1,\\n    \\\"gridcolor\\\": \\\"lightgrey\\\",\\n}\\nYAXES_CONFIG = {\\n    \\\"showgrid\\\": True,\\n    \\\"gridwidth\\\": 1,\\n    \\\"gridcolor\\\": \\\"lightgrey\\\",\\n}\\nYAXES_CONFIG_2 = {\\n    \\\"zeroline\\\": True,\\n    \\\"zerolinewidth\\\": 2,\\n    \\\"zerolinecolor\\\": \\\"black\\\",\\n}\\nDAY_OF_WEEK = {\\n    0: \\\"Monday\\\",\\n    1: \\\"Tuesday\\\",\\n    2: \\\"Wednesday\\\",\\n    3: \\\"Thursday\\\",\\n    4: \\\"Friday\\\",\\n    5: \\\"Saturday\\\",\\n    6: \\\"Sunday\\\",\\n}\\n# Load data\\nforecast_df = catalog.load(\\\"forecast_system\\\")\\ndayly_seasonalities = catalog.load(\\\"dayly_seasonalities_system\\\")\\nweekly_seasonality = catalog.load(\\\"weekly_seasonality_system\\\")\\nyearly_seasonality = catalog.load(\\\"yearly_seasonality_system\\\")\\nholidays_ser = catalog.load(\\\"holidays_ser\\\")\\n# Preparations\\nmin_time = forecast_df[\\\"ds\\\"].min()\\nmax_time = forecast_df[\\\"ds\\\"].max()\\nholidays_df = pd.DataFrame()\\nholidays_df[\\\"Holiday\\\"] = list(holidays_ser.keys())\\nholidays_df[\\\"Value\\\"] = list(holidays_ser.values())\\nholidays_df[\\\"Value\\\"] = holidays_df[\\\"Value\\\"].apply(lambda x: \\\"{0:.0%}\\\".format(x))\\nholidays_df.sort_values(\\\"Holiday\\\", inplace=True)\\nyearly_seasonality = (\\n    yearly_seasonality[[\\\"yearly\\\", \\\"day\\\"]].groupby(\\\"day\\\").mean().reset_index()\\n)\\nyearly_seasonality.rename(\\n    {\\\"day\\\": \\\"Day of year\\\", \\\"yearly\\\": \\\"Value\\\"}, axis=1, inplace=True\\n)\\ndayly_seasonalities.rename({\\\"day\\\": \\\"Day type\\\"}, axis=1, inplace=True)\\nweekly_seasonality.rename({\\\"weekly\\\": \\\"Value\\\"}, axis=1, inplace=True)\\nweekly_seasonality[\\\"Day of week\\\"] = weekly_seasonality[\\\"day\\\"].map(DAY_OF_WEEK)\\nweekly_seasonality = (\\n    weekly_seasonality[[\\\"Value\\\", \\\"Day of week\\\", \\\"day\\\"]]\\n    .groupby([\\\"Day of week\\\", \\\"day\\\"])\\n    .mean()\\n    .reset_index()\\n    .sort_values(\\\"day\\\")\\n)\";\n",
       "                var nbb_formatted_code = \"from datetime import date\\nfrom black import main\\nimport pandas as pd\\nimport dash\\nfrom dash.dependencies import Input, Output, State\\nfrom dash import dcc, html, dash_table\\nfrom kedro.framework.startup import bootstrap_project\\nfrom pathlib import Path\\nfrom kedro.framework.session import KedroSession\\nimport plotly.express as px\\nfrom sklearn import metrics\\n\\n# app\\napp = dash.Dash(__name__)\\nserver = app.server\\n# Constants\\nSEASONALITIES = [\\n    \\\"Yearly seasonality\\\",\\n    \\\"Weekly seasonality\\\",\\n    \\\"Dayly seasonalities\\\",\\n    \\\"Holidays\\\",\\n]\\nLAYOUT_GRAPHS = {\\n    \\\"paper_bgcolor\\\": \\\"rgba(255,255,255,100)\\\",\\n    \\\"plot_bgcolor\\\": \\\"rgba(255,255,255,100)\\\",\\n}\\nXAXES_CONFIG = {\\n    \\\"showgrid\\\": True,\\n    \\\"gridwidth\\\": 1,\\n    \\\"gridcolor\\\": \\\"lightgrey\\\",\\n}\\nYAXES_CONFIG = {\\n    \\\"showgrid\\\": True,\\n    \\\"gridwidth\\\": 1,\\n    \\\"gridcolor\\\": \\\"lightgrey\\\",\\n}\\nYAXES_CONFIG_2 = {\\n    \\\"zeroline\\\": True,\\n    \\\"zerolinewidth\\\": 2,\\n    \\\"zerolinecolor\\\": \\\"black\\\",\\n}\\nDAY_OF_WEEK = {\\n    0: \\\"Monday\\\",\\n    1: \\\"Tuesday\\\",\\n    2: \\\"Wednesday\\\",\\n    3: \\\"Thursday\\\",\\n    4: \\\"Friday\\\",\\n    5: \\\"Saturday\\\",\\n    6: \\\"Sunday\\\",\\n}\\n# Load data\\nforecast_df = catalog.load(\\\"forecast_system\\\")\\ndayly_seasonalities = catalog.load(\\\"dayly_seasonalities_system\\\")\\nweekly_seasonality = catalog.load(\\\"weekly_seasonality_system\\\")\\nyearly_seasonality = catalog.load(\\\"yearly_seasonality_system\\\")\\nholidays_ser = catalog.load(\\\"holidays_ser\\\")\\n# Preparations\\nmin_time = forecast_df[\\\"ds\\\"].min()\\nmax_time = forecast_df[\\\"ds\\\"].max()\\nholidays_df = pd.DataFrame()\\nholidays_df[\\\"Holiday\\\"] = list(holidays_ser.keys())\\nholidays_df[\\\"Value\\\"] = list(holidays_ser.values())\\nholidays_df[\\\"Value\\\"] = holidays_df[\\\"Value\\\"].apply(lambda x: \\\"{0:.0%}\\\".format(x))\\nholidays_df.sort_values(\\\"Holiday\\\", inplace=True)\\nyearly_seasonality = (\\n    yearly_seasonality[[\\\"yearly\\\", \\\"day\\\"]].groupby(\\\"day\\\").mean().reset_index()\\n)\\nyearly_seasonality.rename(\\n    {\\\"day\\\": \\\"Day of year\\\", \\\"yearly\\\": \\\"Value\\\"}, axis=1, inplace=True\\n)\\ndayly_seasonalities.rename({\\\"day\\\": \\\"Day type\\\"}, axis=1, inplace=True)\\nweekly_seasonality.rename({\\\"weekly\\\": \\\"Value\\\"}, axis=1, inplace=True)\\nweekly_seasonality[\\\"Day of week\\\"] = weekly_seasonality[\\\"day\\\"].map(DAY_OF_WEEK)\\nweekly_seasonality = (\\n    weekly_seasonality[[\\\"Value\\\", \\\"Day of week\\\", \\\"day\\\"]]\\n    .groupby([\\\"Day of week\\\", \\\"day\\\"])\\n    .mean()\\n    .reset_index()\\n    .sort_values(\\\"day\\\")\\n)\";\n",
       "                var nbb_cells = Jupyter.notebook.get_cells();\n",
       "                for (var i = 0; i < nbb_cells.length; ++i) {\n",
       "                    if (nbb_cells[i].input_prompt_number == nbb_cell_id) {\n",
       "                        if (nbb_cells[i].get_text() == nbb_unformatted_code) {\n",
       "                             nbb_cells[i].set_text(nbb_formatted_code);\n",
       "                        }\n",
       "                        break;\n",
       "                    }\n",
       "                }\n",
       "            }, 500);\n",
       "            "
      ],
      "text/plain": [
       "<IPython.core.display.Javascript object>"
      ]
     },
     "metadata": {},
     "output_type": "display_data"
    }
   ],
   "source": [
    "from datetime import date\n",
    "from black import main\n",
    "import pandas as pd\n",
    "import dash\n",
    "from dash.dependencies import Input, Output, State\n",
    "from dash import dcc, html, dash_table\n",
    "from kedro.framework.startup import bootstrap_project\n",
    "from pathlib import Path\n",
    "from kedro.framework.session import KedroSession\n",
    "import plotly.express as px\n",
    "from sklearn import metrics\n",
    "\n",
    "# app\n",
    "app = dash.Dash(__name__)\n",
    "server = app.server\n",
    "# Constants\n",
    "SEASONALITIES = [\n",
    "    \"Yearly seasonality\",\n",
    "    \"Weekly seasonality\",\n",
    "    \"Dayly seasonalities\",\n",
    "    \"Holidays\",\n",
    "]\n",
    "LAYOUT_GRAPHS = {\n",
    "    \"paper_bgcolor\": \"rgba(255,255,255,100)\",\n",
    "    \"plot_bgcolor\": \"rgba(255,255,255,100)\",\n",
    "}\n",
    "XAXES_CONFIG = {\n",
    "    \"showgrid\": True,\n",
    "    \"gridwidth\": 1,\n",
    "    \"gridcolor\": \"lightgrey\",\n",
    "}\n",
    "YAXES_CONFIG = {\n",
    "    \"showgrid\": True,\n",
    "    \"gridwidth\": 1,\n",
    "    \"gridcolor\": \"lightgrey\",\n",
    "}\n",
    "YAXES_CONFIG_2 = {\n",
    "    \"zeroline\": True,\n",
    "    \"zerolinewidth\": 2,\n",
    "    \"zerolinecolor\": \"black\",\n",
    "}\n",
    "DAY_OF_WEEK = {\n",
    "    0: \"Monday\",\n",
    "    1: \"Tuesday\",\n",
    "    2: \"Wednesday\",\n",
    "    3: \"Thursday\",\n",
    "    4: \"Friday\",\n",
    "    5: \"Saturday\",\n",
    "    6: \"Sunday\",\n",
    "}\n",
    "# Load data\n",
    "forecast_df = catalog.load(\"forecast_system\")\n",
    "dayly_seasonalities = catalog.load(\"dayly_seasonalities_system\")\n",
    "weekly_seasonality = catalog.load(\"weekly_seasonality_system\")\n",
    "yearly_seasonality = catalog.load(\"yearly_seasonality_system\")\n",
    "holidays_ser = catalog.load(\"holidays_ser\")\n",
    "# Preparations\n",
    "min_time = forecast_df[\"ds\"].min()\n",
    "max_time = forecast_df[\"ds\"].max()\n",
    "holidays_df = pd.DataFrame()\n",
    "holidays_df[\"Holiday\"] = list(holidays_ser.keys())\n",
    "holidays_df[\"Value\"] = list(holidays_ser.values())\n",
    "holidays_df[\"Value\"] = holidays_df[\"Value\"].apply(lambda x: \"{0:.0%}\".format(x))\n",
    "holidays_df.sort_values(\"Holiday\", inplace=True)\n",
    "yearly_seasonality = (\n",
    "    yearly_seasonality[[\"yearly\", \"day\"]].groupby(\"day\").mean().reset_index()\n",
    ")\n",
    "yearly_seasonality.rename(\n",
    "    {\"day\": \"Day of year\", \"yearly\": \"Value\"}, axis=1, inplace=True\n",
    ")\n",
    "dayly_seasonalities.rename({\"day\": \"Day type\"}, axis=1, inplace=True)\n",
    "weekly_seasonality.rename({\"weekly\": \"Value\"}, axis=1, inplace=True)\n",
    "weekly_seasonality[\"Day of week\"] = weekly_seasonality[\"day\"].map(DAY_OF_WEEK)\n",
    "weekly_seasonality = (\n",
    "    weekly_seasonality[[\"Value\", \"Day of week\", \"day\"]]\n",
    "    .groupby([\"Day of week\", \"day\"])\n",
    "    .mean()\n",
    "    .reset_index()\n",
    "    .sort_values(\"day\")\n",
    ")"
   ]
  },
  {
   "cell_type": "code",
   "execution_count": 47,
   "metadata": {},
   "outputs": [
    {
     "data": {
      "application/javascript": [
       "\n",
       "            setTimeout(function() {\n",
       "                var nbb_cell_id = 47;\n",
       "                var nbb_unformatted_code = \"checklist = [\\n    \\\"Yearly seasonality\\\",\\n    \\\"Weekly seasonality\\\",\\n    \\\"Dayly seasonalities\\\",\\n    \\\"Holidays\\\",\\n]\\ndate_range = [\\n    unixTimeMillis(pd.Timestamp(year=2020, month=1, day=1)),\\n    unixTimeMillis(pd.Timestamp(year=2022, month=2, day=1)),\\n]\\ndemand_aggregation = \\\"Dayly\\\"\";\n",
       "                var nbb_formatted_code = \"checklist = [\\n    \\\"Yearly seasonality\\\",\\n    \\\"Weekly seasonality\\\",\\n    \\\"Dayly seasonalities\\\",\\n    \\\"Holidays\\\",\\n]\\ndate_range = [\\n    unixTimeMillis(pd.Timestamp(year=2020, month=1, day=1)),\\n    unixTimeMillis(pd.Timestamp(year=2022, month=2, day=1)),\\n]\\ndemand_aggregation = \\\"Dayly\\\"\";\n",
       "                var nbb_cells = Jupyter.notebook.get_cells();\n",
       "                for (var i = 0; i < nbb_cells.length; ++i) {\n",
       "                    if (nbb_cells[i].input_prompt_number == nbb_cell_id) {\n",
       "                        if (nbb_cells[i].get_text() == nbb_unformatted_code) {\n",
       "                             nbb_cells[i].set_text(nbb_formatted_code);\n",
       "                        }\n",
       "                        break;\n",
       "                    }\n",
       "                }\n",
       "            }, 500);\n",
       "            "
      ],
      "text/plain": [
       "<IPython.core.display.Javascript object>"
      ]
     },
     "metadata": {},
     "output_type": "display_data"
    }
   ],
   "source": [
    "checklist = [\n",
    "    \"Yearly seasonality\",\n",
    "    \"Weekly seasonality\",\n",
    "    \"Dayly seasonalities\",\n",
    "    \"Holidays\",\n",
    "]\n",
    "date_range = [\n",
    "    unixTimeMillis(pd.Timestamp(year=2020, month=1, day=1)),\n",
    "    unixTimeMillis(pd.Timestamp(year=2022, month=2, day=1)),\n",
    "]\n",
    "demand_aggregation = \"Dayly\""
   ]
  },
  {
   "cell_type": "code",
   "execution_count": 48,
   "metadata": {},
   "outputs": [
    {
     "name": "stderr",
     "output_type": "stream",
     "text": [
      "/opt/anaconda3/envs/transmilenio/lib/python3.8/site-packages/pandas/core/ops/array_ops.py:73: FutureWarning:\n",
      "\n",
      "Comparison of Timestamp with datetime.date is deprecated in order to match the standard library behavior.  In a future version these will be considered non-comparable.Use 'ts == pd.Timestamp(date)' or 'ts.date() == date' instead.\n",
      "\n"
     ]
    },
    {
     "data": {
      "application/javascript": [
       "\n",
       "            setTimeout(function() {\n",
       "                var nbb_cell_id = 48;\n",
       "                var nbb_unformatted_code = \"ini_date = pd.Timestamp(date_range[0], unit=\\\"s\\\")\\nend_date = pd.Timestamp(date_range[1], unit=\\\"s\\\")\\ncols_prediction = []\\nif \\\"Yearly seasonality\\\" in checklist:\\n    cols_prediction += [\\\"yearly\\\"]\\nif \\\"Weekly seasonality\\\" in checklist:\\n    cols_prediction += [\\\"weekly\\\"]\\nif \\\"Dayly seasonalities\\\" in checklist:\\n    cols_prediction += [\\\"weekday\\\", \\\"saturday\\\", \\\"sunday\\\", \\\"holiday\\\"]\\nif \\\"Holidays\\\" in checklist:\\n    cols_prediction += [\\\"holidays\\\"]\\nforecast_df[\\\"yhat\\\"] = 1\\nfor c in cols_prediction:\\n    forecast_df[\\\"yhat\\\"] = forecast_df[\\\"yhat\\\"] + forecast_df[c]\\nforecast_df[\\\"yhat\\\"] = (forecast_df[\\\"trend\\\"] * forecast_df[\\\"yhat\\\"]).apply(\\n    lambda x: max(x, 0)\\n)\\nmain_fig_df = forecast_df[[\\\"ds\\\", \\\"y\\\", \\\"yhat\\\"]].copy()\\nmain_fig_df.rename(\\n    {\\\"ds\\\": \\\"Date\\\", \\\"y\\\": \\\"Observed\\\", \\\"yhat\\\": \\\"Modelled\\\"}, axis=1, inplace=True\\n)\\nif demand_aggregation == \\\"Dayly\\\":\\n    main_fig_df[\\\"Date\\\"] = main_fig_df[\\\"Date\\\"].apply(lambda x: x.date())\\n    main_fig_df = main_fig_df.groupby(\\\"Date\\\").sum().reset_index()\\nif demand_aggregation == \\\"Monthly\\\":\\n    main_fig_df[\\\"Date\\\"] = main_fig_df[\\\"Date\\\"].apply(\\n        lambda x: pd.Timestamp(year=x.year, month=x.month, day=1)\\n    )\\n    main_fig_df = main_fig_df.groupby(\\\"Date\\\").sum().reset_index()\\nmain_fig_df = main_fig_df[\\n    (main_fig_df[\\\"Date\\\"] >= ini_date) & (main_fig_df[\\\"Date\\\"] <= end_date)\\n].copy()\\nmain_fig_df_final = main_fig_df.melt(\\n    id_vars=[\\\"Date\\\"], var_name=\\\"Type\\\", value_name=\\\"Demand\\\"\\n)\\nfigure = px.line(\\n    main_fig_df_final,\\n    x=\\\"Date\\\",\\n    y=\\\"Demand\\\",\\n    color=\\\"Type\\\",\\n    title=\\\"Observed and modelled demand\\\",\\n)\\nfigure.update_layout(**LAYOUT_GRAPHS)\\nfigure.update_xaxes(**XAXES_CONFIG)\\nfigure.update_yaxes(**YAXES_CONFIG)\\n\\nmets = pd.DataFrame(columns=[\\\"Metric\\\", \\\"Value\\\", \\\"Pre-COVID\\\", \\\"COVID\\\"])\";\n",
       "                var nbb_formatted_code = \"ini_date = pd.Timestamp(date_range[0], unit=\\\"s\\\")\\nend_date = pd.Timestamp(date_range[1], unit=\\\"s\\\")\\ncols_prediction = []\\nif \\\"Yearly seasonality\\\" in checklist:\\n    cols_prediction += [\\\"yearly\\\"]\\nif \\\"Weekly seasonality\\\" in checklist:\\n    cols_prediction += [\\\"weekly\\\"]\\nif \\\"Dayly seasonalities\\\" in checklist:\\n    cols_prediction += [\\\"weekday\\\", \\\"saturday\\\", \\\"sunday\\\", \\\"holiday\\\"]\\nif \\\"Holidays\\\" in checklist:\\n    cols_prediction += [\\\"holidays\\\"]\\nforecast_df[\\\"yhat\\\"] = 1\\nfor c in cols_prediction:\\n    forecast_df[\\\"yhat\\\"] = forecast_df[\\\"yhat\\\"] + forecast_df[c]\\nforecast_df[\\\"yhat\\\"] = (forecast_df[\\\"trend\\\"] * forecast_df[\\\"yhat\\\"]).apply(\\n    lambda x: max(x, 0)\\n)\\nmain_fig_df = forecast_df[[\\\"ds\\\", \\\"y\\\", \\\"yhat\\\"]].copy()\\nmain_fig_df.rename(\\n    {\\\"ds\\\": \\\"Date\\\", \\\"y\\\": \\\"Observed\\\", \\\"yhat\\\": \\\"Modelled\\\"}, axis=1, inplace=True\\n)\\nif demand_aggregation == \\\"Dayly\\\":\\n    main_fig_df[\\\"Date\\\"] = main_fig_df[\\\"Date\\\"].apply(lambda x: x.date())\\n    main_fig_df = main_fig_df.groupby(\\\"Date\\\").sum().reset_index()\\nif demand_aggregation == \\\"Monthly\\\":\\n    main_fig_df[\\\"Date\\\"] = main_fig_df[\\\"Date\\\"].apply(\\n        lambda x: pd.Timestamp(year=x.year, month=x.month, day=1)\\n    )\\n    main_fig_df = main_fig_df.groupby(\\\"Date\\\").sum().reset_index()\\nmain_fig_df = main_fig_df[\\n    (main_fig_df[\\\"Date\\\"] >= ini_date) & (main_fig_df[\\\"Date\\\"] <= end_date)\\n].copy()\\nmain_fig_df_final = main_fig_df.melt(\\n    id_vars=[\\\"Date\\\"], var_name=\\\"Type\\\", value_name=\\\"Demand\\\"\\n)\\nfigure = px.line(\\n    main_fig_df_final,\\n    x=\\\"Date\\\",\\n    y=\\\"Demand\\\",\\n    color=\\\"Type\\\",\\n    title=\\\"Observed and modelled demand\\\",\\n)\\nfigure.update_layout(**LAYOUT_GRAPHS)\\nfigure.update_xaxes(**XAXES_CONFIG)\\nfigure.update_yaxes(**YAXES_CONFIG)\\n\\nmets = pd.DataFrame(columns=[\\\"Metric\\\", \\\"Value\\\", \\\"Pre-COVID\\\", \\\"COVID\\\"])\";\n",
       "                var nbb_cells = Jupyter.notebook.get_cells();\n",
       "                for (var i = 0; i < nbb_cells.length; ++i) {\n",
       "                    if (nbb_cells[i].input_prompt_number == nbb_cell_id) {\n",
       "                        if (nbb_cells[i].get_text() == nbb_unformatted_code) {\n",
       "                             nbb_cells[i].set_text(nbb_formatted_code);\n",
       "                        }\n",
       "                        break;\n",
       "                    }\n",
       "                }\n",
       "            }, 500);\n",
       "            "
      ],
      "text/plain": [
       "<IPython.core.display.Javascript object>"
      ]
     },
     "metadata": {},
     "output_type": "display_data"
    }
   ],
   "source": [
    "ini_date = pd.Timestamp(date_range[0], unit=\"s\")\n",
    "end_date = pd.Timestamp(date_range[1], unit=\"s\")\n",
    "cols_prediction = []\n",
    "if \"Yearly seasonality\" in checklist:\n",
    "    cols_prediction += [\"yearly\"]\n",
    "if \"Weekly seasonality\" in checklist:\n",
    "    cols_prediction += [\"weekly\"]\n",
    "if \"Dayly seasonalities\" in checklist:\n",
    "    cols_prediction += [\"weekday\", \"saturday\", \"sunday\", \"holiday\"]\n",
    "if \"Holidays\" in checklist:\n",
    "    cols_prediction += [\"holidays\"]\n",
    "forecast_df[\"yhat\"] = 1\n",
    "for c in cols_prediction:\n",
    "    forecast_df[\"yhat\"] = forecast_df[\"yhat\"] + forecast_df[c]\n",
    "forecast_df[\"yhat\"] = (forecast_df[\"trend\"] * forecast_df[\"yhat\"]).apply(\n",
    "    lambda x: max(x, 0)\n",
    ")\n",
    "main_fig_df = forecast_df[[\"ds\", \"y\", \"yhat\"]].copy()\n",
    "main_fig_df.rename(\n",
    "    {\"ds\": \"Date\", \"y\": \"Observed\", \"yhat\": \"Modelled\"}, axis=1, inplace=True\n",
    ")\n",
    "if demand_aggregation == \"Dayly\":\n",
    "    main_fig_df[\"Date\"] = main_fig_df[\"Date\"].apply(lambda x: x.date())\n",
    "    main_fig_df = main_fig_df.groupby(\"Date\").sum().reset_index()\n",
    "if demand_aggregation == \"Monthly\":\n",
    "    main_fig_df[\"Date\"] = main_fig_df[\"Date\"].apply(\n",
    "        lambda x: pd.Timestamp(year=x.year, month=x.month, day=1)\n",
    "    )\n",
    "    main_fig_df = main_fig_df.groupby(\"Date\").sum().reset_index()\n",
    "main_fig_df = main_fig_df[\n",
    "    (main_fig_df[\"Date\"] >= ini_date) & (main_fig_df[\"Date\"] <= end_date)\n",
    "].copy()\n",
    "main_fig_df_final = main_fig_df.melt(\n",
    "    id_vars=[\"Date\"], var_name=\"Type\", value_name=\"Demand\"\n",
    ")\n",
    "figure = px.line(\n",
    "    main_fig_df_final,\n",
    "    x=\"Date\",\n",
    "    y=\"Demand\",\n",
    "    color=\"Type\",\n",
    "    title=\"Observed and modelled demand\",\n",
    ")\n",
    "figure.update_layout(**LAYOUT_GRAPHS)\n",
    "figure.update_xaxes(**XAXES_CONFIG)\n",
    "figure.update_yaxes(**YAXES_CONFIG)\n",
    "\n",
    "mets = pd.DataFrame(columns=[\"Metric\", \"Value\", \"Pre-COVID\", \"COVID\"])"
   ]
  },
  {
   "cell_type": "code",
   "execution_count": null,
   "metadata": {},
   "outputs": [],
   "source": []
  },
  {
   "cell_type": "code",
   "execution_count": null,
   "metadata": {},
   "outputs": [],
   "source": []
  },
  {
   "cell_type": "code",
   "execution_count": 49,
   "metadata": {},
   "outputs": [
    {
     "data": {
      "application/javascript": [
       "\n",
       "            setTimeout(function() {\n",
       "                var nbb_cell_id = 49;\n",
       "                var nbb_unformatted_code = \"main_fig_df.reset_index(inplace=True, drop=True)\\ncovid_date = pd.Timestamp(year=2020, month=3, day=20)\\nmain_fig_df_precov = main_fig_df[pd.to_datetime(main_fig_df[\\\"Date\\\"]) <= covid_date]\\nmain_fig_df_cov = main_fig_df[pd.to_datetime(main_fig_df[\\\"Date\\\"]) > covid_date]\\nfor i, met in enumerate(\\n    [\\n        metrics.mean_absolute_error,\\n        metrics.mean_absolute_percentage_error,\\n        metrics.mean_squared_error,\\n    ]\\n):\\n\\n    mets.loc[i] = [\\n        met.__name__,\\n        met(main_fig_df[\\\"Observed\\\"], main_fig_df[\\\"Modelled\\\"]),\\n        met(main_fig_df_precov[\\\"Observed\\\"], main_fig_df_precov[\\\"Modelled\\\"])\\n        if len(main_fig_df_precov) > 0\\n        else \\\"NA\\\",\\n        met(main_fig_df_cov[\\\"Observed\\\"], main_fig_df_cov[\\\"Modelled\\\"])\\n        if len(main_fig_df_cov) > 0\\n        else \\\"NA\\\",\\n    ]\";\n",
       "                var nbb_formatted_code = \"main_fig_df.reset_index(inplace=True, drop=True)\\ncovid_date = pd.Timestamp(year=2020, month=3, day=20)\\nmain_fig_df_precov = main_fig_df[pd.to_datetime(main_fig_df[\\\"Date\\\"]) <= covid_date]\\nmain_fig_df_cov = main_fig_df[pd.to_datetime(main_fig_df[\\\"Date\\\"]) > covid_date]\\nfor i, met in enumerate(\\n    [\\n        metrics.mean_absolute_error,\\n        metrics.mean_absolute_percentage_error,\\n        metrics.mean_squared_error,\\n    ]\\n):\\n\\n    mets.loc[i] = [\\n        met.__name__,\\n        met(main_fig_df[\\\"Observed\\\"], main_fig_df[\\\"Modelled\\\"]),\\n        met(main_fig_df_precov[\\\"Observed\\\"], main_fig_df_precov[\\\"Modelled\\\"])\\n        if len(main_fig_df_precov) > 0\\n        else \\\"NA\\\",\\n        met(main_fig_df_cov[\\\"Observed\\\"], main_fig_df_cov[\\\"Modelled\\\"])\\n        if len(main_fig_df_cov) > 0\\n        else \\\"NA\\\",\\n    ]\";\n",
       "                var nbb_cells = Jupyter.notebook.get_cells();\n",
       "                for (var i = 0; i < nbb_cells.length; ++i) {\n",
       "                    if (nbb_cells[i].input_prompt_number == nbb_cell_id) {\n",
       "                        if (nbb_cells[i].get_text() == nbb_unformatted_code) {\n",
       "                             nbb_cells[i].set_text(nbb_formatted_code);\n",
       "                        }\n",
       "                        break;\n",
       "                    }\n",
       "                }\n",
       "            }, 500);\n",
       "            "
      ],
      "text/plain": [
       "<IPython.core.display.Javascript object>"
      ]
     },
     "metadata": {},
     "output_type": "display_data"
    }
   ],
   "source": [
    "main_fig_df.reset_index(inplace=True, drop=True)\n",
    "covid_date = pd.Timestamp(year=2020, month=3, day=20)\n",
    "main_fig_df_precov = main_fig_df[pd.to_datetime(main_fig_df[\"Date\"]) <= covid_date]\n",
    "main_fig_df_cov = main_fig_df[pd.to_datetime(main_fig_df[\"Date\"]) > covid_date]\n",
    "for i, met in enumerate(\n",
    "    [\n",
    "        metrics.mean_absolute_error,\n",
    "        metrics.mean_absolute_percentage_error,\n",
    "        metrics.mean_squared_error,\n",
    "    ]\n",
    "):\n",
    "\n",
    "    mets.loc[i] = [\n",
    "        met.__name__,\n",
    "        met(main_fig_df[\"Observed\"], main_fig_df[\"Modelled\"]),\n",
    "        met(main_fig_df_precov[\"Observed\"], main_fig_df_precov[\"Modelled\"])\n",
    "        if len(main_fig_df_precov) > 0\n",
    "        else \"NA\",\n",
    "        met(main_fig_df_cov[\"Observed\"], main_fig_df_cov[\"Modelled\"])\n",
    "        if len(main_fig_df_cov) > 0\n",
    "        else \"NA\",\n",
    "    ]\n",
    "mets.iloc[1, 1:] = mets.iloc[1, 1:].map(lambda x: \"{0:.0%}\".format(x))\n",
    "mets.iloc[0, 1:] = mets.iloc[0, 1:].map(lambda x: int(round(x, -3)))\n",
    "mets.iloc[2, 1:] = mets.iloc[2, 1:].map(lambda x: int(round(x ** 0.5, -3)))\n",
    "mets.iloc[2, 0] = \"root_mean_squared_error\""
   ]
  },
  {
   "cell_type": "code",
   "execution_count": 50,
   "metadata": {},
   "outputs": [
    {
     "data": {
      "application/javascript": [
       "\n",
       "            setTimeout(function() {\n",
       "                var nbb_cell_id = 50;\n",
       "                var nbb_unformatted_code = \"mets.iloc[1, 1:] = mets.iloc[1, 1:].map(lambda x: \\\"{0:.0%}\\\".format(x))\";\n",
       "                var nbb_formatted_code = \"mets.iloc[1, 1:] = mets.iloc[1, 1:].map(lambda x: \\\"{0:.0%}\\\".format(x))\";\n",
       "                var nbb_cells = Jupyter.notebook.get_cells();\n",
       "                for (var i = 0; i < nbb_cells.length; ++i) {\n",
       "                    if (nbb_cells[i].input_prompt_number == nbb_cell_id) {\n",
       "                        if (nbb_cells[i].get_text() == nbb_unformatted_code) {\n",
       "                             nbb_cells[i].set_text(nbb_formatted_code);\n",
       "                        }\n",
       "                        break;\n",
       "                    }\n",
       "                }\n",
       "            }, 500);\n",
       "            "
      ],
      "text/plain": [
       "<IPython.core.display.Javascript object>"
      ]
     },
     "metadata": {},
     "output_type": "display_data"
    }
   ],
   "source": []
  },
  {
   "cell_type": "code",
   "execution_count": 51,
   "metadata": {},
   "outputs": [
    {
     "data": {
      "application/javascript": [
       "\n",
       "            setTimeout(function() {\n",
       "                var nbb_cell_id = 51;\n",
       "                var nbb_unformatted_code = \"mets.iloc[0, 1:] = mets.iloc[0, 1:].map(lambda x: int(round(x, -3)))\\nmets.iloc[2, 1:] = mets.iloc[2, 1:].map(lambda x: int(round(x**0.5, -3)))\\nmets.iloc[2,0] = 'root_mean_squared_error'\";\n",
       "                var nbb_formatted_code = \"mets.iloc[0, 1:] = mets.iloc[0, 1:].map(lambda x: int(round(x, -3)))\\nmets.iloc[2, 1:] = mets.iloc[2, 1:].map(lambda x: int(round(x ** 0.5, -3)))\\nmets.iloc[2, 0] = \\\"root_mean_squared_error\\\"\";\n",
       "                var nbb_cells = Jupyter.notebook.get_cells();\n",
       "                for (var i = 0; i < nbb_cells.length; ++i) {\n",
       "                    if (nbb_cells[i].input_prompt_number == nbb_cell_id) {\n",
       "                        if (nbb_cells[i].get_text() == nbb_unformatted_code) {\n",
       "                             nbb_cells[i].set_text(nbb_formatted_code);\n",
       "                        }\n",
       "                        break;\n",
       "                    }\n",
       "                }\n",
       "            }, 500);\n",
       "            "
      ],
      "text/plain": [
       "<IPython.core.display.Javascript object>"
      ]
     },
     "metadata": {},
     "output_type": "display_data"
    }
   ],
   "source": []
  },
  {
   "cell_type": "code",
   "execution_count": 52,
   "metadata": {},
   "outputs": [
    {
     "data": {
      "text/html": [
       "<div>\n",
       "<style scoped>\n",
       "    .dataframe tbody tr th:only-of-type {\n",
       "        vertical-align: middle;\n",
       "    }\n",
       "\n",
       "    .dataframe tbody tr th {\n",
       "        vertical-align: top;\n",
       "    }\n",
       "\n",
       "    .dataframe thead th {\n",
       "        text-align: right;\n",
       "    }\n",
       "</style>\n",
       "<table border=\"1\" class=\"dataframe\">\n",
       "  <thead>\n",
       "    <tr style=\"text-align: right;\">\n",
       "      <th></th>\n",
       "      <th>Metric</th>\n",
       "      <th>Value</th>\n",
       "      <th>Pre-COVID</th>\n",
       "      <th>COVID</th>\n",
       "    </tr>\n",
       "  </thead>\n",
       "  <tbody>\n",
       "    <tr>\n",
       "      <th>0</th>\n",
       "      <td>mean_absolute_error</td>\n",
       "      <td>93000</td>\n",
       "      <td>135000</td>\n",
       "      <td>88000</td>\n",
       "    </tr>\n",
       "    <tr>\n",
       "      <th>1</th>\n",
       "      <td>mean_absolute_percentage_error</td>\n",
       "      <td>14%</td>\n",
       "      <td>13%</td>\n",
       "      <td>14%</td>\n",
       "    </tr>\n",
       "    <tr>\n",
       "      <th>2</th>\n",
       "      <td>root_mean_squared_error</td>\n",
       "      <td>134000</td>\n",
       "      <td>194000</td>\n",
       "      <td>125000</td>\n",
       "    </tr>\n",
       "  </tbody>\n",
       "</table>\n",
       "</div>"
      ],
      "text/plain": [
       "                           Metric   Value Pre-COVID   COVID\n",
       "0             mean_absolute_error   93000    135000   88000\n",
       "1  mean_absolute_percentage_error     14%       13%     14%\n",
       "2         root_mean_squared_error  134000    194000  125000"
      ]
     },
     "execution_count": 52,
     "metadata": {},
     "output_type": "execute_result"
    },
    {
     "data": {
      "application/javascript": [
       "\n",
       "            setTimeout(function() {\n",
       "                var nbb_cell_id = 52;\n",
       "                var nbb_unformatted_code = \"mets\";\n",
       "                var nbb_formatted_code = \"mets\";\n",
       "                var nbb_cells = Jupyter.notebook.get_cells();\n",
       "                for (var i = 0; i < nbb_cells.length; ++i) {\n",
       "                    if (nbb_cells[i].input_prompt_number == nbb_cell_id) {\n",
       "                        if (nbb_cells[i].get_text() == nbb_unformatted_code) {\n",
       "                             nbb_cells[i].set_text(nbb_formatted_code);\n",
       "                        }\n",
       "                        break;\n",
       "                    }\n",
       "                }\n",
       "            }, 500);\n",
       "            "
      ],
      "text/plain": [
       "<IPython.core.display.Javascript object>"
      ]
     },
     "metadata": {},
     "output_type": "display_data"
    }
   ],
   "source": [
    "mets"
   ]
  },
  {
   "cell_type": "code",
   "execution_count": null,
   "metadata": {},
   "outputs": [],
   "source": []
  }
 ],
 "metadata": {
  "kernelspec": {
   "display_name": "transmi",
   "language": "python",
   "name": "python3"
  },
  "language_info": {
   "codemirror_mode": {
    "name": "ipython",
    "version": 3
   },
   "file_extension": ".py",
   "mimetype": "text/x-python",
   "name": "python",
   "nbconvert_exporter": "python",
   "pygments_lexer": "ipython3",
   "version": "3.8.0"
  }
 },
 "nbformat": 4,
 "nbformat_minor": 2
}
