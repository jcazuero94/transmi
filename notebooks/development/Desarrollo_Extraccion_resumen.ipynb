{
 "cells": [
  {
   "cell_type": "code",
   "execution_count": 1,
   "metadata": {},
   "outputs": [],
   "source": [
    "import pandas as pd\n",
    "import numpy as np\n",
    "import matplotlib.pyplot as plt\n",
    "import datetime"
   ]
  },
  {
   "cell_type": "code",
   "execution_count": 2,
   "metadata": {},
   "outputs": [
    {
     "name": "stdout",
     "output_type": "stream",
     "text": [
      "2022-04-01 15:01:20,224 - kedro.framework.session.store - INFO - `read()` not implemented for `BaseSessionStore`. Assuming empty store.\n"
     ]
    },
    {
     "name": "stderr",
     "output_type": "stream",
     "text": [
      "/opt/anaconda3/envs/transmilenio/lib/python3.8/site-packages/kedro/framework/context/context.py:32: DeprecationWarning: Accessing package_name via the context will be deprecated in Kedro 0.18.0.\n",
      "  warn(\n"
     ]
    },
    {
     "name": "stdout",
     "output_type": "stream",
     "text": [
      "2022-04-01 15:01:20,307 - kedro.config.config - INFO - Config from path `/Users/juanazuero/Documents/Transporte/Transmilenio/transmi/conf/local` will override the following existing top-level config keys: dic_estacion_linea_int, dic_estacion_linea_raw, validaciones_troncal, validaciones_troncal_log_int, validaciones_troncal_log_raw, validaciones_troncal_summary@pandas, validaciones_troncal_zip_log_int, validaciones_troncal_zip_log_raw\n",
      "2022-04-01 15:01:20,312 - root - INFO - ** Kedro project transmi\n",
      "2022-04-01 15:01:20,312 - root - INFO - Defined global variable `context`, `session`, `catalog` and `pipelines`\n",
      "2022-04-01 15:01:20,403 - blib2to3.pgen2.driver - INFO - Generating grammar tables from /opt/anaconda3/envs/transmilenio/lib/python3.8/site-packages/blib2to3/Grammar.txt\n",
      "2022-04-01 15:01:20,415 - blib2to3.pgen2.driver - INFO - Writing grammar tables to /Users/juanazuero/Library/Caches/black/22.1.0/Grammar3.8.0.final.0.pickle\n",
      "2022-04-01 15:01:20,416 - blib2to3.pgen2.driver - INFO - Writing failed: [Errno 2] No such file or directory: '/Users/juanazuero/Library/Caches/black/22.1.0/tmpj_yk_ji6'\n",
      "2022-04-01 15:01:20,418 - blib2to3.pgen2.driver - INFO - Generating grammar tables from /opt/anaconda3/envs/transmilenio/lib/python3.8/site-packages/blib2to3/PatternGrammar.txt\n",
      "2022-04-01 15:01:20,419 - blib2to3.pgen2.driver - INFO - Writing grammar tables to /Users/juanazuero/Library/Caches/black/22.1.0/PatternGrammar3.8.0.final.0.pickle\n",
      "2022-04-01 15:01:20,419 - blib2to3.pgen2.driver - INFO - Writing failed: [Errno 2] No such file or directory: '/Users/juanazuero/Library/Caches/black/22.1.0/tmpvxvvrn_1'\n"
     ]
    },
    {
     "data": {
      "application/javascript": [
       "\n",
       "            setTimeout(function() {\n",
       "                var nbb_cell_id = 2;\n",
       "                var nbb_unformatted_code = \"%matplotlib inline\\n%reload_kedro\\n%load_ext nb_black\";\n",
       "                var nbb_formatted_code = \"%matplotlib inline\\n%reload_kedro\\n%load_ext nb_black\";\n",
       "                var nbb_cells = Jupyter.notebook.get_cells();\n",
       "                for (var i = 0; i < nbb_cells.length; ++i) {\n",
       "                    if (nbb_cells[i].input_prompt_number == nbb_cell_id) {\n",
       "                        if (nbb_cells[i].get_text() == nbb_unformatted_code) {\n",
       "                             nbb_cells[i].set_text(nbb_formatted_code);\n",
       "                        }\n",
       "                        break;\n",
       "                    }\n",
       "                }\n",
       "            }, 500);\n",
       "            "
      ],
      "text/plain": [
       "<IPython.core.display.Javascript object>"
      ]
     },
     "metadata": {},
     "output_type": "display_data"
    }
   ],
   "source": [
    "%matplotlib inline\n",
    "%reload_kedro\n",
    "%load_ext nb_black"
   ]
  },
  {
   "cell_type": "code",
   "execution_count": 3,
   "metadata": {},
   "outputs": [
    {
     "data": {
      "application/javascript": [
       "\n",
       "            setTimeout(function() {\n",
       "                var nbb_cell_id = 3;\n",
       "                var nbb_unformatted_code = \"BASE_VALIDACIONES_REQUEST = \\\"https://storage.googleapis.com/validaciones_tmsa/\\\"\";\n",
       "                var nbb_formatted_code = \"BASE_VALIDACIONES_REQUEST = \\\"https://storage.googleapis.com/validaciones_tmsa/\\\"\";\n",
       "                var nbb_cells = Jupyter.notebook.get_cells();\n",
       "                for (var i = 0; i < nbb_cells.length; ++i) {\n",
       "                    if (nbb_cells[i].input_prompt_number == nbb_cell_id) {\n",
       "                        if (nbb_cells[i].get_text() == nbb_unformatted_code) {\n",
       "                             nbb_cells[i].set_text(nbb_formatted_code);\n",
       "                        }\n",
       "                        break;\n",
       "                    }\n",
       "                }\n",
       "            }, 500);\n",
       "            "
      ],
      "text/plain": [
       "<IPython.core.display.Javascript object>"
      ]
     },
     "metadata": {},
     "output_type": "display_data"
    }
   ],
   "source": [
    "BASE_VALIDACIONES_REQUEST = \"https://storage.googleapis.com/validaciones_tmsa/\""
   ]
  },
  {
   "cell_type": "code",
   "execution_count": 4,
   "metadata": {},
   "outputs": [
    {
     "name": "stdout",
     "output_type": "stream",
     "text": [
      "2022-04-01 15:01:20,491 - kedro.io.data_catalog - INFO - Loading data from `links_data_transmi` (CSVDataSet)...\n"
     ]
    },
    {
     "data": {
      "application/javascript": [
       "\n",
       "            setTimeout(function() {\n",
       "                var nbb_cell_id = 4;\n",
       "                var nbb_unformatted_code = \"links_data_transmi = catalog.load(\\\"links_data_transmi\\\")\";\n",
       "                var nbb_formatted_code = \"links_data_transmi = catalog.load(\\\"links_data_transmi\\\")\";\n",
       "                var nbb_cells = Jupyter.notebook.get_cells();\n",
       "                for (var i = 0; i < nbb_cells.length; ++i) {\n",
       "                    if (nbb_cells[i].input_prompt_number == nbb_cell_id) {\n",
       "                        if (nbb_cells[i].get_text() == nbb_unformatted_code) {\n",
       "                             nbb_cells[i].set_text(nbb_formatted_code);\n",
       "                        }\n",
       "                        break;\n",
       "                    }\n",
       "                }\n",
       "            }, 500);\n",
       "            "
      ],
      "text/plain": [
       "<IPython.core.display.Javascript object>"
      ]
     },
     "metadata": {},
     "output_type": "display_data"
    }
   ],
   "source": [
    "links_data_transmi = catalog.load(\"links_data_transmi\")"
   ]
  },
  {
   "cell_type": "code",
   "execution_count": 6,
   "metadata": {
    "scrolled": true
   },
   "outputs": [
    {
     "name": "stdout",
     "output_type": "stream",
     "text": [
      "2022/02%20TM%20Resumen%20de%20Validaciones%20Troncales%20al%2028%20Feb%202022%20Intervalo%2015%20Mint.xlsx\n",
      "Index(['Estación', 'Intervalo', 'date', 'demand'], dtype='object')\n",
      "2022/01%20TM%20Resumen%20de%20Validaciones%20Troncales%20al%2031%20de%20Ene%202022%20Intervalo%2015%20Mint.xlsx\n",
      "Index(['Estación', 'Intervalo', 'date', 'demand'], dtype='object')\n",
      "2021/12%20TM%20Resumen%20de%20Validaciones%20Troncales%20al%2031%20Dic%202021%20Intervalo%2015%20Mint.xlsx\n",
      "Index(['Estación', 'Intervalo', 'date', 'demand'], dtype='object')\n",
      "2021/11%20TM%20Resumen%20de%20Validaciones%20Troncales%20al%2030%20Nov%202021%20Intervalo%2015%20Mint.xlsx\n",
      "Index(['Estación', 'Intervalo', 'date', 'demand'], dtype='object')\n",
      "2021/10%20TM%20Resumen%20de%20Validaciones%20Troncales%20al%2031%20Oct%202021%20Intervalo%2015%20Mint.xlsx\n",
      "Index(['Estación', 'Intervalo', 'date', 'demand'], dtype='object')\n",
      "2021/09%20TM%20Resumen%20de%20Validaciones%20Troncales%20al%2030%20Sep%202021%20Intervalo%2015%20Mint.xlsx\n",
      "Index(['Estación', 'Intervalo', 'date', 'demand'], dtype='object')\n",
      "2021/08%20TM%20Resumen%20de%20Validaciones%20Troncales%20al%2031%20Ago%202021%20Intervalo%2015%20Mint.xlsx\n",
      "Index(['Estación', 'Intervalo', 'date', 'demand'], dtype='object')\n",
      "2021/07%20TM%20Resumen%20de%20Validaciones%20Troncales%20al%2031%20Jul%202021%20Intervalo%2015%20Mint.xlsx\n",
      "Index(['Estación', 'Intervalo', 'date', 'demand'], dtype='object')\n",
      "2021/06%20TM%20Resumen%20de%20Validaciones%20Troncales%20al%2030%20Jun%202021%20Intervalo%2015%20Mint.xlsx\n",
      "Index(['Estación', 'Intervalo', 'date', 'demand'], dtype='object')\n",
      "2021/05%20TM%20Resumen%20de%20Validaciones%20Troncales%20al%2031%20May%202021%20Intervalo%2015%20Mint.xlsx\n",
      "Index(['Estación', 'Intervalo', 'date', 'demand'], dtype='object')\n",
      "2021/04%20TM%20Resumen%20de%20Validaciones%20Troncales%20al%2030%20Abr%202021%20Intervalo%2015%20Mint.xlsx\n",
      "Index(['Estación', 'Intervalo', 'date', 'demand'], dtype='object')\n",
      "2021/03%20TM%20Resumen%20de%20Validaciones%20Troncales%20al%2031%20Mar%202021%20Intervalo%2015%20Mint.xlsx\n",
      "Index(['Estación', 'Intervalo', 'date', 'demand'], dtype='object')\n",
      "2021/02%20TM%20Resumen%20de%20Validaciones%20Troncales%20al%2028%20Feb%202021%20Intervalo%2015%20Mint.xlsx\n",
      "Index(['Estación', 'Intervalo', 'date', 'demand'], dtype='object')\n",
      "2021/01%20TM%20Resumen%20de%20Validaciones%20Troncales%20al%2031%20Ene%202021%20Intervalo%2015%20Mint.xlsx\n",
      "Index(['Estación', 'Intervalo', 'date', 'demand'], dtype='object')\n",
      "2020/12%20TM%20Resumen%20de%20Validaciones%20Troncales%20al%2031%20de%20Dic%202020%20Intervalo%2015%20Mint.xlsx\n",
      "Index(['Estación', 'Intervalo', 'date', 'demand'], dtype='object')\n",
      "2020/11%20TM%20Resumen%20de%20Validaciones%20Troncales%20al%2030%20Nov%202020%20Intervalo%2015%20Mint.xlsx\n",
      "Index(['Estación', 'Intervalo', 'date', 'demand'], dtype='object')\n",
      "2020/10%20TM%20Resumen%20de%20Validaciones%20Troncales%20al%2031%20Oct%202020%20Intervalo%2015%20Mint.xlsx\n",
      "Index(['Estación', 'Intervalo', 'date', 'demand'], dtype='object')\n",
      "2020/09%20TM%20Resumen%20de%20Validaciones%20Troncales%20al%2030%20Sep%202020%20Intervalo%2015%20Mint.xlsx\n",
      "Index(['Estación', 'Intervalo', 'date', 'demand'], dtype='object')\n",
      "2020/08%20TM%20Resumen%20de%20Validaciones%20Troncales%20al%2031%20Ago%202020%20Intervalo%2015%20Mint.xlsx\n",
      "Index(['Estación', 'Intervalo', 'date', 'demand'], dtype='object')\n",
      "2020/07%20TM%20Resumen%20de%20Validaciones%20Troncales%20al%2031%20Jul%202020%20Intervalo%2015%20Mint.xlsx\n",
      "Index(['Estación', 'Intervalo', 'date', 'demand'], dtype='object')\n",
      "2020/06%20TM%20Resumen%20de%20Validaciones%20Troncales%20al%2030%20Jun%202020%20Intervalo%2015%20Mint.xlsx\n",
      "Index(['Estación', 'Intervalo', 'date', 'demand'], dtype='object')\n",
      "2020/05%20TM%20Resumen%20de%20Validaciones%20Troncales%20al%2031%20May%202020%20Intervalo%2015%20Mint.xlsx\n",
      "Index(['Estación', 'Intervalo', 'date', 'demand'], dtype='object')\n",
      "2020/04%20TM%20Resumen%20de%20Validaciones%20Troncales%20al%2030%20Abr%202020%20Intervalo%2015%20Mint.xlsx\n",
      "Index(['Estación', 'Intervalo', 'date', 'demand'], dtype='object')\n",
      "2020/03%20TM%20Resumen%20de%20Validaciones%20Troncales%20al%2031%20Mar%202020%20Intervalo%2015%20Mint.xlsx\n",
      "Index(['Estación', 'Intervalo', 'date', 'demand'], dtype='object')\n",
      "2020/02%20TM%20Resumen%20de%20Validaciones%20Troncales%20al%2029%20Feb%202020%20Intervalo%2015%20Mint.xlsx\n",
      "Index(['Estación', 'Intervalo', 'date', 'demand'], dtype='object')\n",
      "2020/01%20TM%20Resumen%20de%20Validaciones%20Troncales%20al%2031%20Ene%202019%20Intervalo%2015%20Mint.xlsx\n",
      "Index(['Estación', 'Intervalo', 'date', 'demand'], dtype='object')\n",
      "2019/12%20TM%20Resumen%20de%20Validaciones%20Troncales%20al%2031%20Dic%202019%20Intervalo%2015%20Mint.xlsx\n",
      "Index(['Estación', 'Intervalo', 'date', 'demand'], dtype='object')\n",
      "2019/11%20TM%20Resumen%20de%20Validaciones%20Troncales%20al%2030%20Nov%202019%20Intervalo%2015%20Mint.xlsx\n",
      "Index(['Estación', 'Intervalo', 'date', 'demand'], dtype='object')\n",
      "2019/10%20TM%20Resumen%20de%20Validaciones%20Troncales%20al%2031%20Oct%202019%20Intervalo%2015%20Mint.xlsx\n",
      "Index(['Estación', 'Intervalo', 'date', 'demand'], dtype='object')\n",
      "2019/09%20TM%20Resumen%20de%20Validaciones%20Troncales%20al%2030%20Sept%202019%20Intervalo%2015%20Mint.xlsx\n",
      "Index(['Estación', 'Intervalo', 'date', 'demand'], dtype='object')\n",
      "2019/08%20TM%20Resumen%20de%20Validaciones%20Troncales%20al%2031%20Agosto%202019%20Intervalo%2015%20Mint.xlsx\n",
      "Index(['Estación', 'Intervalo', 'date', 'demand'], dtype='object')\n",
      "2019/07%20TM%20Resumen%20de%20Validaciones%20Troncales%20al%2031%20Julio%202019%20Intervalo%2015%20Mint.xlsx\n",
      "Index(['Estación', 'Intervalo', 'date', 'demand'], dtype='object')\n",
      "2019/06%20TM%20Resumen%20de%20Validaciones%20Troncales%20al%2030%20Junio%202019%20Intervalo%2015%20Mint.xlsx\n",
      "Index(['Estación', 'Intervalo', 'date', 'demand'], dtype='object')\n",
      "2019/05%20TM%20Resumen%20de%20Validaciones%20Troncales%20al%2031%20Mayo%202019%20Intervalo%2015%20Mint.xlsx\n",
      "Index(['Estación', 'Intervalo', 'date', 'demand'], dtype='object')\n",
      "2019/04%20TM%20Resumen%20de%20Validaciones%20Troncales%20al%2030%20Abril%202019%20Intervalo%2015%20Mint.xlsx\n",
      "Index(['Estación', 'Intervalo', 'date', 'demand'], dtype='object')\n",
      "2019/03%20TM%20Resumen%20de%20Validaciones%20Troncales%20al%2031%20Marzo%202019%20Intervalo%2015%20Mint.xlsx\n",
      "Index(['Estación', 'Intervalo', 'date', 'demand'], dtype='object')\n",
      "2019/02%20TM%20Resumen%20de%20Validaciones%20Troncales%20al%2028%20Febrero%202019%20Intervalo%2015%20Mint.xlsx\n",
      "Index(['Estación', 'Intervalo', 'date', 'demand'], dtype='object')\n",
      "2019/01%20TM%20Resumen%20de%20Validaciones%20Troncales%20al%2031%20Enero%202019%20Intervalo%2015%20Mint.xlsx\n",
      "Index(['Estación', 'Intervalo', 'date', 'demand'], dtype='object')\n",
      "2018/12%20TM%20Resumen%20de%20Validaciones%20Troncales%20al%2031%20Diciembre%202018%20Intervalo%2015%20Mint.xlsx\n",
      "Index(['Estación', 'Intervalo', 'date', 'demand'], dtype='object')\n",
      "2018/11%20TM%20Resumen%20de%20Validaciones%20Troncales%20al%2030%20Noviembre%202018%20Intervalo%2015%20Mint.xlsx\n",
      "Index(['Estación', 'Intervalo', 'date', 'demand'], dtype='object')\n",
      "2018/10%20TM%20Resumen%20de%20Validaciones%20Troncales%20al%2031%20Octubre%202018%20Intervalo%2015%20Mint.xlsx\n",
      "Index(['Estación', 'Intervalo', 'date', 'demand'], dtype='object')\n",
      "2018/09%20TM%20Resumen%20de%20Validaciones%20Troncales%20al%2030%20Septiembre%202018%20Intervalo%2015%20Mint.xlsx\n",
      "Index(['Estación', 'Intervalo', 'date', 'demand'], dtype='object')\n",
      "2018/08%20TM%20Resumen%20de%20Validaciones%20Troncales%20al%2031%20Agosto%202018%20Intervalo%2015%20Mint.xlsx\n",
      "Index(['Estación', 'Intervalo', 'date', 'demand'], dtype='object')\n",
      "2018/07%20TM%20Resumen%20de%20Validaciones%20Troncales%20al%2031%20Julio%202018%20Intervalo%2015%20Mint.xlsx\n",
      "Index(['Estación', 'Intervalo', 'date', 'demand'], dtype='object')\n",
      "2018/06%20TM%20Resumen%20de%20Validaciones%20Troncales%20al%2030%20Junio%202018%20Intervalo%2015%20Mint.xlsx\n",
      "Index(['Estación', 'Intervalo', 'date', 'demand'], dtype='object')\n",
      "2018/05%20TM%20Resumen%20de%20Validaciones%20Troncales%20al%2031%20Mayo%202018%20Intervalo%2015%20Mint.xlsx\n",
      "Index(['Estación', 'Intervalo', 'date', 'demand'], dtype='object')\n",
      "2018/04%20TM%20Resumen%20de%20Validaciones%20Troncales%20al%2030%20Abril%202018%20Intervalo%2015%20Mint.xlsx\n",
      "Index(['Estación', 'Intervalo', 'date', 'demand'], dtype='object')\n"
     ]
    },
    {
     "name": "stdout",
     "output_type": "stream",
     "text": [
      "2018/03%20TM%20Resumen%20de%20Validaciones%20Troncales%20al%2031%20Marzo%202018%20Intervalo%2015%20Mint.xlsx\n",
      "Index(['Estación', 'Intervalo', 'date', 'demand'], dtype='object')\n",
      "2018/02%20TM%20Resumen%20de%20Validaciones%20Troncales%20al%2028%20Febrero%202018%20Intervalo%2015%20Mint.xlsx\n",
      "Index(['Estación', 'Intervalo', 'date', 'demand'], dtype='object')\n",
      "2018/01%20TM%20Resumen%20de%20Validaciones%20Troncales%20al%2031%20Enero%202018%20Intervalo%2015%20Mint.xlsx\n",
      "Index(['Estación', 'Intervalo', 'date', 'demand'], dtype='object')\n"
     ]
    },
    {
     "data": {
      "application/javascript": [
       "\n",
       "            setTimeout(function() {\n",
       "                var nbb_cell_id = 6;\n",
       "                var nbb_unformatted_code = \"result = None\\nfor row in links_data_transmi.iterrows():\\n    link = row[1][\\\"Link\\\"]\\n    link_type = row[1][\\\"Type\\\"]\\n    link = link.replace(\\\" \\\", \\\"%20\\\")\\n    if link_type == 1:\\n        print(link)\\n        excel = pd.read_excel(BASE_VALIDACIONES_REQUEST + \\\"ValidacionTroncal/\\\" + link)\\n        for i in range(8):\\n            for j in range(5):\\n                if excel.iloc[i, j] == \\\"Fase\\\":\\n                    start_coord = i, j\\n                    break\\n        cols = excel.iloc[start_coord[0], start_coord[1] :].values\\n        cols = [c.date() if type(c) == datetime.datetime else c.strip() for c in cols]\\n        excel = excel.iloc[start_coord[0] + 1 :, start_coord[1] :].copy()\\n        excel.columns = cols\\n        excel = excel[excel[\\\"Fase\\\"] != \\\"Total general\\\"].copy()\\n        excel.drop([\\\"Total general\\\", \\\"Fase\\\"], axis=1, inplace=True)\\n        excel.dropna(how=\\\"all\\\", inplace=True)\\n        excel.dropna(how=\\\"all\\\", axis=1, inplace=True)\\n        excel_summary = (\\n            excel.drop([\\\"L\\u00ednea\\\", \\\"Acceso de Estaci\\u00f3n\\\"], axis=1)\\n            .groupby([\\\"Estaci\\u00f3n\\\", \\\"Intervalo\\\"])\\n            .sum()\\n        )\\n        excel_summary = excel_summary.reset_index().melt(\\n            id_vars=[\\\"Estaci\\u00f3n\\\", \\\"Intervalo\\\"], var_name=\\\"date\\\", value_name=\\\"demand\\\"\\n        )\\n        print(excel_summary.columns)\\n        result = pd.concat([result, excel_summary], ignore_index=True)\";\n",
       "                var nbb_formatted_code = \"result = None\\nfor row in links_data_transmi.iterrows():\\n    link = row[1][\\\"Link\\\"]\\n    link_type = row[1][\\\"Type\\\"]\\n    link = link.replace(\\\" \\\", \\\"%20\\\")\\n    if link_type == 1:\\n        print(link)\\n        excel = pd.read_excel(BASE_VALIDACIONES_REQUEST + \\\"ValidacionTroncal/\\\" + link)\\n        for i in range(8):\\n            for j in range(5):\\n                if excel.iloc[i, j] == \\\"Fase\\\":\\n                    start_coord = i, j\\n                    break\\n        cols = excel.iloc[start_coord[0], start_coord[1] :].values\\n        cols = [c.date() if type(c) == datetime.datetime else c.strip() for c in cols]\\n        excel = excel.iloc[start_coord[0] + 1 :, start_coord[1] :].copy()\\n        excel.columns = cols\\n        excel = excel[excel[\\\"Fase\\\"] != \\\"Total general\\\"].copy()\\n        excel.drop([\\\"Total general\\\", \\\"Fase\\\"], axis=1, inplace=True)\\n        excel.dropna(how=\\\"all\\\", inplace=True)\\n        excel.dropna(how=\\\"all\\\", axis=1, inplace=True)\\n        excel_summary = (\\n            excel.drop([\\\"L\\u00ednea\\\", \\\"Acceso de Estaci\\u00f3n\\\"], axis=1)\\n            .groupby([\\\"Estaci\\u00f3n\\\", \\\"Intervalo\\\"])\\n            .sum()\\n        )\\n        excel_summary = excel_summary.reset_index().melt(\\n            id_vars=[\\\"Estaci\\u00f3n\\\", \\\"Intervalo\\\"], var_name=\\\"date\\\", value_name=\\\"demand\\\"\\n        )\\n        print(excel_summary.columns)\\n        result = pd.concat([result, excel_summary], ignore_index=True)\";\n",
       "                var nbb_cells = Jupyter.notebook.get_cells();\n",
       "                for (var i = 0; i < nbb_cells.length; ++i) {\n",
       "                    if (nbb_cells[i].input_prompt_number == nbb_cell_id) {\n",
       "                        if (nbb_cells[i].get_text() == nbb_unformatted_code) {\n",
       "                             nbb_cells[i].set_text(nbb_formatted_code);\n",
       "                        }\n",
       "                        break;\n",
       "                    }\n",
       "                }\n",
       "            }, 500);\n",
       "            "
      ],
      "text/plain": [
       "<IPython.core.display.Javascript object>"
      ]
     },
     "metadata": {},
     "output_type": "display_data"
    }
   ],
   "source": [
    "result = None\n",
    "for row in links_data_transmi.iterrows():\n",
    "    link = row[1][\"Link\"]\n",
    "    link_type = row[1][\"Type\"]\n",
    "    link = link.replace(\" \", \"%20\")\n",
    "    if link_type == 1:\n",
    "        print(link)\n",
    "        excel = pd.read_excel(BASE_VALIDACIONES_REQUEST + \"ValidacionTroncal/\" + link)\n",
    "        for i in range(8):\n",
    "            for j in range(5):\n",
    "                if excel.iloc[i, j] == \"Fase\":\n",
    "                    start_coord = i, j\n",
    "                    break\n",
    "        cols = excel.iloc[start_coord[0], start_coord[1] :].values\n",
    "        cols = [c.date() if type(c) == datetime.datetime else c.strip() for c in cols]\n",
    "        excel = excel.iloc[start_coord[0] + 1 :, start_coord[1] :].copy()\n",
    "        excel.columns = cols\n",
    "        excel = excel[excel[\"Fase\"] != \"Total general\"].copy()\n",
    "        excel.drop([\"Total general\", \"Fase\"], axis=1, inplace=True)\n",
    "        excel.dropna(how=\"all\", inplace=True)\n",
    "        excel.dropna(how=\"all\", axis=1, inplace=True)\n",
    "        excel_summary = (\n",
    "            excel.drop([\"Línea\", \"Acceso de Estación\"], axis=1)\n",
    "            .groupby([\"Estación\", \"Intervalo\"])\n",
    "            .sum()\n",
    "        )\n",
    "        excel_summary = excel_summary.reset_index().melt(\n",
    "            id_vars=[\"Estación\", \"Intervalo\"], var_name=\"date\", value_name=\"demand\"\n",
    "        )\n",
    "        print(excel_summary.columns)\n",
    "        result = pd.concat([result, excel_summary], ignore_index=True)"
   ]
  },
  {
   "cell_type": "code",
   "execution_count": 12,
   "metadata": {},
   "outputs": [
    {
     "data": {
      "text/plain": [
       "True"
      ]
     },
     "execution_count": 12,
     "metadata": {},
     "output_type": "execute_result"
    },
    {
     "data": {
      "application/javascript": [
       "\n",
       "            setTimeout(function() {\n",
       "                var nbb_cell_id = 12;\n",
       "                var nbb_unformatted_code = \"type(\\\"asdf\\\") == str\";\n",
       "                var nbb_formatted_code = \"type(\\\"asdf\\\") == str\";\n",
       "                var nbb_cells = Jupyter.notebook.get_cells();\n",
       "                for (var i = 0; i < nbb_cells.length; ++i) {\n",
       "                    if (nbb_cells[i].input_prompt_number == nbb_cell_id) {\n",
       "                        if (nbb_cells[i].get_text() == nbb_unformatted_code) {\n",
       "                             nbb_cells[i].set_text(nbb_formatted_code);\n",
       "                        }\n",
       "                        break;\n",
       "                    }\n",
       "                }\n",
       "            }, 500);\n",
       "            "
      ],
      "text/plain": [
       "<IPython.core.display.Javascript object>"
      ]
     },
     "metadata": {},
     "output_type": "display_data"
    }
   ],
   "source": [
    "type(\"asdf\") == str"
   ]
  },
  {
   "cell_type": "code",
   "execution_count": 15,
   "metadata": {},
   "outputs": [
    {
     "data": {
      "application/javascript": [
       "\n",
       "            setTimeout(function() {\n",
       "                var nbb_cell_id = 15;\n",
       "                var nbb_unformatted_code = \"result[\\\"Intervalo\\\"] = result[\\\"Intervalo\\\"].apply(\\n    lambda x: datetime.time(int(x.split(\\\":\\\")[0]), int(x.split(\\\":\\\")[1])) if type(x) == str else x\\n)\";\n",
       "                var nbb_formatted_code = \"result[\\\"Intervalo\\\"] = result[\\\"Intervalo\\\"].apply(\\n    lambda x: datetime.time(int(x.split(\\\":\\\")[0]), int(x.split(\\\":\\\")[1]))\\n    if type(x) == str\\n    else x\\n)\";\n",
       "                var nbb_cells = Jupyter.notebook.get_cells();\n",
       "                for (var i = 0; i < nbb_cells.length; ++i) {\n",
       "                    if (nbb_cells[i].input_prompt_number == nbb_cell_id) {\n",
       "                        if (nbb_cells[i].get_text() == nbb_unformatted_code) {\n",
       "                             nbb_cells[i].set_text(nbb_formatted_code);\n",
       "                        }\n",
       "                        break;\n",
       "                    }\n",
       "                }\n",
       "            }, 500);\n",
       "            "
      ],
      "text/plain": [
       "<IPython.core.display.Javascript object>"
      ]
     },
     "metadata": {},
     "output_type": "display_data"
    }
   ],
   "source": [
    "result[\"Intervalo\"] = result[\"Intervalo\"].apply(\n",
    "    lambda x: datetime.time(int(x.split(\":\")[0]), int(x.split(\":\")[1]))\n",
    "    if type(x) == str\n",
    "    else x\n",
    ")"
   ]
  },
  {
   "cell_type": "code",
   "execution_count": 19,
   "metadata": {},
   "outputs": [
    {
     "data": {
      "application/javascript": [
       "\n",
       "            setTimeout(function() {\n",
       "                var nbb_cell_id = 19;\n",
       "                var nbb_unformatted_code = \"result.to_parquet('prueba.parquet')\";\n",
       "                var nbb_formatted_code = \"result.to_parquet(\\\"prueba.parquet\\\")\";\n",
       "                var nbb_cells = Jupyter.notebook.get_cells();\n",
       "                for (var i = 0; i < nbb_cells.length; ++i) {\n",
       "                    if (nbb_cells[i].input_prompt_number == nbb_cell_id) {\n",
       "                        if (nbb_cells[i].get_text() == nbb_unformatted_code) {\n",
       "                             nbb_cells[i].set_text(nbb_formatted_code);\n",
       "                        }\n",
       "                        break;\n",
       "                    }\n",
       "                }\n",
       "            }, 500);\n",
       "            "
      ],
      "text/plain": [
       "<IPython.core.display.Javascript object>"
      ]
     },
     "metadata": {},
     "output_type": "display_data"
    }
   ],
   "source": [
    "result.to_parquet(\"prueba.parquet\")"
   ]
  },
  {
   "cell_type": "code",
   "execution_count": 18,
   "metadata": {},
   "outputs": [
    {
     "data": {
      "text/plain": [
       "array(['(02000) Cabecera Autopista Norte',\n",
       "       '(02001) Centro Comercial Santa Fe', '(02101) Toberín',\n",
       "       '(02102) Calle 161', '(02103) Mazurén', '(02104) Calle 146',\n",
       "       '(02105) Calle 142', '(02200) Alcalá', '(02201) Prado',\n",
       "       '(02202) Calle 127', '(02205) Calle 106', '(02300) Calle 100',\n",
       "       '(02302) Virrey', '(02303) Calle 85', '(02304) Heroes',\n",
       "       '(02502) Terminal', '(03000) Portal Suba', '(03001) LA CAMPIÑA',\n",
       "       '(03002) SUBA - TV- 91', '(03003) 21 ANGELES', '(03004) GRATAMIRA',\n",
       "       '(03005) SUBA - AV. BOYACA', '(03006) NIZA - CALLE 127',\n",
       "       '(03007) HUMEDAL CORDOBA', '(03009) Av. Suba- Calle 116',\n",
       "       '(03010) PUENTE LARGO', '(03011) SUBA - CALLE 100',\n",
       "       '(03012) SUBA - CALLE 95', '(03013) RIO NEGRO',\n",
       "       '(03014) SAN MARTIN', '(04000) Cabecera Calle 80',\n",
       "       '(04001) Quirigua', '(04002) Carrera 90',\n",
       "       '(04003) Avenida Ciudad de Cali', '(04004) La Granja',\n",
       "       '(04100) Carrera 77', '(04101) Minuto de Dios',\n",
       "       '(04102) Avenida Boyaca', '(04103) Las Ferias',\n",
       "       '(04104) Avenida 68', '(04105) Carrera 53', '(04106) Carrera 47',\n",
       "       '(04107) Escuela Militar', '(04108) El Polo',\n",
       "       '(05000) Portal Américas', '(05001) Patio Bonito',\n",
       "       '(05005) Transversal 86', '(05100) Banderas P. Central',\n",
       "       '(05101) Mandalay - Cr.73', '(05102) Av. Américas - Av. Boyacá',\n",
       "       '(05103) Marsella', '(05105) Pradera', '(05107) Américas - Cr.53',\n",
       "       '(06000) Portal Eldorado', '(06001) Modelia', '(06002) Normandía',\n",
       "       '(06100) Av. Rojas', '(06101) El Tiempo',\n",
       "       '(06102) Salitre El Greco', '(06103) CAN', '(06104) Gobernación',\n",
       "       '(06105) Quinta Paredes', '(06106) Recinto Ferial',\n",
       "       '(06107) Ciudad Universitaria', '(06108) Concejo de Bogotá',\n",
       "       '(06109) Centro Memoria', '(06111) Universidades',\n",
       "       '(07000) Portal Sur', '(07001) PERDOMO', '(07002) MADELENA',\n",
       "       '(07003) SEVILLANA', '(07004) VENECIA', '(07005) ALQUERIA',\n",
       "       '(07006) General Santander', '(07007) NQS - Calle 38A Sur',\n",
       "       '(07008) NQS - Calle 30 Sur', '(07009) SENA', '(07010) Bosa',\n",
       "       '(07101) CASTELLANA', '(07102) NQS - CALLE 75',\n",
       "       '(07103) AV. CHILE', '(07104) Simon Bolivar',\n",
       "       '(07105) MOVISTAR ARENA', '(07106) EL CAMPIN',\n",
       "       '(07107) U. NACIONAL', '(07108) Av. El Dorado', '(07109) CAD',\n",
       "       '(07110) PALOQUEMAO', '(07111) NQS - RICAURTE',\n",
       "       '(07112) COMUNEROS', '(07113) SANTA ISABEL',\n",
       "       '(07201) Guatoque -Veraguas', '(07503) SAN MATEO',\n",
       "       '(07504) TERREROS', '(07505) LEON XIII', '(07506) DESPENSA',\n",
       "       '(08000) Portal Tunal', '(08001) Parque el Tunal',\n",
       "       '(08002) Biblioteca', '(08100) Portal Tunal Cable',\n",
       "       '(09000) Cabecera Usme', '(09001) Molinos', '(09002) Consuelo',\n",
       "       '(09003) Socorro', '(09004) Santa Lucía', '(09100) Calle 40 Sur',\n",
       "       '(09101) Quiroga', '(09103) Olaya', '(09104) Restrepo',\n",
       "       '(09105) Río Fucha', '(09106) Nariño', '(09107) Hortúa',\n",
       "       '(09108) Hospital', '(09109) Tercer Milenio',\n",
       "       '(09110) Avenida Jimenez', '(09111) Calle 19', '(09113) Calle 22',\n",
       "       '(09114) Calle 26', '(09115) Calle 34', '(09116) Avenida 39',\n",
       "       '(09117) Calle 45', '(09118) Marly', '(09119) Calle 57',\n",
       "       '(09120) Calle 63', '(09121) Las Flores', '(09122) Calle 72',\n",
       "       '(09123) Calle 76', '(10000) Portal 20 de Julio',\n",
       "       '(10001) Country Sur', '(10002) Av. Primero de Mayo',\n",
       "       '(10003) Ciudad Jardín', '(10004) Policarpa',\n",
       "       '(10005) Bicentenario', '(10006) San Victorino',\n",
       "       '(10007) Las Nieves', '(10008) San Diego',\n",
       "       '(10009) Museo Nacional', '(10010) San Bernardo',\n",
       "       '(12000) Puente Aranda', '(12001) Carrera 43',\n",
       "       '(12002) CDS - Carrera 32', '(12003) Ricaurte',\n",
       "       '(12004) Carrera 22', '(12007) Zona Industrial',\n",
       "       '(1245) M84 Normal', '(14001) La Sabana', '(14004) Museo del Oro',\n",
       "       '(14005) Las Aguas', '(1413) M82-L82 Ciclov',\n",
       "       '(1414) M82 Refuerzo', '(1442) M86-K86 Normal',\n",
       "       '(1444) M86-K86 Circular Aeropuerto', '(1446) M86-K86 Ciclov',\n",
       "       '(1451) M82-L82 Normal', '(1452) L82 Refuerzo calle 79',\n",
       "       '(1711) D81 Normal', '(1712) M81 Normal', '(1713) D81 Ciclov',\n",
       "       '(1714) M81 Ciclov', '(1746) H83', '(1951) M83',\n",
       "       '(1993) M84 Normal', '(1993) M84_Normal', '(1994) C84 Normal',\n",
       "       '(1994) C84_Normal', '(2008) M84 Normal', '(2009) C84 Normal',\n",
       "       '(2010) M84 Ciclovia', '(2011) C84 Ciclovia',\n",
       "       '(40000) Cable Portal Tunal', '(40001) Juan Pablo II',\n",
       "       '(40002) Manitas', '(40003) Mirador del Paraiso',\n",
       "       '(50002) Corral Calle 40 Sur', '(50003) Corral Molinos',\n",
       "       '(50006) Corral Carrera 77', '(57503) Ampliacion San Mateo',\n",
       "       '(07200) Tygua-San José', '(1246) C84 Normal', '(1247) M84 Ciclov',\n",
       "       '(1248) C84 Ciclovia', '(1443) K86 Refuerzo Calle 75',\n",
       "       '(1445) M86-K86 Circular Portal-Museo',\n",
       "       '(1450) M86-K86 Ciclovia Hasta T-3A', '(1995) M84_Ciclovia',\n",
       "       '(1996) C84_Ciclovia', '(22000) Estación Virtual',\n",
       "       '(1249) Circular M84-C84', '(1448) M86-K86 Ciclov�desde CL118',\n",
       "       '(1715) Circular CL72', '(1415) M82 Refuerzo Ciclov', '(1747) M83',\n",
       "       '(02204) Pepe Sierra', '(05002) Tintal',\n",
       "       '(1447) M86-K86 Ciclov�desde T-3A',\n",
       "       '(1449) M86-K86 Ciclov�hasta CL118',\n",
       "       '(50004) Corral Avenida Ciudad de Cali', '(790) Ida_Suba_Norte',\n",
       "       '(1751) M86-K86 Circular Aeropuerto Pru',\n",
       "       '(1753) K86 Refuerzo Calle 75 Pru', '(1456) H83', '(1457) M83',\n",
       "       '(1433) D81 Normal', '(1434) M81 Normal', '(1435) D81 Ciclov',\n",
       "       '(1441) Circular CL72', '(1436) M81 Ciclov',\n",
       "       '(40004) Bicicletero Mirador del Paraíso',\n",
       "       '(1254) M81-D81 Circular Cl72', '(1365) M86-K86 Normal',\n",
       "       '(1408) H83', '(1409) M83', '(1412) M82-L82 Normal',\n",
       "       '(1416) M86-K86 Normal', '(1417) M86-K86 Circular Aeropuerto',\n",
       "       '(1418) M86-K86 Circular Portal-Museo', '(1419) M86-K86 Ciclov',\n",
       "       '(1420) M86-K86 Ciclov�desde T-3A',\n",
       "       '(1421) M86-K86 Ciclov�desde CL118',\n",
       "       '(1422) M86-K86 Ciclov�hasta CL118',\n",
       "       '(1423) M86-K86 Ciclov�Hasta T-3A', '(1424) D81 Normal',\n",
       "       '(1425) M81 Normal', '(1426) D81 Ciclov', '(1427) M81 Ciclov',\n",
       "       '(1120) M82-L82 Ciclov', '(1121) M82 Refuerzo',\n",
       "       '(1125) M82 Refuerzo Ciclov', '(1187) M82-L82 Normal',\n",
       "       '(1250) D81 Normal', '(1251) M81 Normal', '(1252) D81 Ciclov',\n",
       "       '(1253) M81 Ciclov', '(1348) H83', '(1349) M83',\n",
       "       '(1370) M86-K86 Circular Aeropuerto',\n",
       "       '(1371) M86-K86 Circular Portal-Museo', '(1372) M86-K86 Ciclovia',\n",
       "       '(1383) M86-K86 Ciclovia desde T-3A',\n",
       "       '(1384) M86-K86 Ciclovia desde CL118',\n",
       "       '(1385) M86-K86 Ciclovia Hasta CL118',\n",
       "       '(1386) M86-K86 Ciclovia Hasta T-3A', '(1037) M83',\n",
       "       '(1268) M86-K86 Ciclovia', '(1269) M86-K86 Ciclovia desde T2',\n",
       "       '(1270) M86-K86 Ciclovia desde CL118',\n",
       "       '(1271) M86-K86 Ciclovia Hasta CL118',\n",
       "       '(1272) M86-K86 Ciclovia Hasta T2', '(1273) K86 Refuerzo Calle 75',\n",
       "       '(1274) M86-K86 Normal', '(1275) M86-K86 Refuerzo Corferias',\n",
       "       '(1276) M86-K86 Circular Portal-Museo',\n",
       "       '(1277) K86 Circular Aeropuerto',\n",
       "       '(1278) K86 Ciclovia Refuerzo Museo', '(1036) H83',\n",
       "       '(03009) SHAIO', '(05102) Mundo Aventura', '(06106) Corferias',\n",
       "       '(1127) M86-K86 Ciclovia', '(02102) Cardio Infantíl',\n",
       "       '(09115) Profamilia', '(10010) Hospitales',\n",
       "       '(1184) Circular M86-K86 Museo-Portal',\n",
       "       '(1240) M86-K86 Ciclovia Desde T2',\n",
       "       '(1241) M86-K86 Ciclovia Desde CL118',\n",
       "       '(1242) M86-K86 Ciclovia Hasta CL118',\n",
       "       '(1243) M86-K86 Ciclovia Hasta T2', '(1244) M86-K86 Normal',\n",
       "       '(1259) K86 Circular Aeropuerto',\n",
       "       '(1264) Circular M86 Portal-Museo',\n",
       "       '(1265) Circular K86 Museo-Portal', '(1134) M84 Normal',\n",
       "       '(1128) M86-K86 Normal', '(1129) D81 Normal', '(1131) D81 Ciclov',\n",
       "       '(1132) M81 Ciclov', '(1135) C84 Normal', '(1136) M84 Ciclov',\n",
       "       '(1137) C84 Ciclovia', '(1183) M81 Normal',\n",
       "       '(06108) Plaza de la Democracia', '(1118) M82-L82 Normal',\n",
       "       '(1130) M81 Normal', '(07105) COLISEO',\n",
       "       '(310) M86-K86 Refuerzo Portal', '(498) Refuerzo Museo Ciclovia',\n",
       "       '(50007) Corral General Santander', '(505) M86-K86 Ciclovia',\n",
       "       '(606) M86-K86 Normal', '(772) C84 Normal', '(774) M84 Normal',\n",
       "       '(492) M84 Ciclov', '(607) K86 Refuerzo CL 75', '(744) D81 Normal',\n",
       "       '(745) M81 Normal', '(746) D81 Ciclov', '(747) M81 Ciclov',\n",
       "       '(773) C84 Ciclovia', '(889) M82-L82 Normal',\n",
       "       '(890) M82-L82 Ciclov', '(891) M82 Refuerzo', '(892) L82 Refuerzo',\n",
       "       '(893) M82-L82 Av 1a de Mayo', '(895) L82 Refuerzo Ciclov',\n",
       "       '(896) L82 Refuerzo CL 79', '(894) M82 Refuerzo Ciclov',\n",
       "       '(775) H83', '(776) M83', '(748) H83', '(749) M83'], dtype=object)"
      ]
     },
     "execution_count": 18,
     "metadata": {},
     "output_type": "execute_result"
    },
    {
     "data": {
      "application/javascript": [
       "\n",
       "            setTimeout(function() {\n",
       "                var nbb_cell_id = 18;\n",
       "                var nbb_unformatted_code = \"result['Estaci\\u00f3n'].unique()\";\n",
       "                var nbb_formatted_code = \"result[\\\"Estaci\\u00f3n\\\"].unique()\";\n",
       "                var nbb_cells = Jupyter.notebook.get_cells();\n",
       "                for (var i = 0; i < nbb_cells.length; ++i) {\n",
       "                    if (nbb_cells[i].input_prompt_number == nbb_cell_id) {\n",
       "                        if (nbb_cells[i].get_text() == nbb_unformatted_code) {\n",
       "                             nbb_cells[i].set_text(nbb_formatted_code);\n",
       "                        }\n",
       "                        break;\n",
       "                    }\n",
       "                }\n",
       "            }, 500);\n",
       "            "
      ],
      "text/plain": [
       "<IPython.core.display.Javascript object>"
      ]
     },
     "metadata": {},
     "output_type": "display_data"
    }
   ],
   "source": [
    "result[\"Estación\"].unique()"
   ]
  },
  {
   "cell_type": "code",
   "execution_count": 17,
   "metadata": {},
   "outputs": [
    {
     "data": {
      "text/plain": [
       "Estación     object\n",
       "Intervalo    object\n",
       "date         object\n",
       "demand        int64\n",
       "dtype: object"
      ]
     },
     "execution_count": 17,
     "metadata": {},
     "output_type": "execute_result"
    },
    {
     "data": {
      "application/javascript": [
       "\n",
       "            setTimeout(function() {\n",
       "                var nbb_cell_id = 17;\n",
       "                var nbb_unformatted_code = \"result.dtypes\";\n",
       "                var nbb_formatted_code = \"result.dtypes\";\n",
       "                var nbb_cells = Jupyter.notebook.get_cells();\n",
       "                for (var i = 0; i < nbb_cells.length; ++i) {\n",
       "                    if (nbb_cells[i].input_prompt_number == nbb_cell_id) {\n",
       "                        if (nbb_cells[i].get_text() == nbb_unformatted_code) {\n",
       "                             nbb_cells[i].set_text(nbb_formatted_code);\n",
       "                        }\n",
       "                        break;\n",
       "                    }\n",
       "                }\n",
       "            }, 500);\n",
       "            "
      ],
      "text/plain": [
       "<IPython.core.display.Javascript object>"
      ]
     },
     "metadata": {},
     "output_type": "display_data"
    }
   ],
   "source": [
    "result.dtypes"
   ]
  },
  {
   "cell_type": "code",
   "execution_count": 10,
   "metadata": {},
   "outputs": [
    {
     "data": {
      "text/plain": [
       "array([datetime.time(0, 0), datetime.time(0, 15), datetime.time(4, 0),\n",
       "       datetime.time(4, 15), datetime.time(4, 30), datetime.time(4, 45),\n",
       "       datetime.time(5, 0), datetime.time(5, 15), datetime.time(5, 30),\n",
       "       datetime.time(5, 45), datetime.time(6, 0), datetime.time(6, 15),\n",
       "       datetime.time(6, 30), datetime.time(6, 45), datetime.time(7, 0),\n",
       "       datetime.time(7, 15), datetime.time(7, 30), datetime.time(7, 45),\n",
       "       datetime.time(8, 0), datetime.time(8, 15), datetime.time(8, 30),\n",
       "       datetime.time(8, 45), datetime.time(9, 0), datetime.time(9, 15),\n",
       "       datetime.time(9, 30), datetime.time(9, 45), datetime.time(10, 0),\n",
       "       datetime.time(10, 15), datetime.time(10, 30),\n",
       "       datetime.time(10, 45), datetime.time(11, 0), datetime.time(11, 15),\n",
       "       datetime.time(11, 30), datetime.time(11, 45), datetime.time(12, 0),\n",
       "       datetime.time(12, 15), datetime.time(12, 30),\n",
       "       datetime.time(12, 45), datetime.time(13, 0), datetime.time(13, 15),\n",
       "       datetime.time(13, 30), datetime.time(13, 45), datetime.time(14, 0),\n",
       "       datetime.time(14, 15), datetime.time(14, 30),\n",
       "       datetime.time(14, 45), datetime.time(15, 0), datetime.time(15, 15),\n",
       "       datetime.time(15, 30), datetime.time(15, 45), datetime.time(16, 0),\n",
       "       datetime.time(16, 15), datetime.time(16, 30),\n",
       "       datetime.time(16, 45), datetime.time(17, 0), datetime.time(17, 15),\n",
       "       datetime.time(17, 30), datetime.time(17, 45), datetime.time(18, 0),\n",
       "       datetime.time(18, 15), datetime.time(18, 30),\n",
       "       datetime.time(18, 45), datetime.time(19, 0), datetime.time(19, 15),\n",
       "       datetime.time(19, 30), datetime.time(19, 45), datetime.time(20, 0),\n",
       "       datetime.time(20, 15), datetime.time(20, 30),\n",
       "       datetime.time(20, 45), datetime.time(21, 0), datetime.time(21, 15),\n",
       "       datetime.time(21, 30), datetime.time(21, 45), datetime.time(22, 0),\n",
       "       datetime.time(22, 15), datetime.time(22, 30),\n",
       "       datetime.time(22, 45), datetime.time(23, 0), datetime.time(23, 15),\n",
       "       datetime.time(23, 30), datetime.time(23, 45), datetime.time(0, 30),\n",
       "       datetime.time(3, 15), datetime.time(3, 30), datetime.time(3, 45),\n",
       "       datetime.time(0, 45), datetime.time(3, 0), datetime.time(1, 15),\n",
       "       '03:30', '03:45', '04:00', '04:15', '04:30', '04:45', '05:00',\n",
       "       '05:15', '05:30', '05:45', '06:00', '06:15', '06:30', '06:45',\n",
       "       '07:00', '07:15', '07:30', '07:45', '08:00', '08:15', '08:30',\n",
       "       '08:45', '09:00', '09:15', '09:30', '09:45', '10:00', '10:15',\n",
       "       '10:30', '10:45', '11:00', '11:15', '11:30', '11:45', '12:00',\n",
       "       '12:15', '12:30', '12:45', '13:00', '13:15', '13:30', '13:45',\n",
       "       '14:00', '14:15', '14:30', '14:45', '15:00', '15:15', '15:30',\n",
       "       '15:45', '16:00', '16:15', '16:30', '16:45', '17:00', '17:15',\n",
       "       '17:30', '17:45', '18:00', '18:15', '18:30', '18:45', '19:00',\n",
       "       '19:15', '19:30', '19:45', '20:00', '20:15', '20:30', '20:45',\n",
       "       '21:00', '21:15', '21:30', '21:45', '22:00', '22:15', '22:30',\n",
       "       '22:45', '23:00', '23:15', '23:30', '00:00', '23:45', '00:15',\n",
       "       '00:30', '03:15', '03:00', '00:45', '05:0', '06:0', '07:0', '08:0',\n",
       "       '09:0', '10:0', '11:0', '12:0', '13:0', '14:0', '15:0', '16:0',\n",
       "       '17:0', '18:0', '19:0', '20:0', '21:0', '22:0', '23:0', '02:45',\n",
       "       '01:00'], dtype=object)"
      ]
     },
     "execution_count": 10,
     "metadata": {},
     "output_type": "execute_result"
    },
    {
     "data": {
      "application/javascript": [
       "\n",
       "            setTimeout(function() {\n",
       "                var nbb_cell_id = 10;\n",
       "                var nbb_unformatted_code = \"result[\\\"Intervalo\\\"].unique()\";\n",
       "                var nbb_formatted_code = \"result[\\\"Intervalo\\\"].unique()\";\n",
       "                var nbb_cells = Jupyter.notebook.get_cells();\n",
       "                for (var i = 0; i < nbb_cells.length; ++i) {\n",
       "                    if (nbb_cells[i].input_prompt_number == nbb_cell_id) {\n",
       "                        if (nbb_cells[i].get_text() == nbb_unformatted_code) {\n",
       "                             nbb_cells[i].set_text(nbb_formatted_code);\n",
       "                        }\n",
       "                        break;\n",
       "                    }\n",
       "                }\n",
       "            }, 500);\n",
       "            "
      ],
      "text/plain": [
       "<IPython.core.display.Javascript object>"
      ]
     },
     "metadata": {},
     "output_type": "display_data"
    }
   ],
   "source": [
    "result[\"Intervalo\"].unique()"
   ]
  },
  {
   "cell_type": "code",
   "execution_count": 26,
   "metadata": {},
   "outputs": [
    {
     "data": {
      "text/html": [
       "<div>\n",
       "<style scoped>\n",
       "    .dataframe tbody tr th:only-of-type {\n",
       "        vertical-align: middle;\n",
       "    }\n",
       "\n",
       "    .dataframe tbody tr th {\n",
       "        vertical-align: top;\n",
       "    }\n",
       "\n",
       "    .dataframe thead th {\n",
       "        text-align: right;\n",
       "    }\n",
       "</style>\n",
       "<table border=\"1\" class=\"dataframe\">\n",
       "  <thead>\n",
       "    <tr style=\"text-align: right;\">\n",
       "      <th></th>\n",
       "      <th>Etiquetas de fila</th>\n",
       "      <th>01/05/2017</th>\n",
       "      <th>02/05/2017</th>\n",
       "      <th>03/05/2017</th>\n",
       "      <th>04/05/2017</th>\n",
       "      <th>05/05/2017</th>\n",
       "      <th>06/05/2017</th>\n",
       "      <th>07/05/2017</th>\n",
       "      <th>08/05/2017</th>\n",
       "      <th>09/05/2017</th>\n",
       "      <th>...</th>\n",
       "      <th>23/05/2017</th>\n",
       "      <th>24/05/2017</th>\n",
       "      <th>25/05/2017</th>\n",
       "      <th>26/05/2017</th>\n",
       "      <th>27/05/2017</th>\n",
       "      <th>28/05/2017</th>\n",
       "      <th>29/05/2017</th>\n",
       "      <th>30/05/2017</th>\n",
       "      <th>31/05/2017</th>\n",
       "      <th>Total general</th>\n",
       "    </tr>\n",
       "  </thead>\n",
       "  <tbody>\n",
       "    <tr>\n",
       "      <th>6</th>\n",
       "      <td>(11) Zona K Calle 26</td>\n",
       "      <td>37714</td>\n",
       "      <td>140871</td>\n",
       "      <td>141670</td>\n",
       "      <td>144464</td>\n",
       "      <td>146227</td>\n",
       "      <td>90701</td>\n",
       "      <td>42044</td>\n",
       "      <td>138663</td>\n",
       "      <td>137253</td>\n",
       "      <td>...</td>\n",
       "      <td>132526</td>\n",
       "      <td>131429</td>\n",
       "      <td>119882</td>\n",
       "      <td>130711</td>\n",
       "      <td>67940</td>\n",
       "      <td>30260</td>\n",
       "      <td>27604</td>\n",
       "      <td>129395</td>\n",
       "      <td>126019</td>\n",
       "      <td>3355528</td>\n",
       "    </tr>\n",
       "    <tr>\n",
       "      <th>7</th>\n",
       "      <td>(06000) Portal Eldorado</td>\n",
       "      <td>14770</td>\n",
       "      <td>49937</td>\n",
       "      <td>49684</td>\n",
       "      <td>49786</td>\n",
       "      <td>50044</td>\n",
       "      <td>32973</td>\n",
       "      <td>15660</td>\n",
       "      <td>48089</td>\n",
       "      <td>49041</td>\n",
       "      <td>...</td>\n",
       "      <td>49131</td>\n",
       "      <td>48883</td>\n",
       "      <td>47479</td>\n",
       "      <td>48289</td>\n",
       "      <td>30776</td>\n",
       "      <td>14669</td>\n",
       "      <td>14089</td>\n",
       "      <td>48058</td>\n",
       "      <td>47178</td>\n",
       "      <td>1245920</td>\n",
       "    </tr>\n",
       "    <tr>\n",
       "      <th>8</th>\n",
       "      <td>(01) Acceso Alimentación Sur</td>\n",
       "      <td>4067</td>\n",
       "      <td>15317</td>\n",
       "      <td>15255</td>\n",
       "      <td>15236</td>\n",
       "      <td>15357</td>\n",
       "      <td>10460</td>\n",
       "      <td>4580</td>\n",
       "      <td>14319</td>\n",
       "      <td>13241</td>\n",
       "      <td>...</td>\n",
       "      <td>14352</td>\n",
       "      <td>15217</td>\n",
       "      <td>14527</td>\n",
       "      <td>14687</td>\n",
       "      <td>10058</td>\n",
       "      <td>4354</td>\n",
       "      <td>4055</td>\n",
       "      <td>14707</td>\n",
       "      <td>14233</td>\n",
       "      <td>380119</td>\n",
       "    </tr>\n",
       "    <tr>\n",
       "      <th>9</th>\n",
       "      <td>04:00</td>\n",
       "      <td>NaN</td>\n",
       "      <td>NaN</td>\n",
       "      <td>1</td>\n",
       "      <td>2</td>\n",
       "      <td>3</td>\n",
       "      <td>NaN</td>\n",
       "      <td>NaN</td>\n",
       "      <td>NaN</td>\n",
       "      <td>1</td>\n",
       "      <td>...</td>\n",
       "      <td>NaN</td>\n",
       "      <td>1</td>\n",
       "      <td>1</td>\n",
       "      <td>1</td>\n",
       "      <td>NaN</td>\n",
       "      <td>NaN</td>\n",
       "      <td>NaN</td>\n",
       "      <td>2</td>\n",
       "      <td>NaN</td>\n",
       "      <td>19</td>\n",
       "    </tr>\n",
       "    <tr>\n",
       "      <th>10</th>\n",
       "      <td>04:15</td>\n",
       "      <td>NaN</td>\n",
       "      <td>5</td>\n",
       "      <td>4</td>\n",
       "      <td>5</td>\n",
       "      <td>5</td>\n",
       "      <td>NaN</td>\n",
       "      <td>NaN</td>\n",
       "      <td>5</td>\n",
       "      <td>4</td>\n",
       "      <td>...</td>\n",
       "      <td>15</td>\n",
       "      <td>11</td>\n",
       "      <td>10</td>\n",
       "      <td>7</td>\n",
       "      <td>NaN</td>\n",
       "      <td>NaN</td>\n",
       "      <td>NaN</td>\n",
       "      <td>15</td>\n",
       "      <td>4</td>\n",
       "      <td>130</td>\n",
       "    </tr>\n",
       "    <tr>\n",
       "      <th>...</th>\n",
       "      <td>...</td>\n",
       "      <td>...</td>\n",
       "      <td>...</td>\n",
       "      <td>...</td>\n",
       "      <td>...</td>\n",
       "      <td>...</td>\n",
       "      <td>...</td>\n",
       "      <td>...</td>\n",
       "      <td>...</td>\n",
       "      <td>...</td>\n",
       "      <td>...</td>\n",
       "      <td>...</td>\n",
       "      <td>...</td>\n",
       "      <td>...</td>\n",
       "      <td>...</td>\n",
       "      <td>...</td>\n",
       "      <td>...</td>\n",
       "      <td>...</td>\n",
       "      <td>...</td>\n",
       "      <td>...</td>\n",
       "      <td>...</td>\n",
       "    </tr>\n",
       "    <tr>\n",
       "      <th>54070</th>\n",
       "      <td>20:30</td>\n",
       "      <td>NaN</td>\n",
       "      <td>NaN</td>\n",
       "      <td>NaN</td>\n",
       "      <td>NaN</td>\n",
       "      <td>NaN</td>\n",
       "      <td>NaN</td>\n",
       "      <td>1</td>\n",
       "      <td>NaN</td>\n",
       "      <td>NaN</td>\n",
       "      <td>...</td>\n",
       "      <td>NaN</td>\n",
       "      <td>NaN</td>\n",
       "      <td>NaN</td>\n",
       "      <td>NaN</td>\n",
       "      <td>NaN</td>\n",
       "      <td>NaN</td>\n",
       "      <td>NaN</td>\n",
       "      <td>NaN</td>\n",
       "      <td>NaN</td>\n",
       "      <td>2</td>\n",
       "    </tr>\n",
       "    <tr>\n",
       "      <th>54071</th>\n",
       "      <td>(1986) L061|San Diego B - 1</td>\n",
       "      <td>NaN</td>\n",
       "      <td>NaN</td>\n",
       "      <td>NaN</td>\n",
       "      <td>NaN</td>\n",
       "      <td>NaN</td>\n",
       "      <td>NaN</td>\n",
       "      <td>NaN</td>\n",
       "      <td>NaN</td>\n",
       "      <td>NaN</td>\n",
       "      <td>...</td>\n",
       "      <td>NaN</td>\n",
       "      <td>NaN</td>\n",
       "      <td>NaN</td>\n",
       "      <td>NaN</td>\n",
       "      <td>NaN</td>\n",
       "      <td>NaN</td>\n",
       "      <td>NaN</td>\n",
       "      <td>NaN</td>\n",
       "      <td>NaN</td>\n",
       "      <td>77</td>\n",
       "    </tr>\n",
       "    <tr>\n",
       "      <th>54072</th>\n",
       "      <td>07:15</td>\n",
       "      <td>NaN</td>\n",
       "      <td>NaN</td>\n",
       "      <td>NaN</td>\n",
       "      <td>NaN</td>\n",
       "      <td>NaN</td>\n",
       "      <td>NaN</td>\n",
       "      <td>NaN</td>\n",
       "      <td>NaN</td>\n",
       "      <td>NaN</td>\n",
       "      <td>...</td>\n",
       "      <td>NaN</td>\n",
       "      <td>NaN</td>\n",
       "      <td>NaN</td>\n",
       "      <td>NaN</td>\n",
       "      <td>NaN</td>\n",
       "      <td>NaN</td>\n",
       "      <td>NaN</td>\n",
       "      <td>NaN</td>\n",
       "      <td>NaN</td>\n",
       "      <td>54</td>\n",
       "    </tr>\n",
       "    <tr>\n",
       "      <th>54073</th>\n",
       "      <td>08:45</td>\n",
       "      <td>NaN</td>\n",
       "      <td>NaN</td>\n",
       "      <td>NaN</td>\n",
       "      <td>NaN</td>\n",
       "      <td>NaN</td>\n",
       "      <td>NaN</td>\n",
       "      <td>NaN</td>\n",
       "      <td>NaN</td>\n",
       "      <td>NaN</td>\n",
       "      <td>...</td>\n",
       "      <td>NaN</td>\n",
       "      <td>NaN</td>\n",
       "      <td>NaN</td>\n",
       "      <td>NaN</td>\n",
       "      <td>NaN</td>\n",
       "      <td>NaN</td>\n",
       "      <td>NaN</td>\n",
       "      <td>NaN</td>\n",
       "      <td>NaN</td>\n",
       "      <td>23</td>\n",
       "    </tr>\n",
       "    <tr>\n",
       "      <th>54074</th>\n",
       "      <td>Total general</td>\n",
       "      <td>448167</td>\n",
       "      <td>1867505</td>\n",
       "      <td>1849960</td>\n",
       "      <td>1866767</td>\n",
       "      <td>1869440</td>\n",
       "      <td>1233943</td>\n",
       "      <td>495757</td>\n",
       "      <td>1824584</td>\n",
       "      <td>1838697</td>\n",
       "      <td>...</td>\n",
       "      <td>1792185</td>\n",
       "      <td>1805497</td>\n",
       "      <td>1781298</td>\n",
       "      <td>1793062</td>\n",
       "      <td>1125959</td>\n",
       "      <td>463138</td>\n",
       "      <td>416872</td>\n",
       "      <td>1800631</td>\n",
       "      <td>1739360</td>\n",
       "      <td>45766541</td>\n",
       "    </tr>\n",
       "  </tbody>\n",
       "</table>\n",
       "<p>54069 rows × 33 columns</p>\n",
       "</div>"
      ],
      "text/plain": [
       "                  Etiquetas de fila 01/05/2017 02/05/2017 03/05/2017  \\\n",
       "6              (11) Zona K Calle 26      37714     140871     141670   \n",
       "7           (06000) Portal Eldorado      14770      49937      49684   \n",
       "8      (01) Acceso Alimentación Sur       4067      15317      15255   \n",
       "9                             04:00        NaN        NaN          1   \n",
       "10                            04:15        NaN          5          4   \n",
       "...                             ...        ...        ...        ...   \n",
       "54070                         20:30        NaN        NaN        NaN   \n",
       "54071   (1986) L061|San Diego B - 1        NaN        NaN        NaN   \n",
       "54072                         07:15        NaN        NaN        NaN   \n",
       "54073                         08:45        NaN        NaN        NaN   \n",
       "54074                 Total general     448167    1867505    1849960   \n",
       "\n",
       "      04/05/2017 05/05/2017 06/05/2017 07/05/2017 08/05/2017 09/05/2017  ...  \\\n",
       "6         144464     146227      90701      42044     138663     137253  ...   \n",
       "7          49786      50044      32973      15660      48089      49041  ...   \n",
       "8          15236      15357      10460       4580      14319      13241  ...   \n",
       "9              2          3        NaN        NaN        NaN          1  ...   \n",
       "10             5          5        NaN        NaN          5          4  ...   \n",
       "...          ...        ...        ...        ...        ...        ...  ...   \n",
       "54070        NaN        NaN        NaN          1        NaN        NaN  ...   \n",
       "54071        NaN        NaN        NaN        NaN        NaN        NaN  ...   \n",
       "54072        NaN        NaN        NaN        NaN        NaN        NaN  ...   \n",
       "54073        NaN        NaN        NaN        NaN        NaN        NaN  ...   \n",
       "54074    1866767    1869440    1233943     495757    1824584    1838697  ...   \n",
       "\n",
       "      23/05/2017 24/05/2017 25/05/2017 26/05/2017 27/05/2017 28/05/2017  \\\n",
       "6         132526     131429     119882     130711      67940      30260   \n",
       "7          49131      48883      47479      48289      30776      14669   \n",
       "8          14352      15217      14527      14687      10058       4354   \n",
       "9            NaN          1          1          1        NaN        NaN   \n",
       "10            15         11         10          7        NaN        NaN   \n",
       "...          ...        ...        ...        ...        ...        ...   \n",
       "54070        NaN        NaN        NaN        NaN        NaN        NaN   \n",
       "54071        NaN        NaN        NaN        NaN        NaN        NaN   \n",
       "54072        NaN        NaN        NaN        NaN        NaN        NaN   \n",
       "54073        NaN        NaN        NaN        NaN        NaN        NaN   \n",
       "54074    1792185    1805497    1781298    1793062    1125959     463138   \n",
       "\n",
       "      29/05/2017 30/05/2017 31/05/2017 Total general  \n",
       "6          27604     129395     126019       3355528  \n",
       "7          14089      48058      47178       1245920  \n",
       "8           4055      14707      14233        380119  \n",
       "9            NaN          2        NaN            19  \n",
       "10           NaN         15          4           130  \n",
       "...          ...        ...        ...           ...  \n",
       "54070        NaN        NaN        NaN             2  \n",
       "54071        NaN        NaN        NaN            77  \n",
       "54072        NaN        NaN        NaN            54  \n",
       "54073        NaN        NaN        NaN            23  \n",
       "54074     416872    1800631    1739360      45766541  \n",
       "\n",
       "[54069 rows x 33 columns]"
      ]
     },
     "execution_count": 26,
     "metadata": {},
     "output_type": "execute_result"
    },
    {
     "data": {
      "application/javascript": [
       "\n",
       "            setTimeout(function() {\n",
       "                var nbb_cell_id = 26;\n",
       "                var nbb_unformatted_code = \"excel\";\n",
       "                var nbb_formatted_code = \"excel\";\n",
       "                var nbb_cells = Jupyter.notebook.get_cells();\n",
       "                for (var i = 0; i < nbb_cells.length; ++i) {\n",
       "                    if (nbb_cells[i].input_prompt_number == nbb_cell_id) {\n",
       "                        if (nbb_cells[i].get_text() == nbb_unformatted_code) {\n",
       "                             nbb_cells[i].set_text(nbb_formatted_code);\n",
       "                        }\n",
       "                        break;\n",
       "                    }\n",
       "                }\n",
       "            }, 500);\n",
       "            "
      ],
      "text/plain": [
       "<IPython.core.display.Javascript object>"
      ]
     },
     "metadata": {},
     "output_type": "display_data"
    },
    {
     "name": "stderr",
     "output_type": "stream",
     "text": [
      "22/03/31 17:04:12 WARN HeartbeatReceiver: Removing executor driver with no recent heartbeats: 937897 ms exceeds timeout 120000 ms\n",
      "22/03/31 17:04:12 WARN SparkContext: Killing executors is not supported by current scheduler.\n"
     ]
    }
   ],
   "source": [
    "excel"
   ]
  },
  {
   "cell_type": "code",
   "execution_count": 15,
   "metadata": {},
   "outputs": [
    {
     "data": {
      "text/plain": [
       "6               Fase 3\n",
       "7               Fase 3\n",
       "8               Fase 3\n",
       "9               Fase 3\n",
       "10              Fase 3\n",
       "             ...      \n",
       "64956              NaN\n",
       "64957              NaN\n",
       "64958              NaN\n",
       "64959              NaN\n",
       "64960    Total general\n",
       "Name: Fase , Length: 64955, dtype: object"
      ]
     },
     "execution_count": 15,
     "metadata": {},
     "output_type": "execute_result"
    },
    {
     "data": {
      "application/javascript": [
       "\n",
       "            setTimeout(function() {\n",
       "                var nbb_cell_id = 15;\n",
       "                var nbb_unformatted_code = \"excel[\\\"Fase \\\"]\";\n",
       "                var nbb_formatted_code = \"excel[\\\"Fase \\\"]\";\n",
       "                var nbb_cells = Jupyter.notebook.get_cells();\n",
       "                for (var i = 0; i < nbb_cells.length; ++i) {\n",
       "                    if (nbb_cells[i].input_prompt_number == nbb_cell_id) {\n",
       "                        if (nbb_cells[i].get_text() == nbb_unformatted_code) {\n",
       "                             nbb_cells[i].set_text(nbb_formatted_code);\n",
       "                        }\n",
       "                        break;\n",
       "                    }\n",
       "                }\n",
       "            }, 500);\n",
       "            "
      ],
      "text/plain": [
       "<IPython.core.display.Javascript object>"
      ]
     },
     "metadata": {},
     "output_type": "display_data"
    }
   ],
   "source": [
    "excel[\"Fase \"]"
   ]
  },
  {
   "cell_type": "code",
   "execution_count": null,
   "metadata": {},
   "outputs": [],
   "source": []
  },
  {
   "cell_type": "code",
   "execution_count": null,
   "metadata": {},
   "outputs": [],
   "source": []
  },
  {
   "cell_type": "code",
   "execution_count": null,
   "metadata": {},
   "outputs": [],
   "source": []
  },
  {
   "cell_type": "code",
   "execution_count": null,
   "metadata": {},
   "outputs": [],
   "source": []
  },
  {
   "cell_type": "code",
   "execution_count": null,
   "metadata": {},
   "outputs": [],
   "source": []
  },
  {
   "cell_type": "code",
   "execution_count": null,
   "metadata": {},
   "outputs": [],
   "source": []
  },
  {
   "cell_type": "code",
   "execution_count": null,
   "metadata": {},
   "outputs": [],
   "source": []
  },
  {
   "cell_type": "code",
   "execution_count": null,
   "metadata": {},
   "outputs": [],
   "source": []
  },
  {
   "cell_type": "code",
   "execution_count": null,
   "metadata": {},
   "outputs": [],
   "source": []
  },
  {
   "cell_type": "code",
   "execution_count": null,
   "metadata": {},
   "outputs": [],
   "source": []
  },
  {
   "cell_type": "code",
   "execution_count": null,
   "metadata": {},
   "outputs": [],
   "source": []
  },
  {
   "cell_type": "code",
   "execution_count": null,
   "metadata": {},
   "outputs": [],
   "source": []
  },
  {
   "cell_type": "code",
   "execution_count": 73,
   "metadata": {},
   "outputs": [
    {
     "data": {
      "text/plain": [
       "'2012/08%20AGO%2012_VALIDACIONES%20TRONCALES.xlsx'"
      ]
     },
     "execution_count": 73,
     "metadata": {},
     "output_type": "execute_result"
    },
    {
     "data": {
      "application/javascript": [
       "\n",
       "            setTimeout(function() {\n",
       "                var nbb_cell_id = 73;\n",
       "                var nbb_unformatted_code = \"link\";\n",
       "                var nbb_formatted_code = \"link\";\n",
       "                var nbb_cells = Jupyter.notebook.get_cells();\n",
       "                for (var i = 0; i < nbb_cells.length; ++i) {\n",
       "                    if (nbb_cells[i].input_prompt_number == nbb_cell_id) {\n",
       "                        if (nbb_cells[i].get_text() == nbb_unformatted_code) {\n",
       "                             nbb_cells[i].set_text(nbb_formatted_code);\n",
       "                        }\n",
       "                        break;\n",
       "                    }\n",
       "                }\n",
       "            }, 500);\n",
       "            "
      ],
      "text/plain": [
       "<IPython.core.display.Javascript object>"
      ]
     },
     "metadata": {},
     "output_type": "display_data"
    }
   ],
   "source": [
    "link"
   ]
  },
  {
   "cell_type": "code",
   "execution_count": 10,
   "metadata": {},
   "outputs": [
    {
     "data": {
      "application/javascript": [
       "\n",
       "            setTimeout(function() {\n",
       "                var nbb_cell_id = 10;\n",
       "                var nbb_unformatted_code = \"excel_type_1 = pd.read_excel(\\n    \\\"https://storage.googleapis.com/validaciones_tmsa/ValidacionTroncal/2022/02%20TM%20Resumen%20de%20Validaciones%20Troncales%20al%2028%20Feb%202022%20Intervalo%2015%20Mint.xlsx\\\"\\n)\";\n",
       "                var nbb_formatted_code = \"excel_type_1 = pd.read_excel(\\n    \\\"https://storage.googleapis.com/validaciones_tmsa/ValidacionTroncal/2022/02%20TM%20Resumen%20de%20Validaciones%20Troncales%20al%2028%20Feb%202022%20Intervalo%2015%20Mint.xlsx\\\"\\n)\";\n",
       "                var nbb_cells = Jupyter.notebook.get_cells();\n",
       "                for (var i = 0; i < nbb_cells.length; ++i) {\n",
       "                    if (nbb_cells[i].input_prompt_number == nbb_cell_id) {\n",
       "                        if (nbb_cells[i].get_text() == nbb_unformatted_code) {\n",
       "                             nbb_cells[i].set_text(nbb_formatted_code);\n",
       "                        }\n",
       "                        break;\n",
       "                    }\n",
       "                }\n",
       "            }, 500);\n",
       "            "
      ],
      "text/plain": [
       "<IPython.core.display.Javascript object>"
      ]
     },
     "metadata": {},
     "output_type": "display_data"
    }
   ],
   "source": []
  },
  {
   "cell_type": "code",
   "execution_count": 14,
   "metadata": {},
   "outputs": [
    {
     "data": {
      "application/javascript": [
       "\n",
       "            setTimeout(function() {\n",
       "                var nbb_cell_id = 14;\n",
       "                var nbb_unformatted_code = \"for i in range(8):\\n    for j in range(5):\\n        if excel_type_1.iloc[i, j] == \\\"Fase\\\":\\n            start_coord = i,j\\n            break\";\n",
       "                var nbb_formatted_code = \"for i in range(8):\\n    for j in range(5):\\n        if excel_type_1.iloc[i, j] == \\\"Fase\\\":\\n            start_coord = i, j\\n            break\";\n",
       "                var nbb_cells = Jupyter.notebook.get_cells();\n",
       "                for (var i = 0; i < nbb_cells.length; ++i) {\n",
       "                    if (nbb_cells[i].input_prompt_number == nbb_cell_id) {\n",
       "                        if (nbb_cells[i].get_text() == nbb_unformatted_code) {\n",
       "                             nbb_cells[i].set_text(nbb_formatted_code);\n",
       "                        }\n",
       "                        break;\n",
       "                    }\n",
       "                }\n",
       "            }, 500);\n",
       "            "
      ],
      "text/plain": [
       "<IPython.core.display.Javascript object>"
      ]
     },
     "metadata": {},
     "output_type": "display_data"
    }
   ],
   "source": [
    "for i in range(8):\n",
    "    for j in range(5):\n",
    "        if excel_type_1.iloc[i, j] == \"Fase\":\n",
    "            start_coord = i, j\n",
    "            break"
   ]
  },
  {
   "cell_type": "code",
   "execution_count": 25,
   "metadata": {},
   "outputs": [
    {
     "data": {
      "application/javascript": [
       "\n",
       "            setTimeout(function() {\n",
       "                var nbb_cell_id = 25;\n",
       "                var nbb_unformatted_code = \"cols = excel_type_1.iloc[start_coord[0], start_coord[1] :].values\";\n",
       "                var nbb_formatted_code = \"cols = excel_type_1.iloc[start_coord[0], start_coord[1] :].values\";\n",
       "                var nbb_cells = Jupyter.notebook.get_cells();\n",
       "                for (var i = 0; i < nbb_cells.length; ++i) {\n",
       "                    if (nbb_cells[i].input_prompt_number == nbb_cell_id) {\n",
       "                        if (nbb_cells[i].get_text() == nbb_unformatted_code) {\n",
       "                             nbb_cells[i].set_text(nbb_formatted_code);\n",
       "                        }\n",
       "                        break;\n",
       "                    }\n",
       "                }\n",
       "            }, 500);\n",
       "            "
      ],
      "text/plain": [
       "<IPython.core.display.Javascript object>"
      ]
     },
     "metadata": {},
     "output_type": "display_data"
    }
   ],
   "source": [
    "cols = excel_type_1.iloc[start_coord[0], start_coord[1] :].values"
   ]
  },
  {
   "cell_type": "code",
   "execution_count": 34,
   "metadata": {},
   "outputs": [
    {
     "data": {
      "application/javascript": [
       "\n",
       "            setTimeout(function() {\n",
       "                var nbb_cell_id = 34;\n",
       "                var nbb_unformatted_code = \"cols = [c.date() if type(c) == datetime.datetime else c for c in cols]\";\n",
       "                var nbb_formatted_code = \"cols = [c.date() if type(c) == datetime.datetime else c for c in cols]\";\n",
       "                var nbb_cells = Jupyter.notebook.get_cells();\n",
       "                for (var i = 0; i < nbb_cells.length; ++i) {\n",
       "                    if (nbb_cells[i].input_prompt_number == nbb_cell_id) {\n",
       "                        if (nbb_cells[i].get_text() == nbb_unformatted_code) {\n",
       "                             nbb_cells[i].set_text(nbb_formatted_code);\n",
       "                        }\n",
       "                        break;\n",
       "                    }\n",
       "                }\n",
       "            }, 500);\n",
       "            "
      ],
      "text/plain": [
       "<IPython.core.display.Javascript object>"
      ]
     },
     "metadata": {},
     "output_type": "display_data"
    }
   ],
   "source": [
    "cols = [c.date() if type(c) == datetime.datetime else c for c in cols]"
   ]
  },
  {
   "cell_type": "code",
   "execution_count": 28,
   "metadata": {},
   "outputs": [
    {
     "data": {
      "application/javascript": [
       "\n",
       "            setTimeout(function() {\n",
       "                var nbb_cell_id = 28;\n",
       "                var nbb_unformatted_code = \"excel_type_1 = excel_type_1.iloc[start_coord[0] + 1 :, start_coord[1] :].copy()\";\n",
       "                var nbb_formatted_code = \"excel_type_1 = excel_type_1.iloc[start_coord[0] + 1 :, start_coord[1] :].copy()\";\n",
       "                var nbb_cells = Jupyter.notebook.get_cells();\n",
       "                for (var i = 0; i < nbb_cells.length; ++i) {\n",
       "                    if (nbb_cells[i].input_prompt_number == nbb_cell_id) {\n",
       "                        if (nbb_cells[i].get_text() == nbb_unformatted_code) {\n",
       "                             nbb_cells[i].set_text(nbb_formatted_code);\n",
       "                        }\n",
       "                        break;\n",
       "                    }\n",
       "                }\n",
       "            }, 500);\n",
       "            "
      ],
      "text/plain": [
       "<IPython.core.display.Javascript object>"
      ]
     },
     "metadata": {},
     "output_type": "display_data"
    }
   ],
   "source": [
    "excel_type_1 = excel_type_1.iloc[start_coord[0] + 1 :, start_coord[1] :].copy()"
   ]
  },
  {
   "cell_type": "code",
   "execution_count": 35,
   "metadata": {},
   "outputs": [
    {
     "data": {
      "application/javascript": [
       "\n",
       "            setTimeout(function() {\n",
       "                var nbb_cell_id = 35;\n",
       "                var nbb_unformatted_code = \"excel_type_1.columns = cols\";\n",
       "                var nbb_formatted_code = \"excel_type_1.columns = cols\";\n",
       "                var nbb_cells = Jupyter.notebook.get_cells();\n",
       "                for (var i = 0; i < nbb_cells.length; ++i) {\n",
       "                    if (nbb_cells[i].input_prompt_number == nbb_cell_id) {\n",
       "                        if (nbb_cells[i].get_text() == nbb_unformatted_code) {\n",
       "                             nbb_cells[i].set_text(nbb_formatted_code);\n",
       "                        }\n",
       "                        break;\n",
       "                    }\n",
       "                }\n",
       "            }, 500);\n",
       "            "
      ],
      "text/plain": [
       "<IPython.core.display.Javascript object>"
      ]
     },
     "metadata": {},
     "output_type": "display_data"
    }
   ],
   "source": [
    "excel_type_1.columns = cols"
   ]
  },
  {
   "cell_type": "code",
   "execution_count": 42,
   "metadata": {},
   "outputs": [
    {
     "data": {
      "application/javascript": [
       "\n",
       "            setTimeout(function() {\n",
       "                var nbb_cell_id = 42;\n",
       "                var nbb_unformatted_code = \"excel_type_1.drop(\\\"Total general\\\", axis=1, inplace=True)\";\n",
       "                var nbb_formatted_code = \"excel_type_1.drop(\\\"Total general\\\", axis=1, inplace=True)\";\n",
       "                var nbb_cells = Jupyter.notebook.get_cells();\n",
       "                for (var i = 0; i < nbb_cells.length; ++i) {\n",
       "                    if (nbb_cells[i].input_prompt_number == nbb_cell_id) {\n",
       "                        if (nbb_cells[i].get_text() == nbb_unformatted_code) {\n",
       "                             nbb_cells[i].set_text(nbb_formatted_code);\n",
       "                        }\n",
       "                        break;\n",
       "                    }\n",
       "                }\n",
       "            }, 500);\n",
       "            "
      ],
      "text/plain": [
       "<IPython.core.display.Javascript object>"
      ]
     },
     "metadata": {},
     "output_type": "display_data"
    }
   ],
   "source": [
    "excel_type_1.drop(\"Total general\",'Fase', axis=1, inplace=True)"
   ]
  },
  {
   "cell_type": "code",
   "execution_count": 44,
   "metadata": {},
   "outputs": [
    {
     "data": {
      "application/javascript": [
       "\n",
       "            setTimeout(function() {\n",
       "                var nbb_cell_id = 44;\n",
       "                var nbb_unformatted_code = \"excel_type_1 = excel_type_1[excel_type_1['Fase']!=\\\"Total general\\\"].copy()\";\n",
       "                var nbb_formatted_code = \"excel_type_1 = excel_type_1[excel_type_1[\\\"Fase\\\"] != \\\"Total general\\\"].copy()\";\n",
       "                var nbb_cells = Jupyter.notebook.get_cells();\n",
       "                for (var i = 0; i < nbb_cells.length; ++i) {\n",
       "                    if (nbb_cells[i].input_prompt_number == nbb_cell_id) {\n",
       "                        if (nbb_cells[i].get_text() == nbb_unformatted_code) {\n",
       "                             nbb_cells[i].set_text(nbb_formatted_code);\n",
       "                        }\n",
       "                        break;\n",
       "                    }\n",
       "                }\n",
       "            }, 500);\n",
       "            "
      ],
      "text/plain": [
       "<IPython.core.display.Javascript object>"
      ]
     },
     "metadata": {},
     "output_type": "display_data"
    }
   ],
   "source": [
    "excel_type_1 = excel_type_1[excel_type_1[\"Fase\"] != \"Total general\"].copy()"
   ]
  },
  {
   "cell_type": "code",
   "execution_count": 46,
   "metadata": {},
   "outputs": [
    {
     "data": {
      "application/javascript": [
       "\n",
       "            setTimeout(function() {\n",
       "                var nbb_cell_id = 46;\n",
       "                var nbb_unformatted_code = \"excel_type_1.dropna(how=\\\"all\\\",inplace=True)\\nexcel_type_1.dropna(how=\\\"all\\\",axis=1,inplace=True)\";\n",
       "                var nbb_formatted_code = \"excel_type_1.dropna(how=\\\"all\\\", inplace=True)\\nexcel_type_1.dropna(how=\\\"all\\\", axis=1, inplace=True)\";\n",
       "                var nbb_cells = Jupyter.notebook.get_cells();\n",
       "                for (var i = 0; i < nbb_cells.length; ++i) {\n",
       "                    if (nbb_cells[i].input_prompt_number == nbb_cell_id) {\n",
       "                        if (nbb_cells[i].get_text() == nbb_unformatted_code) {\n",
       "                             nbb_cells[i].set_text(nbb_formatted_code);\n",
       "                        }\n",
       "                        break;\n",
       "                    }\n",
       "                }\n",
       "            }, 500);\n",
       "            "
      ],
      "text/plain": [
       "<IPython.core.display.Javascript object>"
      ]
     },
     "metadata": {},
     "output_type": "display_data"
    }
   ],
   "source": [
    "excel_type_1.dropna(how=\"all\", inplace=True)\n",
    "excel_type_1.dropna(how=\"all\", axis=1, inplace=True)"
   ]
  },
  {
   "cell_type": "code",
   "execution_count": 54,
   "metadata": {},
   "outputs": [
    {
     "data": {
      "application/javascript": [
       "\n",
       "            setTimeout(function() {\n",
       "                var nbb_cell_id = 54;\n",
       "                var nbb_unformatted_code = \"excel_type_1_summary = excel_type_1.drop([\\\"Fase\\\", \\\"L\\u00ednea\\\", \\\"Acceso de Estaci\\u00f3n\\\"], axis=1).groupby(\\n    [\\\"Estaci\\u00f3n\\\", \\\"Intervalo\\\"]\\n).sum()\";\n",
       "                var nbb_formatted_code = \"excel_type_1_summary = (\\n    excel_type_1.drop([\\\"Fase\\\", \\\"L\\u00ednea\\\", \\\"Acceso de Estaci\\u00f3n\\\"], axis=1)\\n    .groupby([\\\"Estaci\\u00f3n\\\", \\\"Intervalo\\\"])\\n    .sum()\\n)\";\n",
       "                var nbb_cells = Jupyter.notebook.get_cells();\n",
       "                for (var i = 0; i < nbb_cells.length; ++i) {\n",
       "                    if (nbb_cells[i].input_prompt_number == nbb_cell_id) {\n",
       "                        if (nbb_cells[i].get_text() == nbb_unformatted_code) {\n",
       "                             nbb_cells[i].set_text(nbb_formatted_code);\n",
       "                        }\n",
       "                        break;\n",
       "                    }\n",
       "                }\n",
       "            }, 500);\n",
       "            "
      ],
      "text/plain": [
       "<IPython.core.display.Javascript object>"
      ]
     },
     "metadata": {},
     "output_type": "display_data"
    }
   ],
   "source": [
    "excel_type_1_summary = (\n",
    "    excel_type_1.drop([\"Fase\", \"Línea\", \"Acceso de Estación\"], axis=1)\n",
    "    .groupby([\"Estación\", \"Intervalo\"])\n",
    "    .sum()\n",
    ")"
   ]
  },
  {
   "cell_type": "code",
   "execution_count": 57,
   "metadata": {},
   "outputs": [
    {
     "data": {
      "application/javascript": [
       "\n",
       "            setTimeout(function() {\n",
       "                var nbb_cell_id = 57;\n",
       "                var nbb_unformatted_code = \"excel_type_1_summary = excel_type_1_summary.reset_index().melt(\\n    id_vars=[\\\"Estaci\\u00f3n\\\", \\\"Intervalo\\\"], var_name=\\\"date\\\", value_name=\\\"demand\\\"\\n)\";\n",
       "                var nbb_formatted_code = \"excel_type_1_summary = excel_type_1_summary.reset_index().melt(\\n    id_vars=[\\\"Estaci\\u00f3n\\\", \\\"Intervalo\\\"], var_name=\\\"date\\\", value_name=\\\"demand\\\"\\n)\";\n",
       "                var nbb_cells = Jupyter.notebook.get_cells();\n",
       "                for (var i = 0; i < nbb_cells.length; ++i) {\n",
       "                    if (nbb_cells[i].input_prompt_number == nbb_cell_id) {\n",
       "                        if (nbb_cells[i].get_text() == nbb_unformatted_code) {\n",
       "                             nbb_cells[i].set_text(nbb_formatted_code);\n",
       "                        }\n",
       "                        break;\n",
       "                    }\n",
       "                }\n",
       "            }, 500);\n",
       "            "
      ],
      "text/plain": [
       "<IPython.core.display.Javascript object>"
      ]
     },
     "metadata": {},
     "output_type": "display_data"
    }
   ],
   "source": [
    "excel_type_1_summary = excel_type_1_summary.reset_index().melt(\n",
    "    id_vars=[\"Estación\", \"Intervalo\"], var_name=\"date\", value_name=\"demand\"\n",
    ")"
   ]
  },
  {
   "cell_type": "code",
   "execution_count": 58,
   "metadata": {},
   "outputs": [
    {
     "data": {
      "text/html": [
       "<div>\n",
       "<style scoped>\n",
       "    .dataframe tbody tr th:only-of-type {\n",
       "        vertical-align: middle;\n",
       "    }\n",
       "\n",
       "    .dataframe tbody tr th {\n",
       "        vertical-align: top;\n",
       "    }\n",
       "\n",
       "    .dataframe thead th {\n",
       "        text-align: right;\n",
       "    }\n",
       "</style>\n",
       "<table border=\"1\" class=\"dataframe\">\n",
       "  <thead>\n",
       "    <tr style=\"text-align: right;\">\n",
       "      <th></th>\n",
       "      <th>Estación</th>\n",
       "      <th>Intervalo</th>\n",
       "      <th>date</th>\n",
       "      <th>demand</th>\n",
       "    </tr>\n",
       "  </thead>\n",
       "  <tbody>\n",
       "    <tr>\n",
       "      <th>0</th>\n",
       "      <td>(02000) Cabecera Autopista Norte</td>\n",
       "      <td>00:00:00</td>\n",
       "      <td>2022-02-01</td>\n",
       "      <td>0</td>\n",
       "    </tr>\n",
       "    <tr>\n",
       "      <th>1</th>\n",
       "      <td>(02000) Cabecera Autopista Norte</td>\n",
       "      <td>00:15:00</td>\n",
       "      <td>2022-02-01</td>\n",
       "      <td>0</td>\n",
       "    </tr>\n",
       "    <tr>\n",
       "      <th>2</th>\n",
       "      <td>(02000) Cabecera Autopista Norte</td>\n",
       "      <td>04:00:00</td>\n",
       "      <td>2022-02-01</td>\n",
       "      <td>1</td>\n",
       "    </tr>\n",
       "    <tr>\n",
       "      <th>3</th>\n",
       "      <td>(02000) Cabecera Autopista Norte</td>\n",
       "      <td>04:15:00</td>\n",
       "      <td>2022-02-01</td>\n",
       "      <td>45</td>\n",
       "    </tr>\n",
       "    <tr>\n",
       "      <th>4</th>\n",
       "      <td>(02000) Cabecera Autopista Norte</td>\n",
       "      <td>04:30:00</td>\n",
       "      <td>2022-02-01</td>\n",
       "      <td>120</td>\n",
       "    </tr>\n",
       "    <tr>\n",
       "      <th>...</th>\n",
       "      <td>...</td>\n",
       "      <td>...</td>\n",
       "      <td>...</td>\n",
       "      <td>...</td>\n",
       "    </tr>\n",
       "    <tr>\n",
       "      <th>373879</th>\n",
       "      <td>(57503) Ampliacion San Mateo</td>\n",
       "      <td>22:15:00</td>\n",
       "      <td>2022-02-28</td>\n",
       "      <td>3</td>\n",
       "    </tr>\n",
       "    <tr>\n",
       "      <th>373880</th>\n",
       "      <td>(57503) Ampliacion San Mateo</td>\n",
       "      <td>22:30:00</td>\n",
       "      <td>2022-02-28</td>\n",
       "      <td>0</td>\n",
       "    </tr>\n",
       "    <tr>\n",
       "      <th>373881</th>\n",
       "      <td>(57503) Ampliacion San Mateo</td>\n",
       "      <td>22:45:00</td>\n",
       "      <td>2022-02-28</td>\n",
       "      <td>1</td>\n",
       "    </tr>\n",
       "    <tr>\n",
       "      <th>373882</th>\n",
       "      <td>(57503) Ampliacion San Mateo</td>\n",
       "      <td>23:00:00</td>\n",
       "      <td>2022-02-28</td>\n",
       "      <td>0</td>\n",
       "    </tr>\n",
       "    <tr>\n",
       "      <th>373883</th>\n",
       "      <td>(57503) Ampliacion San Mateo</td>\n",
       "      <td>23:15:00</td>\n",
       "      <td>2022-02-28</td>\n",
       "      <td>0</td>\n",
       "    </tr>\n",
       "  </tbody>\n",
       "</table>\n",
       "<p>373884 rows × 4 columns</p>\n",
       "</div>"
      ],
      "text/plain": [
       "                                Estación Intervalo        date  demand\n",
       "0       (02000) Cabecera Autopista Norte  00:00:00  2022-02-01       0\n",
       "1       (02000) Cabecera Autopista Norte  00:15:00  2022-02-01       0\n",
       "2       (02000) Cabecera Autopista Norte  04:00:00  2022-02-01       1\n",
       "3       (02000) Cabecera Autopista Norte  04:15:00  2022-02-01      45\n",
       "4       (02000) Cabecera Autopista Norte  04:30:00  2022-02-01     120\n",
       "...                                  ...       ...         ...     ...\n",
       "373879      (57503) Ampliacion San Mateo  22:15:00  2022-02-28       3\n",
       "373880      (57503) Ampliacion San Mateo  22:30:00  2022-02-28       0\n",
       "373881      (57503) Ampliacion San Mateo  22:45:00  2022-02-28       1\n",
       "373882      (57503) Ampliacion San Mateo  23:00:00  2022-02-28       0\n",
       "373883      (57503) Ampliacion San Mateo  23:15:00  2022-02-28       0\n",
       "\n",
       "[373884 rows x 4 columns]"
      ]
     },
     "execution_count": 58,
     "metadata": {},
     "output_type": "execute_result"
    },
    {
     "data": {
      "application/javascript": [
       "\n",
       "            setTimeout(function() {\n",
       "                var nbb_cell_id = 58;\n",
       "                var nbb_unformatted_code = \"excel_type_1_summary\";\n",
       "                var nbb_formatted_code = \"excel_type_1_summary\";\n",
       "                var nbb_cells = Jupyter.notebook.get_cells();\n",
       "                for (var i = 0; i < nbb_cells.length; ++i) {\n",
       "                    if (nbb_cells[i].input_prompt_number == nbb_cell_id) {\n",
       "                        if (nbb_cells[i].get_text() == nbb_unformatted_code) {\n",
       "                             nbb_cells[i].set_text(nbb_formatted_code);\n",
       "                        }\n",
       "                        break;\n",
       "                    }\n",
       "                }\n",
       "            }, 500);\n",
       "            "
      ],
      "text/plain": [
       "<IPython.core.display.Javascript object>"
      ]
     },
     "metadata": {},
     "output_type": "display_data"
    }
   ],
   "source": [
    "excel_type_1_summary"
   ]
  },
  {
   "cell_type": "code",
   "execution_count": 51,
   "metadata": {},
   "outputs": [
    {
     "data": {
      "text/html": [
       "<div>\n",
       "<style scoped>\n",
       "    .dataframe tbody tr th:only-of-type {\n",
       "        vertical-align: middle;\n",
       "    }\n",
       "\n",
       "    .dataframe tbody tr th {\n",
       "        vertical-align: top;\n",
       "    }\n",
       "\n",
       "    .dataframe thead th {\n",
       "        text-align: right;\n",
       "    }\n",
       "</style>\n",
       "<table border=\"1\" class=\"dataframe\">\n",
       "  <thead>\n",
       "    <tr style=\"text-align: right;\">\n",
       "      <th></th>\n",
       "      <th>Fase</th>\n",
       "      <th>Línea</th>\n",
       "      <th>Estación</th>\n",
       "      <th>Acceso de Estación</th>\n",
       "      <th>Intervalo</th>\n",
       "      <th>2022-02-01</th>\n",
       "      <th>2022-02-02</th>\n",
       "      <th>2022-02-03</th>\n",
       "      <th>2022-02-04</th>\n",
       "      <th>2022-02-05</th>\n",
       "      <th>...</th>\n",
       "      <th>2022-02-19</th>\n",
       "      <th>2022-02-20</th>\n",
       "      <th>2022-02-21</th>\n",
       "      <th>2022-02-22</th>\n",
       "      <th>2022-02-23</th>\n",
       "      <th>2022-02-24</th>\n",
       "      <th>2022-02-25</th>\n",
       "      <th>2022-02-26</th>\n",
       "      <th>2022-02-27</th>\n",
       "      <th>2022-02-28</th>\n",
       "    </tr>\n",
       "  </thead>\n",
       "  <tbody>\n",
       "    <tr>\n",
       "      <th>6</th>\n",
       "      <td>Fase 3</td>\n",
       "      <td>(11) Zona K Calle 26</td>\n",
       "      <td>(06000) Portal Eldorado</td>\n",
       "      <td>(01) PLAT2 ALIM-DESAL FONTIBÓN/FONTIBÓN CENTRO...</td>\n",
       "      <td>00:00:00</td>\n",
       "      <td>0</td>\n",
       "      <td>0</td>\n",
       "      <td>0</td>\n",
       "      <td>0</td>\n",
       "      <td>0</td>\n",
       "      <td>...</td>\n",
       "      <td>0</td>\n",
       "      <td>0</td>\n",
       "      <td>0</td>\n",
       "      <td>0</td>\n",
       "      <td>0</td>\n",
       "      <td>0</td>\n",
       "      <td>0</td>\n",
       "      <td>0</td>\n",
       "      <td>0</td>\n",
       "      <td>0</td>\n",
       "    </tr>\n",
       "    <tr>\n",
       "      <th>7</th>\n",
       "      <td>Fase 3</td>\n",
       "      <td>(11) Zona K Calle 26</td>\n",
       "      <td>(06000) Portal Eldorado</td>\n",
       "      <td>(01) PLAT2 ALIM-DESAL FONTIBÓN/FONTIBÓN CENTRO...</td>\n",
       "      <td>03:45:00</td>\n",
       "      <td>0</td>\n",
       "      <td>0</td>\n",
       "      <td>0</td>\n",
       "      <td>0</td>\n",
       "      <td>0</td>\n",
       "      <td>...</td>\n",
       "      <td>0</td>\n",
       "      <td>1</td>\n",
       "      <td>0</td>\n",
       "      <td>0</td>\n",
       "      <td>0</td>\n",
       "      <td>0</td>\n",
       "      <td>0</td>\n",
       "      <td>0</td>\n",
       "      <td>0</td>\n",
       "      <td>0</td>\n",
       "    </tr>\n",
       "    <tr>\n",
       "      <th>8</th>\n",
       "      <td>Fase 3</td>\n",
       "      <td>(11) Zona K Calle 26</td>\n",
       "      <td>(06000) Portal Eldorado</td>\n",
       "      <td>(01) PLAT2 ALIM-DESAL FONTIBÓN/FONTIBÓN CENTRO...</td>\n",
       "      <td>04:00:00</td>\n",
       "      <td>0</td>\n",
       "      <td>0</td>\n",
       "      <td>0</td>\n",
       "      <td>0</td>\n",
       "      <td>0</td>\n",
       "      <td>...</td>\n",
       "      <td>0</td>\n",
       "      <td>0</td>\n",
       "      <td>0</td>\n",
       "      <td>0</td>\n",
       "      <td>0</td>\n",
       "      <td>0</td>\n",
       "      <td>0</td>\n",
       "      <td>0</td>\n",
       "      <td>0</td>\n",
       "      <td>0</td>\n",
       "    </tr>\n",
       "    <tr>\n",
       "      <th>9</th>\n",
       "      <td>Fase 3</td>\n",
       "      <td>(11) Zona K Calle 26</td>\n",
       "      <td>(06000) Portal Eldorado</td>\n",
       "      <td>(01) PLAT2 ALIM-DESAL FONTIBÓN/FONTIBÓN CENTRO...</td>\n",
       "      <td>04:15:00</td>\n",
       "      <td>27</td>\n",
       "      <td>35</td>\n",
       "      <td>27</td>\n",
       "      <td>17</td>\n",
       "      <td>17</td>\n",
       "      <td>...</td>\n",
       "      <td>15</td>\n",
       "      <td>4</td>\n",
       "      <td>20</td>\n",
       "      <td>29</td>\n",
       "      <td>39</td>\n",
       "      <td>17</td>\n",
       "      <td>21</td>\n",
       "      <td>13</td>\n",
       "      <td>2</td>\n",
       "      <td>21</td>\n",
       "    </tr>\n",
       "    <tr>\n",
       "      <th>10</th>\n",
       "      <td>Fase 3</td>\n",
       "      <td>(11) Zona K Calle 26</td>\n",
       "      <td>(06000) Portal Eldorado</td>\n",
       "      <td>(01) PLAT2 ALIM-DESAL FONTIBÓN/FONTIBÓN CENTRO...</td>\n",
       "      <td>04:30:00</td>\n",
       "      <td>49</td>\n",
       "      <td>40</td>\n",
       "      <td>63</td>\n",
       "      <td>45</td>\n",
       "      <td>43</td>\n",
       "      <td>...</td>\n",
       "      <td>44</td>\n",
       "      <td>9</td>\n",
       "      <td>44</td>\n",
       "      <td>57</td>\n",
       "      <td>39</td>\n",
       "      <td>67</td>\n",
       "      <td>48</td>\n",
       "      <td>24</td>\n",
       "      <td>12</td>\n",
       "      <td>54</td>\n",
       "    </tr>\n",
       "    <tr>\n",
       "      <th>...</th>\n",
       "      <td>...</td>\n",
       "      <td>...</td>\n",
       "      <td>...</td>\n",
       "      <td>...</td>\n",
       "      <td>...</td>\n",
       "      <td>...</td>\n",
       "      <td>...</td>\n",
       "      <td>...</td>\n",
       "      <td>...</td>\n",
       "      <td>...</td>\n",
       "      <td>...</td>\n",
       "      <td>...</td>\n",
       "      <td>...</td>\n",
       "      <td>...</td>\n",
       "      <td>...</td>\n",
       "      <td>...</td>\n",
       "      <td>...</td>\n",
       "      <td>...</td>\n",
       "      <td>...</td>\n",
       "      <td>...</td>\n",
       "      <td>...</td>\n",
       "    </tr>\n",
       "    <tr>\n",
       "      <th>43136</th>\n",
       "      <td>Fase 3</td>\n",
       "      <td>(40) Zona T Ciudad Bolívar</td>\n",
       "      <td>(40003) Mirador del Paraiso</td>\n",
       "      <td>(01) Acceso Peatonal</td>\n",
       "      <td>21:00:00</td>\n",
       "      <td>4</td>\n",
       "      <td>10</td>\n",
       "      <td>9</td>\n",
       "      <td>7</td>\n",
       "      <td>17</td>\n",
       "      <td>...</td>\n",
       "      <td>15</td>\n",
       "      <td>4</td>\n",
       "      <td>10</td>\n",
       "      <td>11</td>\n",
       "      <td>10</td>\n",
       "      <td>10</td>\n",
       "      <td>9</td>\n",
       "      <td>31</td>\n",
       "      <td>12</td>\n",
       "      <td>9</td>\n",
       "    </tr>\n",
       "    <tr>\n",
       "      <th>43137</th>\n",
       "      <td>Fase 3</td>\n",
       "      <td>(40) Zona T Ciudad Bolívar</td>\n",
       "      <td>(40003) Mirador del Paraiso</td>\n",
       "      <td>(01) Acceso Peatonal</td>\n",
       "      <td>21:15:00</td>\n",
       "      <td>5</td>\n",
       "      <td>7</td>\n",
       "      <td>5</td>\n",
       "      <td>11</td>\n",
       "      <td>24</td>\n",
       "      <td>...</td>\n",
       "      <td>17</td>\n",
       "      <td>0</td>\n",
       "      <td>6</td>\n",
       "      <td>7</td>\n",
       "      <td>12</td>\n",
       "      <td>22</td>\n",
       "      <td>6</td>\n",
       "      <td>17</td>\n",
       "      <td>0</td>\n",
       "      <td>3</td>\n",
       "    </tr>\n",
       "    <tr>\n",
       "      <th>43138</th>\n",
       "      <td>Fase 3</td>\n",
       "      <td>(40) Zona T Ciudad Bolívar</td>\n",
       "      <td>(40003) Mirador del Paraiso</td>\n",
       "      <td>(01) Acceso Peatonal</td>\n",
       "      <td>21:30:00</td>\n",
       "      <td>3</td>\n",
       "      <td>2</td>\n",
       "      <td>1</td>\n",
       "      <td>5</td>\n",
       "      <td>20</td>\n",
       "      <td>...</td>\n",
       "      <td>11</td>\n",
       "      <td>0</td>\n",
       "      <td>1</td>\n",
       "      <td>9</td>\n",
       "      <td>3</td>\n",
       "      <td>1</td>\n",
       "      <td>6</td>\n",
       "      <td>14</td>\n",
       "      <td>0</td>\n",
       "      <td>10</td>\n",
       "    </tr>\n",
       "    <tr>\n",
       "      <th>43139</th>\n",
       "      <td>Fase 3</td>\n",
       "      <td>(40) Zona T Ciudad Bolívar</td>\n",
       "      <td>(40003) Mirador del Paraiso</td>\n",
       "      <td>(01) Acceso Peatonal</td>\n",
       "      <td>21:45:00</td>\n",
       "      <td>2</td>\n",
       "      <td>3</td>\n",
       "      <td>1</td>\n",
       "      <td>2</td>\n",
       "      <td>20</td>\n",
       "      <td>...</td>\n",
       "      <td>18</td>\n",
       "      <td>0</td>\n",
       "      <td>3</td>\n",
       "      <td>0</td>\n",
       "      <td>7</td>\n",
       "      <td>1</td>\n",
       "      <td>7</td>\n",
       "      <td>3</td>\n",
       "      <td>0</td>\n",
       "      <td>1</td>\n",
       "    </tr>\n",
       "    <tr>\n",
       "      <th>43140</th>\n",
       "      <td>Fase 3</td>\n",
       "      <td>(40) Zona T Ciudad Bolívar</td>\n",
       "      <td>(40003) Mirador del Paraiso</td>\n",
       "      <td>(01) Acceso Peatonal</td>\n",
       "      <td>22:00:00</td>\n",
       "      <td>0</td>\n",
       "      <td>0</td>\n",
       "      <td>0</td>\n",
       "      <td>0</td>\n",
       "      <td>0</td>\n",
       "      <td>...</td>\n",
       "      <td>12</td>\n",
       "      <td>0</td>\n",
       "      <td>0</td>\n",
       "      <td>0</td>\n",
       "      <td>0</td>\n",
       "      <td>0</td>\n",
       "      <td>1</td>\n",
       "      <td>0</td>\n",
       "      <td>0</td>\n",
       "      <td>0</td>\n",
       "    </tr>\n",
       "  </tbody>\n",
       "</table>\n",
       "<p>43135 rows × 33 columns</p>\n",
       "</div>"
      ],
      "text/plain": [
       "         Fase                       Línea                     Estación  \\\n",
       "6      Fase 3        (11) Zona K Calle 26      (06000) Portal Eldorado   \n",
       "7      Fase 3        (11) Zona K Calle 26      (06000) Portal Eldorado   \n",
       "8      Fase 3        (11) Zona K Calle 26      (06000) Portal Eldorado   \n",
       "9      Fase 3        (11) Zona K Calle 26      (06000) Portal Eldorado   \n",
       "10     Fase 3        (11) Zona K Calle 26      (06000) Portal Eldorado   \n",
       "...       ...                         ...                          ...   \n",
       "43136  Fase 3  (40) Zona T Ciudad Bolívar  (40003) Mirador del Paraiso   \n",
       "43137  Fase 3  (40) Zona T Ciudad Bolívar  (40003) Mirador del Paraiso   \n",
       "43138  Fase 3  (40) Zona T Ciudad Bolívar  (40003) Mirador del Paraiso   \n",
       "43139  Fase 3  (40) Zona T Ciudad Bolívar  (40003) Mirador del Paraiso   \n",
       "43140  Fase 3  (40) Zona T Ciudad Bolívar  (40003) Mirador del Paraiso   \n",
       "\n",
       "                                      Acceso de Estación Intervalo 2022-02-01  \\\n",
       "6      (01) PLAT2 ALIM-DESAL FONTIBÓN/FONTIBÓN CENTRO...  00:00:00          0   \n",
       "7      (01) PLAT2 ALIM-DESAL FONTIBÓN/FONTIBÓN CENTRO...  03:45:00          0   \n",
       "8      (01) PLAT2 ALIM-DESAL FONTIBÓN/FONTIBÓN CENTRO...  04:00:00          0   \n",
       "9      (01) PLAT2 ALIM-DESAL FONTIBÓN/FONTIBÓN CENTRO...  04:15:00         27   \n",
       "10     (01) PLAT2 ALIM-DESAL FONTIBÓN/FONTIBÓN CENTRO...  04:30:00         49   \n",
       "...                                                  ...       ...        ...   \n",
       "43136                               (01) Acceso Peatonal  21:00:00          4   \n",
       "43137                               (01) Acceso Peatonal  21:15:00          5   \n",
       "43138                               (01) Acceso Peatonal  21:30:00          3   \n",
       "43139                               (01) Acceso Peatonal  21:45:00          2   \n",
       "43140                               (01) Acceso Peatonal  22:00:00          0   \n",
       "\n",
       "      2022-02-02 2022-02-03 2022-02-04 2022-02-05  ... 2022-02-19 2022-02-20  \\\n",
       "6              0          0          0          0  ...          0          0   \n",
       "7              0          0          0          0  ...          0          1   \n",
       "8              0          0          0          0  ...          0          0   \n",
       "9             35         27         17         17  ...         15          4   \n",
       "10            40         63         45         43  ...         44          9   \n",
       "...          ...        ...        ...        ...  ...        ...        ...   \n",
       "43136         10          9          7         17  ...         15          4   \n",
       "43137          7          5         11         24  ...         17          0   \n",
       "43138          2          1          5         20  ...         11          0   \n",
       "43139          3          1          2         20  ...         18          0   \n",
       "43140          0          0          0          0  ...         12          0   \n",
       "\n",
       "      2022-02-21 2022-02-22 2022-02-23 2022-02-24 2022-02-25 2022-02-26  \\\n",
       "6              0          0          0          0          0          0   \n",
       "7              0          0          0          0          0          0   \n",
       "8              0          0          0          0          0          0   \n",
       "9             20         29         39         17         21         13   \n",
       "10            44         57         39         67         48         24   \n",
       "...          ...        ...        ...        ...        ...        ...   \n",
       "43136         10         11         10         10          9         31   \n",
       "43137          6          7         12         22          6         17   \n",
       "43138          1          9          3          1          6         14   \n",
       "43139          3          0          7          1          7          3   \n",
       "43140          0          0          0          0          1          0   \n",
       "\n",
       "      2022-02-27 2022-02-28  \n",
       "6              0          0  \n",
       "7              0          0  \n",
       "8              0          0  \n",
       "9              2         21  \n",
       "10            12         54  \n",
       "...          ...        ...  \n",
       "43136         12          9  \n",
       "43137          0          3  \n",
       "43138          0         10  \n",
       "43139          0          1  \n",
       "43140          0          0  \n",
       "\n",
       "[43135 rows x 33 columns]"
      ]
     },
     "execution_count": 51,
     "metadata": {},
     "output_type": "execute_result"
    },
    {
     "data": {
      "application/javascript": [
       "\n",
       "            setTimeout(function() {\n",
       "                var nbb_cell_id = 51;\n",
       "                var nbb_unformatted_code = \"excel_type_1\";\n",
       "                var nbb_formatted_code = \"excel_type_1\";\n",
       "                var nbb_cells = Jupyter.notebook.get_cells();\n",
       "                for (var i = 0; i < nbb_cells.length; ++i) {\n",
       "                    if (nbb_cells[i].input_prompt_number == nbb_cell_id) {\n",
       "                        if (nbb_cells[i].get_text() == nbb_unformatted_code) {\n",
       "                             nbb_cells[i].set_text(nbb_formatted_code);\n",
       "                        }\n",
       "                        break;\n",
       "                    }\n",
       "                }\n",
       "            }, 500);\n",
       "            "
      ],
      "text/plain": [
       "<IPython.core.display.Javascript object>"
      ]
     },
     "metadata": {},
     "output_type": "display_data"
    }
   ],
   "source": [
    "excel_type_1.pivot(index)"
   ]
  },
  {
   "cell_type": "code",
   "execution_count": 50,
   "metadata": {},
   "outputs": [
    {
     "data": {
      "text/plain": [
       "datetime.time(0, 0)"
      ]
     },
     "execution_count": 50,
     "metadata": {},
     "output_type": "execute_result"
    },
    {
     "data": {
      "application/javascript": [
       "\n",
       "            setTimeout(function() {\n",
       "                var nbb_cell_id = 50;\n",
       "                var nbb_unformatted_code = \"excel_type_1[\\\"Intervalo\\\"].iloc[0]\";\n",
       "                var nbb_formatted_code = \"excel_type_1[\\\"Intervalo\\\"].iloc[0]\";\n",
       "                var nbb_cells = Jupyter.notebook.get_cells();\n",
       "                for (var i = 0; i < nbb_cells.length; ++i) {\n",
       "                    if (nbb_cells[i].input_prompt_number == nbb_cell_id) {\n",
       "                        if (nbb_cells[i].get_text() == nbb_unformatted_code) {\n",
       "                             nbb_cells[i].set_text(nbb_formatted_code);\n",
       "                        }\n",
       "                        break;\n",
       "                    }\n",
       "                }\n",
       "            }, 500);\n",
       "            "
      ],
      "text/plain": [
       "<IPython.core.display.Javascript object>"
      ]
     },
     "metadata": {},
     "output_type": "display_data"
    }
   ],
   "source": [
    "excel_type_1[\"Intervalo\"].iloc[0]"
   ]
  },
  {
   "cell_type": "code",
   "execution_count": 38,
   "metadata": {},
   "outputs": [
    {
     "data": {
      "text/plain": [
       "<AxesSubplot:>"
      ]
     },
     "execution_count": 38,
     "metadata": {},
     "output_type": "execute_result"
    },
    {
     "data": {
      "image/png": "[encoded data removed]",
      "text/plain": [
       "<Figure size 432x288 with 2 Axes>"
      ]
     },
     "metadata": {
      "needs_background": "light"
     },
     "output_type": "display_data"
    },
    {
     "data": {
      "application/javascript": [
       "\n",
       "            setTimeout(function() {\n",
       "                var nbb_cell_id = 38;\n",
       "                var nbb_unformatted_code = \"sns.heatmap(excel_type_1.isna())\";\n",
       "                var nbb_formatted_code = \"sns.heatmap(excel_type_1.isna())\";\n",
       "                var nbb_cells = Jupyter.notebook.get_cells();\n",
       "                for (var i = 0; i < nbb_cells.length; ++i) {\n",
       "                    if (nbb_cells[i].input_prompt_number == nbb_cell_id) {\n",
       "                        if (nbb_cells[i].get_text() == nbb_unformatted_code) {\n",
       "                             nbb_cells[i].set_text(nbb_formatted_code);\n",
       "                        }\n",
       "                        break;\n",
       "                    }\n",
       "                }\n",
       "            }, 500);\n",
       "            "
      ],
      "text/plain": [
       "<IPython.core.display.Javascript object>"
      ]
     },
     "metadata": {},
     "output_type": "display_data"
    }
   ],
   "source": [
    "sns.heatmap(excel_type_1.isna())"
   ]
  },
  {
   "cell_type": "code",
   "execution_count": null,
   "metadata": {},
   "outputs": [],
   "source": []
  },
  {
   "cell_type": "code",
   "execution_count": 8,
   "metadata": {},
   "outputs": [
    {
     "ename": "InvalidURL",
     "evalue": "URL can't contain control characters. '/validaciones_tmsa/2022/02 TM Resumen de Validaciones Troncales al 28 Feb 2022 Intervalo 15 Mint.xlsx' (found at least ' ')",
     "output_type": "error",
     "traceback": [
      "\u001b[0;31m---------------------------------------------------------------------------\u001b[0m",
      "\u001b[0;31mInvalidURL\u001b[0m                                Traceback (most recent call last)",
      "\u001b[0;32m/var/folders/sy/55_grszs60j_67x7hfzqk8800000gn/T/ipykernel_30348/4138903792.py\u001b[0m in \u001b[0;36m<cell line: 1>\u001b[0;34m()\u001b[0m\n\u001b[0;32m----> 1\u001b[0;31m pd.read_excel(\n\u001b[0m\u001b[1;32m      2\u001b[0m     \u001b[0mBASE_VALIDACIONES_REQUEST\u001b[0m\u001b[0;34m\u001b[0m\u001b[0;34m\u001b[0m\u001b[0m\n\u001b[1;32m      3\u001b[0m     \u001b[0;34m+\u001b[0m \u001b[0;34m\"2022/02 TM Resumen de Validaciones Troncales al 28 Feb 2022 Intervalo 15 Mint.xlsx\"\u001b[0m\u001b[0;34m\u001b[0m\u001b[0;34m\u001b[0m\u001b[0m\n\u001b[1;32m      4\u001b[0m )\n",
      "\u001b[0;32m/opt/anaconda3/envs/transmilenio/lib/python3.8/site-packages/pandas/util/_decorators.py\u001b[0m in \u001b[0;36mwrapper\u001b[0;34m(*args, **kwargs)\u001b[0m\n\u001b[1;32m    309\u001b[0m                     \u001b[0mstacklevel\u001b[0m\u001b[0;34m=\u001b[0m\u001b[0mstacklevel\u001b[0m\u001b[0;34m,\u001b[0m\u001b[0;34m\u001b[0m\u001b[0;34m\u001b[0m\u001b[0m\n\u001b[1;32m    310\u001b[0m                 )\n\u001b[0;32m--> 311\u001b[0;31m             \u001b[0;32mreturn\u001b[0m \u001b[0mfunc\u001b[0m\u001b[0;34m(\u001b[0m\u001b[0;34m*\u001b[0m\u001b[0margs\u001b[0m\u001b[0;34m,\u001b[0m \u001b[0;34m**\u001b[0m\u001b[0mkwargs\u001b[0m\u001b[0;34m)\u001b[0m\u001b[0;34m\u001b[0m\u001b[0;34m\u001b[0m\u001b[0m\n\u001b[0m\u001b[1;32m    312\u001b[0m \u001b[0;34m\u001b[0m\u001b[0m\n\u001b[1;32m    313\u001b[0m         \u001b[0;32mreturn\u001b[0m \u001b[0mwrapper\u001b[0m\u001b[0;34m\u001b[0m\u001b[0;34m\u001b[0m\u001b[0m\n",
      "\u001b[0;32m/opt/anaconda3/envs/transmilenio/lib/python3.8/site-packages/pandas/io/excel/_base.py\u001b[0m in \u001b[0;36mread_excel\u001b[0;34m(io, sheet_name, header, names, index_col, usecols, squeeze, dtype, engine, converters, true_values, false_values, skiprows, nrows, na_values, keep_default_na, na_filter, verbose, parse_dates, date_parser, thousands, comment, skipfooter, convert_float, mangle_dupe_cols, storage_options)\u001b[0m\n\u001b[1;32m    362\u001b[0m     \u001b[0;32mif\u001b[0m \u001b[0;32mnot\u001b[0m \u001b[0misinstance\u001b[0m\u001b[0;34m(\u001b[0m\u001b[0mio\u001b[0m\u001b[0;34m,\u001b[0m \u001b[0mExcelFile\u001b[0m\u001b[0;34m)\u001b[0m\u001b[0;34m:\u001b[0m\u001b[0;34m\u001b[0m\u001b[0;34m\u001b[0m\u001b[0m\n\u001b[1;32m    363\u001b[0m         \u001b[0mshould_close\u001b[0m \u001b[0;34m=\u001b[0m \u001b[0;32mTrue\u001b[0m\u001b[0;34m\u001b[0m\u001b[0;34m\u001b[0m\u001b[0m\n\u001b[0;32m--> 364\u001b[0;31m         \u001b[0mio\u001b[0m \u001b[0;34m=\u001b[0m \u001b[0mExcelFile\u001b[0m\u001b[0;34m(\u001b[0m\u001b[0mio\u001b[0m\u001b[0;34m,\u001b[0m \u001b[0mstorage_options\u001b[0m\u001b[0;34m=\u001b[0m\u001b[0mstorage_options\u001b[0m\u001b[0;34m,\u001b[0m \u001b[0mengine\u001b[0m\u001b[0;34m=\u001b[0m\u001b[0mengine\u001b[0m\u001b[0;34m)\u001b[0m\u001b[0;34m\u001b[0m\u001b[0;34m\u001b[0m\u001b[0m\n\u001b[0m\u001b[1;32m    365\u001b[0m     \u001b[0;32melif\u001b[0m \u001b[0mengine\u001b[0m \u001b[0;32mand\u001b[0m \u001b[0mengine\u001b[0m \u001b[0;34m!=\u001b[0m \u001b[0mio\u001b[0m\u001b[0;34m.\u001b[0m\u001b[0mengine\u001b[0m\u001b[0;34m:\u001b[0m\u001b[0;34m\u001b[0m\u001b[0;34m\u001b[0m\u001b[0m\n\u001b[1;32m    366\u001b[0m         raise ValueError(\n",
      "\u001b[0;32m/opt/anaconda3/envs/transmilenio/lib/python3.8/site-packages/pandas/io/excel/_base.py\u001b[0m in \u001b[0;36m__init__\u001b[0;34m(self, path_or_buffer, engine, storage_options)\u001b[0m\n\u001b[1;32m   1189\u001b[0m                 \u001b[0mext\u001b[0m \u001b[0;34m=\u001b[0m \u001b[0;34m\"xls\"\u001b[0m\u001b[0;34m\u001b[0m\u001b[0;34m\u001b[0m\u001b[0m\n\u001b[1;32m   1190\u001b[0m             \u001b[0;32melse\u001b[0m\u001b[0;34m:\u001b[0m\u001b[0;34m\u001b[0m\u001b[0;34m\u001b[0m\u001b[0m\n\u001b[0;32m-> 1191\u001b[0;31m                 ext = inspect_excel_format(\n\u001b[0m\u001b[1;32m   1192\u001b[0m                     \u001b[0mcontent_or_path\u001b[0m\u001b[0;34m=\u001b[0m\u001b[0mpath_or_buffer\u001b[0m\u001b[0;34m,\u001b[0m \u001b[0mstorage_options\u001b[0m\u001b[0;34m=\u001b[0m\u001b[0mstorage_options\u001b[0m\u001b[0;34m\u001b[0m\u001b[0;34m\u001b[0m\u001b[0m\n\u001b[1;32m   1193\u001b[0m                 )\n",
      "\u001b[0;32m/opt/anaconda3/envs/transmilenio/lib/python3.8/site-packages/pandas/io/excel/_base.py\u001b[0m in \u001b[0;36minspect_excel_format\u001b[0;34m(content_or_path, storage_options)\u001b[0m\n\u001b[1;32m   1068\u001b[0m         \u001b[0mcontent_or_path\u001b[0m \u001b[0;34m=\u001b[0m \u001b[0mBytesIO\u001b[0m\u001b[0;34m(\u001b[0m\u001b[0mcontent_or_path\u001b[0m\u001b[0;34m)\u001b[0m\u001b[0;34m\u001b[0m\u001b[0;34m\u001b[0m\u001b[0m\n\u001b[1;32m   1069\u001b[0m \u001b[0;34m\u001b[0m\u001b[0m\n\u001b[0;32m-> 1070\u001b[0;31m     with get_handle(\n\u001b[0m\u001b[1;32m   1071\u001b[0m         \u001b[0mcontent_or_path\u001b[0m\u001b[0;34m,\u001b[0m \u001b[0;34m\"rb\"\u001b[0m\u001b[0;34m,\u001b[0m \u001b[0mstorage_options\u001b[0m\u001b[0;34m=\u001b[0m\u001b[0mstorage_options\u001b[0m\u001b[0;34m,\u001b[0m \u001b[0mis_text\u001b[0m\u001b[0;34m=\u001b[0m\u001b[0;32mFalse\u001b[0m\u001b[0;34m\u001b[0m\u001b[0;34m\u001b[0m\u001b[0m\n\u001b[1;32m   1072\u001b[0m     ) as handle:\n",
      "\u001b[0;32m/opt/anaconda3/envs/transmilenio/lib/python3.8/site-packages/pandas/io/common.py\u001b[0m in \u001b[0;36mget_handle\u001b[0;34m(path_or_buf, mode, encoding, compression, memory_map, is_text, errors, storage_options)\u001b[0m\n\u001b[1;32m    607\u001b[0m \u001b[0;34m\u001b[0m\u001b[0m\n\u001b[1;32m    608\u001b[0m     \u001b[0;31m# open URLs\u001b[0m\u001b[0;34m\u001b[0m\u001b[0;34m\u001b[0m\u001b[0;34m\u001b[0m\u001b[0m\n\u001b[0;32m--> 609\u001b[0;31m     ioargs = _get_filepath_or_buffer(\n\u001b[0m\u001b[1;32m    610\u001b[0m         \u001b[0mpath_or_buf\u001b[0m\u001b[0;34m,\u001b[0m\u001b[0;34m\u001b[0m\u001b[0;34m\u001b[0m\u001b[0m\n\u001b[1;32m    611\u001b[0m         \u001b[0mencoding\u001b[0m\u001b[0;34m=\u001b[0m\u001b[0mencoding\u001b[0m\u001b[0;34m,\u001b[0m\u001b[0;34m\u001b[0m\u001b[0;34m\u001b[0m\u001b[0m\n",
      "\u001b[0;32m/opt/anaconda3/envs/transmilenio/lib/python3.8/site-packages/pandas/io/common.py\u001b[0m in \u001b[0;36m_get_filepath_or_buffer\u001b[0;34m(filepath_or_buffer, encoding, compression, mode, storage_options)\u001b[0m\n\u001b[1;32m    310\u001b[0m         \u001b[0;31m# assuming storage_options is to be interpreted as headers\u001b[0m\u001b[0;34m\u001b[0m\u001b[0;34m\u001b[0m\u001b[0;34m\u001b[0m\u001b[0m\n\u001b[1;32m    311\u001b[0m         \u001b[0mreq_info\u001b[0m \u001b[0;34m=\u001b[0m \u001b[0murllib\u001b[0m\u001b[0;34m.\u001b[0m\u001b[0mrequest\u001b[0m\u001b[0;34m.\u001b[0m\u001b[0mRequest\u001b[0m\u001b[0;34m(\u001b[0m\u001b[0mfilepath_or_buffer\u001b[0m\u001b[0;34m,\u001b[0m \u001b[0mheaders\u001b[0m\u001b[0;34m=\u001b[0m\u001b[0mstorage_options\u001b[0m\u001b[0;34m)\u001b[0m\u001b[0;34m\u001b[0m\u001b[0;34m\u001b[0m\u001b[0m\n\u001b[0;32m--> 312\u001b[0;31m         \u001b[0;32mwith\u001b[0m \u001b[0murlopen\u001b[0m\u001b[0;34m(\u001b[0m\u001b[0mreq_info\u001b[0m\u001b[0;34m)\u001b[0m \u001b[0;32mas\u001b[0m \u001b[0mreq\u001b[0m\u001b[0;34m:\u001b[0m\u001b[0;34m\u001b[0m\u001b[0;34m\u001b[0m\u001b[0m\n\u001b[0m\u001b[1;32m    313\u001b[0m             \u001b[0mcontent_encoding\u001b[0m \u001b[0;34m=\u001b[0m \u001b[0mreq\u001b[0m\u001b[0;34m.\u001b[0m\u001b[0mheaders\u001b[0m\u001b[0;34m.\u001b[0m\u001b[0mget\u001b[0m\u001b[0;34m(\u001b[0m\u001b[0;34m\"Content-Encoding\"\u001b[0m\u001b[0;34m,\u001b[0m \u001b[0;32mNone\u001b[0m\u001b[0;34m)\u001b[0m\u001b[0;34m\u001b[0m\u001b[0;34m\u001b[0m\u001b[0m\n\u001b[1;32m    314\u001b[0m             \u001b[0;32mif\u001b[0m \u001b[0mcontent_encoding\u001b[0m \u001b[0;34m==\u001b[0m \u001b[0;34m\"gzip\"\u001b[0m\u001b[0;34m:\u001b[0m\u001b[0;34m\u001b[0m\u001b[0;34m\u001b[0m\u001b[0m\n",
      "\u001b[0;32m/opt/anaconda3/envs/transmilenio/lib/python3.8/site-packages/pandas/io/common.py\u001b[0m in \u001b[0;36murlopen\u001b[0;34m(*args, **kwargs)\u001b[0m\n\u001b[1;32m    210\u001b[0m     \u001b[0;32mimport\u001b[0m \u001b[0murllib\u001b[0m\u001b[0;34m.\u001b[0m\u001b[0mrequest\u001b[0m\u001b[0;34m\u001b[0m\u001b[0;34m\u001b[0m\u001b[0m\n\u001b[1;32m    211\u001b[0m \u001b[0;34m\u001b[0m\u001b[0m\n\u001b[0;32m--> 212\u001b[0;31m     \u001b[0;32mreturn\u001b[0m \u001b[0murllib\u001b[0m\u001b[0;34m.\u001b[0m\u001b[0mrequest\u001b[0m\u001b[0;34m.\u001b[0m\u001b[0murlopen\u001b[0m\u001b[0;34m(\u001b[0m\u001b[0;34m*\u001b[0m\u001b[0margs\u001b[0m\u001b[0;34m,\u001b[0m \u001b[0;34m**\u001b[0m\u001b[0mkwargs\u001b[0m\u001b[0;34m)\u001b[0m\u001b[0;34m\u001b[0m\u001b[0;34m\u001b[0m\u001b[0m\n\u001b[0m\u001b[1;32m    213\u001b[0m \u001b[0;34m\u001b[0m\u001b[0m\n\u001b[1;32m    214\u001b[0m \u001b[0;34m\u001b[0m\u001b[0m\n",
      "\u001b[0;32m/opt/anaconda3/envs/transmilenio/lib/python3.8/urllib/request.py\u001b[0m in \u001b[0;36murlopen\u001b[0;34m(url, data, timeout, cafile, capath, cadefault, context)\u001b[0m\n\u001b[1;32m    220\u001b[0m     \u001b[0;32melse\u001b[0m\u001b[0;34m:\u001b[0m\u001b[0;34m\u001b[0m\u001b[0;34m\u001b[0m\u001b[0m\n\u001b[1;32m    221\u001b[0m         \u001b[0mopener\u001b[0m \u001b[0;34m=\u001b[0m \u001b[0m_opener\u001b[0m\u001b[0;34m\u001b[0m\u001b[0;34m\u001b[0m\u001b[0m\n\u001b[0;32m--> 222\u001b[0;31m     \u001b[0;32mreturn\u001b[0m \u001b[0mopener\u001b[0m\u001b[0;34m.\u001b[0m\u001b[0mopen\u001b[0m\u001b[0;34m(\u001b[0m\u001b[0murl\u001b[0m\u001b[0;34m,\u001b[0m \u001b[0mdata\u001b[0m\u001b[0;34m,\u001b[0m \u001b[0mtimeout\u001b[0m\u001b[0;34m)\u001b[0m\u001b[0;34m\u001b[0m\u001b[0;34m\u001b[0m\u001b[0m\n\u001b[0m\u001b[1;32m    223\u001b[0m \u001b[0;34m\u001b[0m\u001b[0m\n\u001b[1;32m    224\u001b[0m \u001b[0;32mdef\u001b[0m \u001b[0minstall_opener\u001b[0m\u001b[0;34m(\u001b[0m\u001b[0mopener\u001b[0m\u001b[0;34m)\u001b[0m\u001b[0;34m:\u001b[0m\u001b[0;34m\u001b[0m\u001b[0;34m\u001b[0m\u001b[0m\n",
      "\u001b[0;32m/opt/anaconda3/envs/transmilenio/lib/python3.8/urllib/request.py\u001b[0m in \u001b[0;36mopen\u001b[0;34m(self, fullurl, data, timeout)\u001b[0m\n\u001b[1;32m    523\u001b[0m \u001b[0;34m\u001b[0m\u001b[0m\n\u001b[1;32m    524\u001b[0m         \u001b[0msys\u001b[0m\u001b[0;34m.\u001b[0m\u001b[0maudit\u001b[0m\u001b[0;34m(\u001b[0m\u001b[0;34m'urllib.Request'\u001b[0m\u001b[0;34m,\u001b[0m \u001b[0mreq\u001b[0m\u001b[0;34m.\u001b[0m\u001b[0mfull_url\u001b[0m\u001b[0;34m,\u001b[0m \u001b[0mreq\u001b[0m\u001b[0;34m.\u001b[0m\u001b[0mdata\u001b[0m\u001b[0;34m,\u001b[0m \u001b[0mreq\u001b[0m\u001b[0;34m.\u001b[0m\u001b[0mheaders\u001b[0m\u001b[0;34m,\u001b[0m \u001b[0mreq\u001b[0m\u001b[0;34m.\u001b[0m\u001b[0mget_method\u001b[0m\u001b[0;34m(\u001b[0m\u001b[0;34m)\u001b[0m\u001b[0;34m)\u001b[0m\u001b[0;34m\u001b[0m\u001b[0;34m\u001b[0m\u001b[0m\n\u001b[0;32m--> 525\u001b[0;31m         \u001b[0mresponse\u001b[0m \u001b[0;34m=\u001b[0m \u001b[0mself\u001b[0m\u001b[0;34m.\u001b[0m\u001b[0m_open\u001b[0m\u001b[0;34m(\u001b[0m\u001b[0mreq\u001b[0m\u001b[0;34m,\u001b[0m \u001b[0mdata\u001b[0m\u001b[0;34m)\u001b[0m\u001b[0;34m\u001b[0m\u001b[0;34m\u001b[0m\u001b[0m\n\u001b[0m\u001b[1;32m    526\u001b[0m \u001b[0;34m\u001b[0m\u001b[0m\n\u001b[1;32m    527\u001b[0m         \u001b[0;31m# post-process response\u001b[0m\u001b[0;34m\u001b[0m\u001b[0;34m\u001b[0m\u001b[0;34m\u001b[0m\u001b[0m\n",
      "\u001b[0;32m/opt/anaconda3/envs/transmilenio/lib/python3.8/urllib/request.py\u001b[0m in \u001b[0;36m_open\u001b[0;34m(self, req, data)\u001b[0m\n\u001b[1;32m    540\u001b[0m \u001b[0;34m\u001b[0m\u001b[0m\n\u001b[1;32m    541\u001b[0m         \u001b[0mprotocol\u001b[0m \u001b[0;34m=\u001b[0m \u001b[0mreq\u001b[0m\u001b[0;34m.\u001b[0m\u001b[0mtype\u001b[0m\u001b[0;34m\u001b[0m\u001b[0;34m\u001b[0m\u001b[0m\n\u001b[0;32m--> 542\u001b[0;31m         result = self._call_chain(self.handle_open, protocol, protocol +\n\u001b[0m\u001b[1;32m    543\u001b[0m                                   '_open', req)\n\u001b[1;32m    544\u001b[0m         \u001b[0;32mif\u001b[0m \u001b[0mresult\u001b[0m\u001b[0;34m:\u001b[0m\u001b[0;34m\u001b[0m\u001b[0;34m\u001b[0m\u001b[0m\n",
      "\u001b[0;32m/opt/anaconda3/envs/transmilenio/lib/python3.8/urllib/request.py\u001b[0m in \u001b[0;36m_call_chain\u001b[0;34m(self, chain, kind, meth_name, *args)\u001b[0m\n\u001b[1;32m    500\u001b[0m         \u001b[0;32mfor\u001b[0m \u001b[0mhandler\u001b[0m \u001b[0;32min\u001b[0m \u001b[0mhandlers\u001b[0m\u001b[0;34m:\u001b[0m\u001b[0;34m\u001b[0m\u001b[0;34m\u001b[0m\u001b[0m\n\u001b[1;32m    501\u001b[0m             \u001b[0mfunc\u001b[0m \u001b[0;34m=\u001b[0m \u001b[0mgetattr\u001b[0m\u001b[0;34m(\u001b[0m\u001b[0mhandler\u001b[0m\u001b[0;34m,\u001b[0m \u001b[0mmeth_name\u001b[0m\u001b[0;34m)\u001b[0m\u001b[0;34m\u001b[0m\u001b[0;34m\u001b[0m\u001b[0m\n\u001b[0;32m--> 502\u001b[0;31m             \u001b[0mresult\u001b[0m \u001b[0;34m=\u001b[0m \u001b[0mfunc\u001b[0m\u001b[0;34m(\u001b[0m\u001b[0;34m*\u001b[0m\u001b[0margs\u001b[0m\u001b[0;34m)\u001b[0m\u001b[0;34m\u001b[0m\u001b[0;34m\u001b[0m\u001b[0m\n\u001b[0m\u001b[1;32m    503\u001b[0m             \u001b[0;32mif\u001b[0m \u001b[0mresult\u001b[0m \u001b[0;32mis\u001b[0m \u001b[0;32mnot\u001b[0m \u001b[0;32mNone\u001b[0m\u001b[0;34m:\u001b[0m\u001b[0;34m\u001b[0m\u001b[0;34m\u001b[0m\u001b[0m\n\u001b[1;32m    504\u001b[0m                 \u001b[0;32mreturn\u001b[0m \u001b[0mresult\u001b[0m\u001b[0;34m\u001b[0m\u001b[0;34m\u001b[0m\u001b[0m\n",
      "\u001b[0;32m/opt/anaconda3/envs/transmilenio/lib/python3.8/urllib/request.py\u001b[0m in \u001b[0;36mhttps_open\u001b[0;34m(self, req)\u001b[0m\n\u001b[1;32m   1358\u001b[0m \u001b[0;34m\u001b[0m\u001b[0m\n\u001b[1;32m   1359\u001b[0m         \u001b[0;32mdef\u001b[0m \u001b[0mhttps_open\u001b[0m\u001b[0;34m(\u001b[0m\u001b[0mself\u001b[0m\u001b[0;34m,\u001b[0m \u001b[0mreq\u001b[0m\u001b[0;34m)\u001b[0m\u001b[0;34m:\u001b[0m\u001b[0;34m\u001b[0m\u001b[0;34m\u001b[0m\u001b[0m\n\u001b[0;32m-> 1360\u001b[0;31m             return self.do_open(http.client.HTTPSConnection, req,\n\u001b[0m\u001b[1;32m   1361\u001b[0m                 context=self._context, check_hostname=self._check_hostname)\n\u001b[1;32m   1362\u001b[0m \u001b[0;34m\u001b[0m\u001b[0m\n",
      "\u001b[0;32m/opt/anaconda3/envs/transmilenio/lib/python3.8/urllib/request.py\u001b[0m in \u001b[0;36mdo_open\u001b[0;34m(self, http_class, req, **http_conn_args)\u001b[0m\n\u001b[1;32m   1315\u001b[0m         \u001b[0;32mtry\u001b[0m\u001b[0;34m:\u001b[0m\u001b[0;34m\u001b[0m\u001b[0;34m\u001b[0m\u001b[0m\n\u001b[1;32m   1316\u001b[0m             \u001b[0;32mtry\u001b[0m\u001b[0;34m:\u001b[0m\u001b[0;34m\u001b[0m\u001b[0;34m\u001b[0m\u001b[0m\n\u001b[0;32m-> 1317\u001b[0;31m                 h.request(req.get_method(), req.selector, req.data, headers,\n\u001b[0m\u001b[1;32m   1318\u001b[0m                           encode_chunked=req.has_header('Transfer-encoding'))\n\u001b[1;32m   1319\u001b[0m             \u001b[0;32mexcept\u001b[0m \u001b[0mOSError\u001b[0m \u001b[0;32mas\u001b[0m \u001b[0merr\u001b[0m\u001b[0;34m:\u001b[0m \u001b[0;31m# timeout error\u001b[0m\u001b[0;34m\u001b[0m\u001b[0;34m\u001b[0m\u001b[0m\n",
      "\u001b[0;32m/opt/anaconda3/envs/transmilenio/lib/python3.8/http/client.py\u001b[0m in \u001b[0;36mrequest\u001b[0;34m(self, method, url, body, headers, encode_chunked)\u001b[0m\n\u001b[1;32m   1228\u001b[0m                 encode_chunked=False):\n\u001b[1;32m   1229\u001b[0m         \u001b[0;34m\"\"\"Send a complete request to the server.\"\"\"\u001b[0m\u001b[0;34m\u001b[0m\u001b[0;34m\u001b[0m\u001b[0m\n\u001b[0;32m-> 1230\u001b[0;31m         \u001b[0mself\u001b[0m\u001b[0;34m.\u001b[0m\u001b[0m_send_request\u001b[0m\u001b[0;34m(\u001b[0m\u001b[0mmethod\u001b[0m\u001b[0;34m,\u001b[0m \u001b[0murl\u001b[0m\u001b[0;34m,\u001b[0m \u001b[0mbody\u001b[0m\u001b[0;34m,\u001b[0m \u001b[0mheaders\u001b[0m\u001b[0;34m,\u001b[0m \u001b[0mencode_chunked\u001b[0m\u001b[0;34m)\u001b[0m\u001b[0;34m\u001b[0m\u001b[0;34m\u001b[0m\u001b[0m\n\u001b[0m\u001b[1;32m   1231\u001b[0m \u001b[0;34m\u001b[0m\u001b[0m\n\u001b[1;32m   1232\u001b[0m     \u001b[0;32mdef\u001b[0m \u001b[0m_send_request\u001b[0m\u001b[0;34m(\u001b[0m\u001b[0mself\u001b[0m\u001b[0;34m,\u001b[0m \u001b[0mmethod\u001b[0m\u001b[0;34m,\u001b[0m \u001b[0murl\u001b[0m\u001b[0;34m,\u001b[0m \u001b[0mbody\u001b[0m\u001b[0;34m,\u001b[0m \u001b[0mheaders\u001b[0m\u001b[0;34m,\u001b[0m \u001b[0mencode_chunked\u001b[0m\u001b[0;34m)\u001b[0m\u001b[0;34m:\u001b[0m\u001b[0;34m\u001b[0m\u001b[0;34m\u001b[0m\u001b[0m\n",
      "\u001b[0;32m/opt/anaconda3/envs/transmilenio/lib/python3.8/http/client.py\u001b[0m in \u001b[0;36m_send_request\u001b[0;34m(self, method, url, body, headers, encode_chunked)\u001b[0m\n\u001b[1;32m   1239\u001b[0m             \u001b[0mskips\u001b[0m\u001b[0;34m[\u001b[0m\u001b[0;34m'skip_accept_encoding'\u001b[0m\u001b[0;34m]\u001b[0m \u001b[0;34m=\u001b[0m \u001b[0;36m1\u001b[0m\u001b[0;34m\u001b[0m\u001b[0;34m\u001b[0m\u001b[0m\n\u001b[1;32m   1240\u001b[0m \u001b[0;34m\u001b[0m\u001b[0m\n\u001b[0;32m-> 1241\u001b[0;31m         \u001b[0mself\u001b[0m\u001b[0;34m.\u001b[0m\u001b[0mputrequest\u001b[0m\u001b[0;34m(\u001b[0m\u001b[0mmethod\u001b[0m\u001b[0;34m,\u001b[0m \u001b[0murl\u001b[0m\u001b[0;34m,\u001b[0m \u001b[0;34m**\u001b[0m\u001b[0mskips\u001b[0m\u001b[0;34m)\u001b[0m\u001b[0;34m\u001b[0m\u001b[0;34m\u001b[0m\u001b[0m\n\u001b[0m\u001b[1;32m   1242\u001b[0m \u001b[0;34m\u001b[0m\u001b[0m\n\u001b[1;32m   1243\u001b[0m         \u001b[0;31m# chunked encoding will happen if HTTP/1.1 is used and either\u001b[0m\u001b[0;34m\u001b[0m\u001b[0;34m\u001b[0m\u001b[0;34m\u001b[0m\u001b[0m\n",
      "\u001b[0;32m/opt/anaconda3/envs/transmilenio/lib/python3.8/http/client.py\u001b[0m in \u001b[0;36mputrequest\u001b[0;34m(self, method, url, skip_host, skip_accept_encoding)\u001b[0m\n\u001b[1;32m   1090\u001b[0m \u001b[0;34m\u001b[0m\u001b[0m\n\u001b[1;32m   1091\u001b[0m         \u001b[0murl\u001b[0m \u001b[0;34m=\u001b[0m \u001b[0murl\u001b[0m \u001b[0;32mor\u001b[0m \u001b[0;34m'/'\u001b[0m\u001b[0;34m\u001b[0m\u001b[0;34m\u001b[0m\u001b[0m\n\u001b[0;32m-> 1092\u001b[0;31m         \u001b[0mself\u001b[0m\u001b[0;34m.\u001b[0m\u001b[0m_validate_path\u001b[0m\u001b[0;34m(\u001b[0m\u001b[0murl\u001b[0m\u001b[0;34m)\u001b[0m\u001b[0;34m\u001b[0m\u001b[0;34m\u001b[0m\u001b[0m\n\u001b[0m\u001b[1;32m   1093\u001b[0m \u001b[0;34m\u001b[0m\u001b[0m\n\u001b[1;32m   1094\u001b[0m         \u001b[0mrequest\u001b[0m \u001b[0;34m=\u001b[0m \u001b[0;34m'%s %s %s'\u001b[0m \u001b[0;34m%\u001b[0m \u001b[0;34m(\u001b[0m\u001b[0mmethod\u001b[0m\u001b[0;34m,\u001b[0m \u001b[0murl\u001b[0m\u001b[0;34m,\u001b[0m \u001b[0mself\u001b[0m\u001b[0;34m.\u001b[0m\u001b[0m_http_vsn_str\u001b[0m\u001b[0;34m)\u001b[0m\u001b[0;34m\u001b[0m\u001b[0;34m\u001b[0m\u001b[0m\n",
      "\u001b[0;32m/opt/anaconda3/envs/transmilenio/lib/python3.8/http/client.py\u001b[0m in \u001b[0;36m_validate_path\u001b[0;34m(self, url)\u001b[0m\n\u001b[1;32m   1181\u001b[0m         \u001b[0mmatch\u001b[0m \u001b[0;34m=\u001b[0m \u001b[0m_contains_disallowed_url_pchar_re\u001b[0m\u001b[0;34m.\u001b[0m\u001b[0msearch\u001b[0m\u001b[0;34m(\u001b[0m\u001b[0murl\u001b[0m\u001b[0;34m)\u001b[0m\u001b[0;34m\u001b[0m\u001b[0;34m\u001b[0m\u001b[0m\n\u001b[1;32m   1182\u001b[0m         \u001b[0;32mif\u001b[0m \u001b[0mmatch\u001b[0m\u001b[0;34m:\u001b[0m\u001b[0;34m\u001b[0m\u001b[0;34m\u001b[0m\u001b[0m\n\u001b[0;32m-> 1183\u001b[0;31m             raise InvalidURL(f\"URL can't contain control characters. {url!r} \"\n\u001b[0m\u001b[1;32m   1184\u001b[0m                              f\"(found at least {match.group()!r})\")\n\u001b[1;32m   1185\u001b[0m \u001b[0;34m\u001b[0m\u001b[0m\n",
      "\u001b[0;31mInvalidURL\u001b[0m: URL can't contain control characters. '/validaciones_tmsa/2022/02 TM Resumen de Validaciones Troncales al 28 Feb 2022 Intervalo 15 Mint.xlsx' (found at least ' ')"
     ]
    },
    {
     "data": {
      "application/javascript": [
       "\n",
       "            setTimeout(function() {\n",
       "                var nbb_cell_id = 8;\n",
       "                var nbb_unformatted_code = \"pd.read_excel(\\n    BASE_VALIDACIONES_REQUEST\\n    + \\\"2022/02 TM Resumen de Validaciones Troncales al 28 Feb 2022 Intervalo 15 Mint.xlsx\\\"\\n)\";\n",
       "                var nbb_formatted_code = \"pd.read_excel(\\n    BASE_VALIDACIONES_REQUEST\\n    + \\\"2022/02 TM Resumen de Validaciones Troncales al 28 Feb 2022 Intervalo 15 Mint.xlsx\\\"\\n)\";\n",
       "                var nbb_cells = Jupyter.notebook.get_cells();\n",
       "                for (var i = 0; i < nbb_cells.length; ++i) {\n",
       "                    if (nbb_cells[i].input_prompt_number == nbb_cell_id) {\n",
       "                        if (nbb_cells[i].get_text() == nbb_unformatted_code) {\n",
       "                             nbb_cells[i].set_text(nbb_formatted_code);\n",
       "                        }\n",
       "                        break;\n",
       "                    }\n",
       "                }\n",
       "            }, 500);\n",
       "            "
      ],
      "text/plain": [
       "<IPython.core.display.Javascript object>"
      ]
     },
     "metadata": {},
     "output_type": "display_data"
    }
   ],
   "source": [
    "pd.read_excel(\n",
    "    BASE_VALIDACIONES_REQUEST\n",
    "    + \"2022/02 TM Resumen de Validaciones Troncales al 28 Feb 2022 Intervalo 15 Mint.xlsx\"\n",
    ")"
   ]
  },
  {
   "cell_type": "code",
   "execution_count": null,
   "metadata": {},
   "outputs": [],
   "source": []
  },
  {
   "cell_type": "code",
   "execution_count": null,
   "metadata": {},
   "outputs": [],
   "source": []
  },
  {
   "cell_type": "code",
   "execution_count": null,
   "metadata": {},
   "outputs": [],
   "source": []
  },
  {
   "cell_type": "code",
   "execution_count": null,
   "metadata": {},
   "outputs": [],
   "source": [
    "\n",
    "http_response = urlopen(url)\n",
    "zipfile = ZipFile(BytesIO(http_response.read()))\n",
    "zipfile.extractall(path=extract_to)"
   ]
  },
  {
   "cell_type": "code",
   "execution_count": null,
   "metadata": {},
   "outputs": [],
   "source": [
    "\n",
    "def download_and_unzip(url, extract_to='.'):"
   ]
  }
 ],
 "metadata": {
  "kernelspec": {
   "display_name": "transmi",
   "language": "python",
   "name": "python3"
  },
  "language_info": {
   "codemirror_mode": {
    "name": "ipython",
    "version": 3
   },
   "file_extension": ".py",
   "mimetype": "text/x-python",
   "name": "python",
   "nbconvert_exporter": "python",
   "pygments_lexer": "ipython3",
   "version": "3.8.0"
  }
 },
 "nbformat": 4,
 "nbformat_minor": 2
}
