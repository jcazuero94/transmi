{
 "cells": [
  {
   "cell_type": "code",
   "execution_count": 1,
   "metadata": {},
   "outputs": [],
   "source": [
    "import pandas as pd\n",
    "import numpy as np\n",
    "import matplotlib.pyplot as plt\n",
    "import datetime"
   ]
  },
  {
   "cell_type": "code",
   "execution_count": 2,
   "metadata": {},
   "outputs": [
    {
     "name": "stdout",
     "output_type": "stream",
     "text": [
      "2022-04-06 10:01:28,449 - kedro.framework.session.store - INFO - `read()` not implemented for `BaseSessionStore`. Assuming empty store.\n"
     ]
    },
    {
     "name": "stderr",
     "output_type": "stream",
     "text": [
      "/opt/anaconda3/envs/transmilenio/lib/python3.8/site-packages/kedro/framework/context/context.py:32: DeprecationWarning: Accessing package_name via the context will be deprecated in Kedro 0.18.0.\n",
      "  warn(\n"
     ]
    },
    {
     "name": "stdout",
     "output_type": "stream",
     "text": [
      "2022-04-06 10:01:28,533 - kedro.config.config - INFO - Config from path `/Users/juanazuero/Documents/Transporte/Transmilenio/transmi/conf/local` will override the following existing top-level config keys: dic_estacion_linea_int, dic_estacion_linea_raw, validaciones_troncal, validaciones_troncal_log_int, validaciones_troncal_log_raw, validaciones_troncal_zip_log_int, validaciones_troncal_zip_log_raw\n",
      "2022-04-06 10:01:28,538 - root - INFO - ** Kedro project transmi\n",
      "2022-04-06 10:01:28,539 - root - INFO - Defined global variable `context`, `session`, `catalog` and `pipelines`\n",
      "2022-04-06 10:01:28,547 - root - INFO - Registered line magic `run_viz`\n",
      "2022-04-06 10:01:28,600 - blib2to3.pgen2.driver - INFO - Generating grammar tables from /opt/anaconda3/envs/transmilenio/lib/python3.8/site-packages/blib2to3/Grammar.txt\n",
      "2022-04-06 10:01:28,621 - blib2to3.pgen2.driver - INFO - Writing grammar tables to /Users/juanazuero/Library/Caches/black/20.8b1/Grammar3.8.0.final.0.pickle\n",
      "2022-04-06 10:01:28,621 - blib2to3.pgen2.driver - INFO - Writing failed: [Errno 2] No such file or directory: '/Users/juanazuero/Library/Caches/black/20.8b1/tmpo49kc3zx'\n",
      "2022-04-06 10:01:28,622 - blib2to3.pgen2.driver - INFO - Generating grammar tables from /opt/anaconda3/envs/transmilenio/lib/python3.8/site-packages/blib2to3/PatternGrammar.txt\n",
      "2022-04-06 10:01:28,624 - blib2to3.pgen2.driver - INFO - Writing grammar tables to /Users/juanazuero/Library/Caches/black/20.8b1/PatternGrammar3.8.0.final.0.pickle\n",
      "2022-04-06 10:01:28,625 - blib2to3.pgen2.driver - INFO - Writing failed: [Errno 2] No such file or directory: '/Users/juanazuero/Library/Caches/black/20.8b1/tmp7wc8hdws'\n"
     ]
    },
    {
     "data": {
      "application/javascript": [
       "\n",
       "            setTimeout(function() {\n",
       "                var nbb_cell_id = 2;\n",
       "                var nbb_unformatted_code = \"%matplotlib inline\\n%reload_kedro\\n%load_ext nb_black\";\n",
       "                var nbb_formatted_code = \"%matplotlib inline\\n%reload_kedro\\n%load_ext nb_black\";\n",
       "                var nbb_cells = Jupyter.notebook.get_cells();\n",
       "                for (var i = 0; i < nbb_cells.length; ++i) {\n",
       "                    if (nbb_cells[i].input_prompt_number == nbb_cell_id) {\n",
       "                        if (nbb_cells[i].get_text() == nbb_unformatted_code) {\n",
       "                             nbb_cells[i].set_text(nbb_formatted_code);\n",
       "                        }\n",
       "                        break;\n",
       "                    }\n",
       "                }\n",
       "            }, 500);\n",
       "            "
      ],
      "text/plain": [
       "<IPython.core.display.Javascript object>"
      ]
     },
     "metadata": {},
     "output_type": "display_data"
    }
   ],
   "source": [
    "%matplotlib inline\n",
    "%reload_kedro\n",
    "%load_ext nb_black"
   ]
  },
  {
   "cell_type": "code",
   "execution_count": 3,
   "metadata": {},
   "outputs": [
    {
     "data": {
      "application/javascript": [
       "\n",
       "            setTimeout(function() {\n",
       "                var nbb_cell_id = 3;\n",
       "                var nbb_unformatted_code = \"BASE_VALIDACIONES_REQUEST = \\\"https://storage.googleapis.com/validaciones_tmsa/\\\"\";\n",
       "                var nbb_formatted_code = \"BASE_VALIDACIONES_REQUEST = \\\"https://storage.googleapis.com/validaciones_tmsa/\\\"\";\n",
       "                var nbb_cells = Jupyter.notebook.get_cells();\n",
       "                for (var i = 0; i < nbb_cells.length; ++i) {\n",
       "                    if (nbb_cells[i].input_prompt_number == nbb_cell_id) {\n",
       "                        if (nbb_cells[i].get_text() == nbb_unformatted_code) {\n",
       "                             nbb_cells[i].set_text(nbb_formatted_code);\n",
       "                        }\n",
       "                        break;\n",
       "                    }\n",
       "                }\n",
       "            }, 500);\n",
       "            "
      ],
      "text/plain": [
       "<IPython.core.display.Javascript object>"
      ]
     },
     "metadata": {},
     "output_type": "display_data"
    }
   ],
   "source": [
    "BASE_VALIDACIONES_REQUEST = \"https://storage.googleapis.com/validaciones_tmsa/\""
   ]
  },
  {
   "cell_type": "code",
   "execution_count": 7,
   "metadata": {},
   "outputs": [
    {
     "name": "stdout",
     "output_type": "stream",
     "text": [
      "2022-04-06 10:48:44,240 - kedro.io.data_catalog - INFO - Loading data from `links_data_transmi` (CSVDataSet)...\n"
     ]
    },
    {
     "data": {
      "application/javascript": [
       "\n",
       "            setTimeout(function() {\n",
       "                var nbb_cell_id = 7;\n",
       "                var nbb_unformatted_code = \"links_data_transmi = catalog.load(\\\"links_data_transmi\\\")\";\n",
       "                var nbb_formatted_code = \"links_data_transmi = catalog.load(\\\"links_data_transmi\\\")\";\n",
       "                var nbb_cells = Jupyter.notebook.get_cells();\n",
       "                for (var i = 0; i < nbb_cells.length; ++i) {\n",
       "                    if (nbb_cells[i].input_prompt_number == nbb_cell_id) {\n",
       "                        if (nbb_cells[i].get_text() == nbb_unformatted_code) {\n",
       "                             nbb_cells[i].set_text(nbb_formatted_code);\n",
       "                        }\n",
       "                        break;\n",
       "                    }\n",
       "                }\n",
       "            }, 500);\n",
       "            "
      ],
      "text/plain": [
       "<IPython.core.display.Javascript object>"
      ]
     },
     "metadata": {},
     "output_type": "display_data"
    }
   ],
   "source": [
    "links_data_transmi = catalog.load(\"links_data_transmi\")"
   ]
  },
  {
   "cell_type": "code",
   "execution_count": 5,
   "metadata": {},
   "outputs": [
    {
     "data": {
      "application/javascript": [
       "\n",
       "            setTimeout(function() {\n",
       "                var nbb_cell_id = 5;\n",
       "                var nbb_unformatted_code = \"from itertools import product\";\n",
       "                var nbb_formatted_code = \"from itertools import product\";\n",
       "                var nbb_cells = Jupyter.notebook.get_cells();\n",
       "                for (var i = 0; i < nbb_cells.length; ++i) {\n",
       "                    if (nbb_cells[i].input_prompt_number == nbb_cell_id) {\n",
       "                        if (nbb_cells[i].get_text() == nbb_unformatted_code) {\n",
       "                             nbb_cells[i].set_text(nbb_formatted_code);\n",
       "                        }\n",
       "                        break;\n",
       "                    }\n",
       "                }\n",
       "            }, 500);\n",
       "            "
      ],
      "text/plain": [
       "<IPython.core.display.Javascript object>"
      ]
     },
     "metadata": {},
     "output_type": "display_data"
    }
   ],
   "source": [
    "from itertools import product"
   ]
  },
  {
   "cell_type": "code",
   "execution_count": null,
   "metadata": {},
   "outputs": [],
   "source": []
  },
  {
   "cell_type": "code",
   "execution_count": 8,
   "metadata": {},
   "outputs": [
    {
     "name": "stdout",
     "output_type": "stream",
     "text": [
      "2022/02%20TM%20Resumen%20de%20Validaciones%20Troncales%20al%2028%20Feb%202022%20Intervalo%2015%20Mint.xlsx\n",
      "2022-04-06 10:48:45.495563\n",
      "2017/TM%20Resumen%20de%20Validaciones%2001%20al%2031%20Diciembre-2017%20cada%2015%20minutos.xlsx\n",
      "2022-04-06 10:49:21.313959\n",
      "2017/TM%20Resumen%20de%20Validaciones%2001%20al%2031%20Agosto-2017%20cada%2015%20minutos.xlsx\n",
      "2022-04-06 10:50:31.987664\n",
      "2017/TM%20Resumen%20de%20Validaciones%2001%20al%2030%20Septiembre-2017%20cada%2015%20minutos.xlsx\n",
      "2022-04-06 10:51:38.810358\n",
      "2017/TM%20Resumen%20de%20Validaciones%2001%20al%2030%20Noviembre-2017%20cada%2015%20minutos.xlsx\n",
      "2022-04-06 10:52:28.108820\n"
     ]
    },
    {
     "data": {
      "application/javascript": [
       "\n",
       "            setTimeout(function() {\n",
       "                var nbb_cell_id = 8;\n",
       "                var nbb_unformatted_code = \"result = None\\n# Iterate over each link or month to extract from the csv in 01_raw\\nsheet_names_list = [\\n    \\\"Validaciones Consolidado\\\",\\n    \\\"VALIDACIONES CONSOLIDADO\\\",\\n    \\\"VALIDACIONES TULLAVE\\\",\\n    \\\"Validaciones Tullave\\\",\\n]\\nfor row in links_data_transmi.iterrows():\\n    link = row[1][\\\"Link\\\"]\\n    link_type = row[1][\\\"Type\\\"]\\n    link = link.replace(\\\" \\\", \\\"%20\\\")\\n    if link_type == 1:\\n        print(link)\\n        print(str(datetime.datetime.today()))\\n        xl = pd.ExcelFile(BASE_VALIDACIONES_REQUEST + \\\"ValidacionTroncal/\\\" + link)\\n        visible_sheets = [\\n            sh.title for sh in xl.book.worksheets if sh.sheet_state == \\\"visible\\\"\\n        ]\\n        sheet = visible_sheets[0]\\n        for sh in sheet_names_list:\\n            if sh in visible_sheets:\\n                sheet = sh\\n                break\\n        excel = xl.parse(sheet)\\n        for i, j in product(range(8), range(8)):\\n            if str(excel.iloc[i, j]).strip() in [\\\"Fase\\\", \\\"Fase 3\\\"]:\\n                start_coord = i, j\\n                break\\n        cols = excel.iloc[start_coord[0], start_coord[1] :].values\\n        cols = [\\n            c.date() if type(c) == datetime.datetime else str(c).strip() for c in cols\\n        ]\\n        excel = excel.iloc[start_coord[0] + 1 :, start_coord[1] :].copy()\\n        excel.columns = cols\\n        excel.rename({\\\"Fase 3\\\": \\\"Fase\\\"}, axis=1, inplace=True)\\n        excel = excel[excel[\\\"Fase\\\"] != \\\"Total general\\\"].copy()\\n        excel.drop([\\\"Total general\\\", \\\"Fase\\\"], axis=1, inplace=True)\\n        excel.dropna(how=\\\"all\\\", inplace=True)\\n        excel.dropna(how=\\\"all\\\", axis=1, inplace=True)\\n        excel_summary = (\\n            excel.drop([\\\"L\\u00ednea\\\", \\\"Acceso de Estaci\\u00f3n\\\"], axis=1)\\n            .groupby([\\\"Estaci\\u00f3n\\\", \\\"Intervalo\\\"])\\n            .sum()\\n        )\\n        excel_summary = excel_summary.reset_index().melt(\\n            id_vars=[\\\"Estaci\\u00f3n\\\", \\\"Intervalo\\\"], var_name=\\\"date\\\", value_name=\\\"demand\\\"\\n        )\\n        result = pd.concat([result, excel_summary], ignore_index=True)\\n\\n        result[\\\"Intervalo\\\"] = result[\\\"Intervalo\\\"].apply(\\n            lambda x: datetime.time(int(x.split(\\\":\\\")[0]), int(x.split(\\\":\\\")[1]))\\n            if type(x) == str\\n            else x\\n        )\\n        result.to_parquet(\\\"prueba.parquet\\\")\";\n",
       "                var nbb_formatted_code = \"result = None\\n# Iterate over each link or month to extract from the csv in 01_raw\\nsheet_names_list = [\\n    \\\"Validaciones Consolidado\\\",\\n    \\\"VALIDACIONES CONSOLIDADO\\\",\\n    \\\"VALIDACIONES TULLAVE\\\",\\n    \\\"Validaciones Tullave\\\",\\n]\\nfor row in links_data_transmi.iterrows():\\n    link = row[1][\\\"Link\\\"]\\n    link_type = row[1][\\\"Type\\\"]\\n    link = link.replace(\\\" \\\", \\\"%20\\\")\\n    if link_type == 1:\\n        print(link)\\n        print(str(datetime.datetime.today()))\\n        xl = pd.ExcelFile(BASE_VALIDACIONES_REQUEST + \\\"ValidacionTroncal/\\\" + link)\\n        visible_sheets = [\\n            sh.title for sh in xl.book.worksheets if sh.sheet_state == \\\"visible\\\"\\n        ]\\n        sheet = visible_sheets[0]\\n        for sh in sheet_names_list:\\n            if sh in visible_sheets:\\n                sheet = sh\\n                break\\n        excel = xl.parse(sheet)\\n        for i, j in product(range(8), range(8)):\\n            if str(excel.iloc[i, j]).strip() in [\\\"Fase\\\", \\\"Fase 3\\\"]:\\n                start_coord = i, j\\n                break\\n        cols = excel.iloc[start_coord[0], start_coord[1] :].values\\n        cols = [\\n            c.date() if type(c) == datetime.datetime else str(c).strip() for c in cols\\n        ]\\n        excel = excel.iloc[start_coord[0] + 1 :, start_coord[1] :].copy()\\n        excel.columns = cols\\n        excel.rename({\\\"Fase 3\\\": \\\"Fase\\\"}, axis=1, inplace=True)\\n        excel = excel[excel[\\\"Fase\\\"] != \\\"Total general\\\"].copy()\\n        excel.drop([\\\"Total general\\\", \\\"Fase\\\"], axis=1, inplace=True)\\n        excel.dropna(how=\\\"all\\\", inplace=True)\\n        excel.dropna(how=\\\"all\\\", axis=1, inplace=True)\\n        excel_summary = (\\n            excel.drop([\\\"L\\u00ednea\\\", \\\"Acceso de Estaci\\u00f3n\\\"], axis=1)\\n            .groupby([\\\"Estaci\\u00f3n\\\", \\\"Intervalo\\\"])\\n            .sum()\\n        )\\n        excel_summary = excel_summary.reset_index().melt(\\n            id_vars=[\\\"Estaci\\u00f3n\\\", \\\"Intervalo\\\"], var_name=\\\"date\\\", value_name=\\\"demand\\\"\\n        )\\n        result = pd.concat([result, excel_summary], ignore_index=True)\\n\\n        result[\\\"Intervalo\\\"] = result[\\\"Intervalo\\\"].apply(\\n            lambda x: datetime.time(int(x.split(\\\":\\\")[0]), int(x.split(\\\":\\\")[1]))\\n            if type(x) == str\\n            else x\\n        )\\n        result.to_parquet(\\\"prueba.parquet\\\")\";\n",
       "                var nbb_cells = Jupyter.notebook.get_cells();\n",
       "                for (var i = 0; i < nbb_cells.length; ++i) {\n",
       "                    if (nbb_cells[i].input_prompt_number == nbb_cell_id) {\n",
       "                        if (nbb_cells[i].get_text() == nbb_unformatted_code) {\n",
       "                             nbb_cells[i].set_text(nbb_formatted_code);\n",
       "                        }\n",
       "                        break;\n",
       "                    }\n",
       "                }\n",
       "            }, 500);\n",
       "            "
      ],
      "text/plain": [
       "<IPython.core.display.Javascript object>"
      ]
     },
     "metadata": {},
     "output_type": "display_data"
    }
   ],
   "source": [
    "result = None\n",
    "# Iterate over each link or month to extract from the csv in 01_raw\n",
    "sheet_names_list = [\n",
    "    \"Validaciones Consolidado\",\n",
    "    \"VALIDACIONES CONSOLIDADO\",\n",
    "    \"VALIDACIONES TULLAVE\",\n",
    "    \"Validaciones Tullave\",\n",
    "]\n",
    "for row in links_data_transmi.iterrows():\n",
    "    link = row[1][\"Link\"]\n",
    "    link_type = row[1][\"Type\"]\n",
    "    link = link.replace(\" \", \"%20\")\n",
    "    if link_type == 1:\n",
    "        print(link)\n",
    "        print(str(datetime.datetime.today()))\n",
    "        xl = pd.ExcelFile(BASE_VALIDACIONES_REQUEST + \"ValidacionTroncal/\" + link)\n",
    "        visible_sheets = [\n",
    "            sh.title for sh in xl.book.worksheets if sh.sheet_state == \"visible\"\n",
    "        ]\n",
    "        sheet = visible_sheets[0]\n",
    "        for sh in sheet_names_list:\n",
    "            if sh in visible_sheets:\n",
    "                sheet = sh\n",
    "                break\n",
    "        excel = xl.parse(sheet)\n",
    "        for i, j in product(range(8), range(8)):\n",
    "            if str(excel.iloc[i, j]).strip() in [\"Fase\", \"Fase 3\"]:\n",
    "                start_coord = i, j\n",
    "                break\n",
    "        cols = excel.iloc[start_coord[0], start_coord[1] :].values\n",
    "        cols = [\n",
    "            c.date() if type(c) == datetime.datetime else str(c).strip() for c in cols\n",
    "        ]\n",
    "        excel = excel.iloc[start_coord[0] + 1 :, start_coord[1] :].copy()\n",
    "        excel.columns = cols\n",
    "        excel.rename({\"Fase 3\": \"Fase\"}, axis=1, inplace=True)\n",
    "        excel = excel[excel[\"Fase\"] != \"Total general\"].copy()\n",
    "        excel.drop([\"Total general\", \"Fase\"], axis=1, inplace=True)\n",
    "        excel.dropna(how=\"all\", inplace=True)\n",
    "        excel.dropna(how=\"all\", axis=1, inplace=True)\n",
    "        excel_summary = (\n",
    "            excel.drop([\"Línea\", \"Acceso de Estación\"], axis=1)\n",
    "            .groupby([\"Estación\", \"Intervalo\"])\n",
    "            .sum()\n",
    "        )\n",
    "        excel_summary = excel_summary.reset_index().melt(\n",
    "            id_vars=[\"Estación\", \"Intervalo\"], var_name=\"date\", value_name=\"demand\"\n",
    "        )\n",
    "        result = pd.concat([result, excel_summary], ignore_index=True)\n",
    "\n",
    "        result[\"Intervalo\"] = result[\"Intervalo\"].apply(\n",
    "            lambda x: datetime.time(int(x.split(\":\")[0]), int(x.split(\":\")[1]))\n",
    "            if type(x) == str\n",
    "            else x\n",
    "        )\n",
    "        result.to_parquet(\"prueba.parquet\")"
   ]
  },
  {
   "cell_type": "code",
   "execution_count": null,
   "metadata": {},
   "outputs": [],
   "source": []
  }
 ],
 "metadata": {
  "kernelspec": {
   "display_name": "transmi",
   "language": "python",
   "name": "python3"
  },
  "language_info": {
   "codemirror_mode": {
    "name": "ipython",
    "version": 3
   },
   "file_extension": ".py",
   "mimetype": "text/x-python",
   "name": "python",
   "nbconvert_exporter": "python",
   "pygments_lexer": "ipython3",
   "version": "3.8.0"
  }
 },
 "nbformat": 4,
 "nbformat_minor": 2
}
